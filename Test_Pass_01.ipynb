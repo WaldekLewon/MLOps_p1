{
 "cells": [
  {
   "cell_type": "markdown",
   "id": "84407b9c",
   "metadata": {},
   "source": [
    "Data set from Kaggle: \n",
    "\n",
    "https://www.kaggle.com/datasets/jayaantanaath/student-habits-vs-academic-performance"
   ]
  },
  {
   "cell_type": "code",
   "execution_count": null,
   "id": "d49ecc06",
   "metadata": {},
   "outputs": [
    {
     "name": "stdout",
     "output_type": "stream",
     "text": [
      "Requirement already satisfied: catboost in c:\\users\\magda\\appdata\\local\\programs\\python\\python311\\lib\\site-packages (1.2.7)\n",
      "Requirement already satisfied: matplotlib in c:\\users\\magda\\appdata\\local\\programs\\python\\python311\\lib\\site-packages (3.10.1)\n",
      "Requirement already satisfied: pandas in c:\\users\\magda\\appdata\\local\\programs\\python\\python311\\lib\\site-packages (2.2.3)\n",
      "Requirement already satisfied: scikit-learn in c:\\users\\magda\\appdata\\local\\programs\\python\\python311\\lib\\site-packages (1.6.1)\n",
      "Requirement already satisfied: kaggle in c:\\users\\magda\\appdata\\local\\programs\\python\\python311\\lib\\site-packages (1.6.17)\n",
      "Requirement already satisfied: optuna in c:\\users\\magda\\appdata\\local\\programs\\python\\python311\\lib\\site-packages (4.2.1)\n",
      "Requirement already satisfied: ipywidgets in c:\\users\\magda\\appdata\\local\\programs\\python\\python311\\lib\\site-packages (8.1.5)\n",
      "Requirement already satisfied: kaleido in c:\\users\\magda\\appdata\\local\\programs\\python\\python311\\lib\\site-packages (0.2.1)\n",
      "Requirement already satisfied: shap in c:\\users\\magda\\appdata\\local\\programs\\python\\python311\\lib\\site-packages (0.47.0)\n",
      "Requirement already satisfied: jupyterlab-rise in c:\\users\\magda\\appdata\\local\\programs\\python\\python311\\lib\\site-packages (0.43.1)\n",
      "Requirement already satisfied: graphviz in c:\\users\\magda\\appdata\\local\\programs\\python\\python311\\lib\\site-packages (from catboost) (0.20.3)\n",
      "Requirement already satisfied: numpy<2.0,>=1.16.0 in c:\\users\\magda\\appdata\\local\\programs\\python\\python311\\lib\\site-packages (from catboost) (1.26.4)\n",
      "Requirement already satisfied: scipy in c:\\users\\magda\\appdata\\local\\programs\\python\\python311\\lib\\site-packages (from catboost) (1.15.2)\n",
      "Requirement already satisfied: plotly in c:\\users\\magda\\appdata\\local\\programs\\python\\python311\\lib\\site-packages (from catboost) (6.0.0)\n",
      "Requirement already satisfied: six in c:\\users\\magda\\appdata\\roaming\\python\\python311\\site-packages (from catboost) (1.17.0)\n",
      "Requirement already satisfied: contourpy>=1.0.1 in c:\\users\\magda\\appdata\\local\\programs\\python\\python311\\lib\\site-packages (from matplotlib) (1.3.1)\n",
      "Requirement already satisfied: cycler>=0.10 in c:\\users\\magda\\appdata\\local\\programs\\python\\python311\\lib\\site-packages (from matplotlib) (0.12.1)\n",
      "Requirement already satisfied: fonttools>=4.22.0 in c:\\users\\magda\\appdata\\local\\programs\\python\\python311\\lib\\site-packages (from matplotlib) (4.56.0)\n",
      "Requirement already satisfied: kiwisolver>=1.3.1 in c:\\users\\magda\\appdata\\local\\programs\\python\\python311\\lib\\site-packages (from matplotlib) (1.4.8)\n",
      "Requirement already satisfied: packaging>=20.0 in c:\\users\\magda\\appdata\\roaming\\python\\python311\\site-packages (from matplotlib) (24.2)\n",
      "Requirement already satisfied: pillow>=8 in c:\\users\\magda\\appdata\\local\\programs\\python\\python311\\lib\\site-packages (from matplotlib) (11.1.0)\n",
      "Requirement already satisfied: pyparsing>=2.3.1 in c:\\users\\magda\\appdata\\local\\programs\\python\\python311\\lib\\site-packages (from matplotlib) (3.2.1)\n",
      "Requirement already satisfied: python-dateutil>=2.7 in c:\\users\\magda\\appdata\\roaming\\python\\python311\\site-packages (from matplotlib) (2.9.0.post0)\n",
      "Requirement already satisfied: pytz>=2020.1 in c:\\users\\magda\\appdata\\local\\programs\\python\\python311\\lib\\site-packages (from pandas) (2025.1)\n",
      "Requirement already satisfied: tzdata>=2022.7 in c:\\users\\magda\\appdata\\local\\programs\\python\\python311\\lib\\site-packages (from pandas) (2025.1)\n",
      "Requirement already satisfied: joblib>=1.2.0 in c:\\users\\magda\\appdata\\local\\programs\\python\\python311\\lib\\site-packages (from scikit-learn) (1.4.2)\n",
      "Requirement already satisfied: threadpoolctl>=3.1.0 in c:\\users\\magda\\appdata\\local\\programs\\python\\python311\\lib\\site-packages (from scikit-learn) (3.5.0)\n",
      "Requirement already satisfied: certifi>=2023.7.22 in c:\\users\\magda\\appdata\\local\\programs\\python\\python311\\lib\\site-packages (from kaggle) (2025.1.31)\n",
      "Requirement already satisfied: requests in c:\\users\\magda\\appdata\\local\\programs\\python\\python311\\lib\\site-packages (from kaggle) (2.32.3)\n",
      "Requirement already satisfied: tqdm in c:\\users\\magda\\appdata\\local\\programs\\python\\python311\\lib\\site-packages (from kaggle) (4.67.1)\n",
      "Requirement already satisfied: python-slugify in c:\\users\\magda\\appdata\\local\\programs\\python\\python311\\lib\\site-packages (from kaggle) (8.0.4)\n",
      "Requirement already satisfied: urllib3 in c:\\users\\magda\\appdata\\local\\programs\\python\\python311\\lib\\site-packages (from kaggle) (2.3.0)\n",
      "Requirement already satisfied: bleach in c:\\users\\magda\\appdata\\local\\programs\\python\\python311\\lib\\site-packages (from kaggle) (6.2.0)\n",
      "Requirement already satisfied: alembic>=1.5.0 in c:\\users\\magda\\appdata\\local\\programs\\python\\python311\\lib\\site-packages (from optuna) (1.15.1)\n",
      "Requirement already satisfied: colorlog in c:\\users\\magda\\appdata\\local\\programs\\python\\python311\\lib\\site-packages (from optuna) (6.9.0)\n",
      "Requirement already satisfied: sqlalchemy>=1.4.2 in c:\\users\\magda\\appdata\\local\\programs\\python\\python311\\lib\\site-packages (from optuna) (2.0.38)\n",
      "Requirement already satisfied: PyYAML in c:\\users\\magda\\appdata\\local\\programs\\python\\python311\\lib\\site-packages (from optuna) (6.0.2)\n",
      "Requirement already satisfied: comm>=0.1.3 in c:\\users\\magda\\appdata\\roaming\\python\\python311\\site-packages (from ipywidgets) (0.2.2)\n",
      "Requirement already satisfied: ipython>=6.1.0 in c:\\users\\magda\\appdata\\roaming\\python\\python311\\site-packages (from ipywidgets) (9.0.1)\n",
      "Requirement already satisfied: traitlets>=4.3.1 in c:\\users\\magda\\appdata\\roaming\\python\\python311\\site-packages (from ipywidgets) (5.14.3)\n",
      "Requirement already satisfied: widgetsnbextension~=4.0.12 in c:\\users\\magda\\appdata\\local\\programs\\python\\python311\\lib\\site-packages (from ipywidgets) (4.0.13)\n",
      "Requirement already satisfied: jupyterlab-widgets~=3.0.12 in c:\\users\\magda\\appdata\\local\\programs\\python\\python311\\lib\\site-packages (from ipywidgets) (3.0.13)\n",
      "Requirement already satisfied: slicer==0.0.8 in c:\\users\\magda\\appdata\\local\\programs\\python\\python311\\lib\\site-packages (from shap) (0.0.8)\n",
      "Requirement already satisfied: numba>=0.54 in c:\\users\\magda\\appdata\\local\\programs\\python\\python311\\lib\\site-packages (from shap) (0.61.0)\n",
      "Requirement already satisfied: cloudpickle in c:\\users\\magda\\appdata\\local\\programs\\python\\python311\\lib\\site-packages (from shap) (3.1.1)\n",
      "Requirement already satisfied: typing-extensions in c:\\users\\magda\\appdata\\roaming\\python\\python311\\site-packages (from shap) (4.12.2)\n",
      "Requirement already satisfied: jupyter-server<3,>=2.0.1 in c:\\users\\magda\\appdata\\local\\programs\\python\\python311\\lib\\site-packages (from jupyterlab-rise) (2.15.0)\n",
      "Requirement already satisfied: jupyterlab-mathjax3 in c:\\users\\magda\\appdata\\local\\programs\\python\\python311\\lib\\site-packages (from jupyterlab-rise) (4.3.0)\n",
      "Requirement already satisfied: jupyterlab<5,>=4.1.0 in c:\\users\\magda\\appdata\\local\\programs\\python\\python311\\lib\\site-packages (from jupyterlab-rise) (4.3.5)\n",
      "Requirement already satisfied: Mako in c:\\users\\magda\\appdata\\local\\programs\\python\\python311\\lib\\site-packages (from alembic>=1.5.0->optuna) (1.3.9)\n",
      "Requirement already satisfied: colorama in c:\\users\\magda\\appdata\\roaming\\python\\python311\\site-packages (from ipython>=6.1.0->ipywidgets) (0.4.6)\n",
      "Requirement already satisfied: decorator in c:\\users\\magda\\appdata\\roaming\\python\\python311\\site-packages (from ipython>=6.1.0->ipywidgets) (5.2.1)\n",
      "Requirement already satisfied: ipython-pygments-lexers in c:\\users\\magda\\appdata\\roaming\\python\\python311\\site-packages (from ipython>=6.1.0->ipywidgets) (1.1.1)\n",
      "Requirement already satisfied: jedi>=0.16 in c:\\users\\magda\\appdata\\roaming\\python\\python311\\site-packages (from ipython>=6.1.0->ipywidgets) (0.19.2)\n",
      "Requirement already satisfied: matplotlib-inline in c:\\users\\magda\\appdata\\roaming\\python\\python311\\site-packages (from ipython>=6.1.0->ipywidgets) (0.1.7)\n",
      "Requirement already satisfied: prompt_toolkit<3.1.0,>=3.0.41 in c:\\users\\magda\\appdata\\roaming\\python\\python311\\site-packages (from ipython>=6.1.0->ipywidgets) (3.0.50)\n",
      "Requirement already satisfied: pygments>=2.4.0 in c:\\users\\magda\\appdata\\roaming\\python\\python311\\site-packages (from ipython>=6.1.0->ipywidgets) (2.19.1)\n",
      "Requirement already satisfied: stack_data in c:\\users\\magda\\appdata\\roaming\\python\\python311\\site-packages (from ipython>=6.1.0->ipywidgets) (0.6.3)\n",
      "Requirement already satisfied: anyio>=3.1.0 in c:\\users\\magda\\appdata\\local\\programs\\python\\python311\\lib\\site-packages (from jupyter-server<3,>=2.0.1->jupyterlab-rise) (4.8.0)\n",
      "Requirement already satisfied: argon2-cffi>=21.1 in c:\\users\\magda\\appdata\\local\\programs\\python\\python311\\lib\\site-packages (from jupyter-server<3,>=2.0.1->jupyterlab-rise) (23.1.0)\n",
      "Requirement already satisfied: jinja2>=3.0.3 in c:\\users\\magda\\appdata\\local\\programs\\python\\python311\\lib\\site-packages (from jupyter-server<3,>=2.0.1->jupyterlab-rise) (3.1.6)\n",
      "Requirement already satisfied: jupyter-client>=7.4.4 in c:\\users\\magda\\appdata\\roaming\\python\\python311\\site-packages (from jupyter-server<3,>=2.0.1->jupyterlab-rise) (8.6.3)\n",
      "Requirement already satisfied: jupyter-core!=5.0.*,>=4.12 in c:\\users\\magda\\appdata\\roaming\\python\\python311\\site-packages (from jupyter-server<3,>=2.0.1->jupyterlab-rise) (5.7.2)\n",
      "Requirement already satisfied: jupyter-events>=0.11.0 in c:\\users\\magda\\appdata\\local\\programs\\python\\python311\\lib\\site-packages (from jupyter-server<3,>=2.0.1->jupyterlab-rise) (0.12.0)\n",
      "Requirement already satisfied: jupyter-server-terminals>=0.4.4 in c:\\users\\magda\\appdata\\local\\programs\\python\\python311\\lib\\site-packages (from jupyter-server<3,>=2.0.1->jupyterlab-rise) (0.5.3)\n",
      "Requirement already satisfied: nbconvert>=6.4.4 in c:\\users\\magda\\appdata\\local\\programs\\python\\python311\\lib\\site-packages (from jupyter-server<3,>=2.0.1->jupyterlab-rise) (7.16.6)\n",
      "Requirement already satisfied: nbformat>=5.3.0 in c:\\users\\magda\\appdata\\local\\programs\\python\\python311\\lib\\site-packages (from jupyter-server<3,>=2.0.1->jupyterlab-rise) (5.10.4)\n",
      "Requirement already satisfied: overrides>=5.0 in c:\\users\\magda\\appdata\\local\\programs\\python\\python311\\lib\\site-packages (from jupyter-server<3,>=2.0.1->jupyterlab-rise) (7.7.0)\n",
      "Requirement already satisfied: prometheus-client>=0.9 in c:\\users\\magda\\appdata\\local\\programs\\python\\python311\\lib\\site-packages (from jupyter-server<3,>=2.0.1->jupyterlab-rise) (0.21.1)\n",
      "Requirement already satisfied: pywinpty>=2.0.1 in c:\\users\\magda\\appdata\\local\\programs\\python\\python311\\lib\\site-packages (from jupyter-server<3,>=2.0.1->jupyterlab-rise) (2.0.15)\n",
      "Requirement already satisfied: pyzmq>=24 in c:\\users\\magda\\appdata\\roaming\\python\\python311\\site-packages (from jupyter-server<3,>=2.0.1->jupyterlab-rise) (26.2.1)\n",
      "Requirement already satisfied: send2trash>=1.8.2 in c:\\users\\magda\\appdata\\local\\programs\\python\\python311\\lib\\site-packages (from jupyter-server<3,>=2.0.1->jupyterlab-rise) (1.8.3)\n",
      "Requirement already satisfied: terminado>=0.8.3 in c:\\users\\magda\\appdata\\local\\programs\\python\\python311\\lib\\site-packages (from jupyter-server<3,>=2.0.1->jupyterlab-rise) (0.18.1)\n",
      "Requirement already satisfied: tornado>=6.2.0 in c:\\users\\magda\\appdata\\roaming\\python\\python311\\site-packages (from jupyter-server<3,>=2.0.1->jupyterlab-rise) (6.4.2)\n",
      "Requirement already satisfied: websocket-client>=1.7 in c:\\users\\magda\\appdata\\local\\programs\\python\\python311\\lib\\site-packages (from jupyter-server<3,>=2.0.1->jupyterlab-rise) (1.8.0)\n",
      "Requirement already satisfied: async-lru>=1.0.0 in c:\\users\\magda\\appdata\\local\\programs\\python\\python311\\lib\\site-packages (from jupyterlab<5,>=4.1.0->jupyterlab-rise) (2.0.4)\n",
      "Requirement already satisfied: httpx>=0.25.0 in c:\\users\\magda\\appdata\\local\\programs\\python\\python311\\lib\\site-packages (from jupyterlab<5,>=4.1.0->jupyterlab-rise) (0.28.1)\n",
      "Requirement already satisfied: ipykernel>=6.5.0 in c:\\users\\magda\\appdata\\roaming\\python\\python311\\site-packages (from jupyterlab<5,>=4.1.0->jupyterlab-rise) (6.29.5)\n",
      "Requirement already satisfied: jupyter-lsp>=2.0.0 in c:\\users\\magda\\appdata\\local\\programs\\python\\python311\\lib\\site-packages (from jupyterlab<5,>=4.1.0->jupyterlab-rise) (2.2.5)\n",
      "Requirement already satisfied: jupyterlab-server<3,>=2.27.1 in c:\\users\\magda\\appdata\\local\\programs\\python\\python311\\lib\\site-packages (from jupyterlab<5,>=4.1.0->jupyterlab-rise) (2.27.3)\n",
      "Requirement already satisfied: notebook-shim>=0.2 in c:\\users\\magda\\appdata\\local\\programs\\python\\python311\\lib\\site-packages (from jupyterlab<5,>=4.1.0->jupyterlab-rise) (0.2.4)\n",
      "Requirement already satisfied: setuptools>=40.8.0 in c:\\users\\magda\\appdata\\local\\programs\\python\\python311\\lib\\site-packages (from jupyterlab<5,>=4.1.0->jupyterlab-rise) (65.5.0)\n",
      "Requirement already satisfied: llvmlite<0.45,>=0.44.0dev0 in c:\\users\\magda\\appdata\\local\\programs\\python\\python311\\lib\\site-packages (from numba>=0.54->shap) (0.44.0)\n",
      "Requirement already satisfied: greenlet!=0.4.17 in c:\\users\\magda\\appdata\\local\\programs\\python\\python311\\lib\\site-packages (from sqlalchemy>=1.4.2->optuna) (3.1.1)\n",
      "Requirement already satisfied: webencodings in c:\\users\\magda\\appdata\\local\\programs\\python\\python311\\lib\\site-packages (from bleach->kaggle) (0.5.1)\n",
      "Requirement already satisfied: narwhals>=1.15.1 in c:\\users\\magda\\appdata\\local\\programs\\python\\python311\\lib\\site-packages (from plotly->catboost) (1.29.1)\n",
      "Requirement already satisfied: text-unidecode>=1.3 in c:\\users\\magda\\appdata\\local\\programs\\python\\python311\\lib\\site-packages (from python-slugify->kaggle) (1.3)\n",
      "Requirement already satisfied: charset-normalizer<4,>=2 in c:\\users\\magda\\appdata\\local\\programs\\python\\python311\\lib\\site-packages (from requests->kaggle) (3.4.1)\n",
      "Requirement already satisfied: idna<4,>=2.5 in c:\\users\\magda\\appdata\\local\\programs\\python\\python311\\lib\\site-packages (from requests->kaggle) (3.10)\n",
      "Requirement already satisfied: sniffio>=1.1 in c:\\users\\magda\\appdata\\local\\programs\\python\\python311\\lib\\site-packages (from anyio>=3.1.0->jupyter-server<3,>=2.0.1->jupyterlab-rise) (1.3.1)\n",
      "Requirement already satisfied: argon2-cffi-bindings in c:\\users\\magda\\appdata\\local\\programs\\python\\python311\\lib\\site-packages (from argon2-cffi>=21.1->jupyter-server<3,>=2.0.1->jupyterlab-rise) (21.2.0)\n",
      "Requirement already satisfied: httpcore==1.* in c:\\users\\magda\\appdata\\local\\programs\\python\\python311\\lib\\site-packages (from httpx>=0.25.0->jupyterlab<5,>=4.1.0->jupyterlab-rise) (1.0.7)\n",
      "Requirement already satisfied: h11<0.15,>=0.13 in c:\\users\\magda\\appdata\\local\\programs\\python\\python311\\lib\\site-packages (from httpcore==1.*->httpx>=0.25.0->jupyterlab<5,>=4.1.0->jupyterlab-rise) (0.14.0)\n",
      "Requirement already satisfied: debugpy>=1.6.5 in c:\\users\\magda\\appdata\\roaming\\python\\python311\\site-packages (from ipykernel>=6.5.0->jupyterlab<5,>=4.1.0->jupyterlab-rise) (1.8.13)\n",
      "Requirement already satisfied: nest-asyncio in c:\\users\\magda\\appdata\\roaming\\python\\python311\\site-packages (from ipykernel>=6.5.0->jupyterlab<5,>=4.1.0->jupyterlab-rise) (1.6.0)\n",
      "Requirement already satisfied: psutil in c:\\users\\magda\\appdata\\roaming\\python\\python311\\site-packages (from ipykernel>=6.5.0->jupyterlab<5,>=4.1.0->jupyterlab-rise) (7.0.0)\n",
      "Requirement already satisfied: parso<0.9.0,>=0.8.4 in c:\\users\\magda\\appdata\\roaming\\python\\python311\\site-packages (from jedi>=0.16->ipython>=6.1.0->ipywidgets) (0.8.4)\n",
      "Requirement already satisfied: MarkupSafe>=2.0 in c:\\users\\magda\\appdata\\local\\programs\\python\\python311\\lib\\site-packages (from jinja2>=3.0.3->jupyter-server<3,>=2.0.1->jupyterlab-rise) (3.0.2)\n",
      "Requirement already satisfied: platformdirs>=2.5 in c:\\users\\magda\\appdata\\roaming\\python\\python311\\site-packages (from jupyter-core!=5.0.*,>=4.12->jupyter-server<3,>=2.0.1->jupyterlab-rise) (4.3.6)\n",
      "Requirement already satisfied: pywin32>=300 in c:\\users\\magda\\appdata\\roaming\\python\\python311\\site-packages (from jupyter-core!=5.0.*,>=4.12->jupyter-server<3,>=2.0.1->jupyterlab-rise) (308)\n",
      "Requirement already satisfied: jsonschema>=4.18.0 in c:\\users\\magda\\appdata\\local\\programs\\python\\python311\\lib\\site-packages (from jsonschema[format-nongpl]>=4.18.0->jupyter-events>=0.11.0->jupyter-server<3,>=2.0.1->jupyterlab-rise) (4.23.0)\n",
      "Requirement already satisfied: python-json-logger>=2.0.4 in c:\\users\\magda\\appdata\\local\\programs\\python\\python311\\lib\\site-packages (from jupyter-events>=0.11.0->jupyter-server<3,>=2.0.1->jupyterlab-rise) (3.3.0)\n",
      "Requirement already satisfied: referencing in c:\\users\\magda\\appdata\\local\\programs\\python\\python311\\lib\\site-packages (from jupyter-events>=0.11.0->jupyter-server<3,>=2.0.1->jupyterlab-rise) (0.36.2)\n",
      "Requirement already satisfied: rfc3339-validator in c:\\users\\magda\\appdata\\local\\programs\\python\\python311\\lib\\site-packages (from jupyter-events>=0.11.0->jupyter-server<3,>=2.0.1->jupyterlab-rise) (0.1.4)\n",
      "Requirement already satisfied: rfc3986-validator>=0.1.1 in c:\\users\\magda\\appdata\\local\\programs\\python\\python311\\lib\\site-packages (from jupyter-events>=0.11.0->jupyter-server<3,>=2.0.1->jupyterlab-rise) (0.1.1)\n",
      "Requirement already satisfied: babel>=2.10 in c:\\users\\magda\\appdata\\local\\programs\\python\\python311\\lib\\site-packages (from jupyterlab-server<3,>=2.27.1->jupyterlab<5,>=4.1.0->jupyterlab-rise) (2.17.0)\n",
      "Requirement already satisfied: json5>=0.9.0 in c:\\users\\magda\\appdata\\local\\programs\\python\\python311\\lib\\site-packages (from jupyterlab-server<3,>=2.27.1->jupyterlab<5,>=4.1.0->jupyterlab-rise) (0.10.0)\n",
      "Requirement already satisfied: beautifulsoup4 in c:\\users\\magda\\appdata\\local\\programs\\python\\python311\\lib\\site-packages (from nbconvert>=6.4.4->jupyter-server<3,>=2.0.1->jupyterlab-rise) (4.13.3)\n",
      "Requirement already satisfied: defusedxml in c:\\users\\magda\\appdata\\local\\programs\\python\\python311\\lib\\site-packages (from nbconvert>=6.4.4->jupyter-server<3,>=2.0.1->jupyterlab-rise) (0.7.1)\n",
      "Requirement already satisfied: jupyterlab-pygments in c:\\users\\magda\\appdata\\local\\programs\\python\\python311\\lib\\site-packages (from nbconvert>=6.4.4->jupyter-server<3,>=2.0.1->jupyterlab-rise) (0.3.0)\n",
      "Requirement already satisfied: mistune<4,>=2.0.3 in c:\\users\\magda\\appdata\\local\\programs\\python\\python311\\lib\\site-packages (from nbconvert>=6.4.4->jupyter-server<3,>=2.0.1->jupyterlab-rise) (3.1.2)\n",
      "Requirement already satisfied: nbclient>=0.5.0 in c:\\users\\magda\\appdata\\local\\programs\\python\\python311\\lib\\site-packages (from nbconvert>=6.4.4->jupyter-server<3,>=2.0.1->jupyterlab-rise) (0.10.2)\n",
      "Requirement already satisfied: pandocfilters>=1.4.1 in c:\\users\\magda\\appdata\\local\\programs\\python\\python311\\lib\\site-packages (from nbconvert>=6.4.4->jupyter-server<3,>=2.0.1->jupyterlab-rise) (1.5.1)\n",
      "Requirement already satisfied: fastjsonschema>=2.15 in c:\\users\\magda\\appdata\\local\\programs\\python\\python311\\lib\\site-packages (from nbformat>=5.3.0->jupyter-server<3,>=2.0.1->jupyterlab-rise) (2.21.1)\n",
      "Requirement already satisfied: wcwidth in c:\\users\\magda\\appdata\\roaming\\python\\python311\\site-packages (from prompt_toolkit<3.1.0,>=3.0.41->ipython>=6.1.0->ipywidgets) (0.2.13)\n",
      "Requirement already satisfied: executing>=1.2.0 in c:\\users\\magda\\appdata\\roaming\\python\\python311\\site-packages (from stack_data->ipython>=6.1.0->ipywidgets) (2.2.0)\n",
      "Requirement already satisfied: asttokens>=2.1.0 in c:\\users\\magda\\appdata\\roaming\\python\\python311\\site-packages (from stack_data->ipython>=6.1.0->ipywidgets) (3.0.0)\n",
      "Requirement already satisfied: pure-eval in c:\\users\\magda\\appdata\\roaming\\python\\python311\\site-packages (from stack_data->ipython>=6.1.0->ipywidgets) (0.2.3)\n",
      "Requirement already satisfied: tinycss2<1.5,>=1.1.0 in c:\\users\\magda\\appdata\\local\\programs\\python\\python311\\lib\\site-packages (from bleach[css]!=5.0.0->nbconvert>=6.4.4->jupyter-server<3,>=2.0.1->jupyterlab-rise) (1.4.0)\n",
      "Requirement already satisfied: attrs>=22.2.0 in c:\\users\\magda\\appdata\\local\\programs\\python\\python311\\lib\\site-packages (from jsonschema>=4.18.0->jsonschema[format-nongpl]>=4.18.0->jupyter-events>=0.11.0->jupyter-server<3,>=2.0.1->jupyterlab-rise) (25.1.0)\n",
      "Requirement already satisfied: jsonschema-specifications>=2023.03.6 in c:\\users\\magda\\appdata\\local\\programs\\python\\python311\\lib\\site-packages (from jsonschema>=4.18.0->jsonschema[format-nongpl]>=4.18.0->jupyter-events>=0.11.0->jupyter-server<3,>=2.0.1->jupyterlab-rise) (2024.10.1)\n",
      "Requirement already satisfied: rpds-py>=0.7.1 in c:\\users\\magda\\appdata\\local\\programs\\python\\python311\\lib\\site-packages (from jsonschema>=4.18.0->jsonschema[format-nongpl]>=4.18.0->jupyter-events>=0.11.0->jupyter-server<3,>=2.0.1->jupyterlab-rise) (0.23.1)\n",
      "Requirement already satisfied: fqdn in c:\\users\\magda\\appdata\\local\\programs\\python\\python311\\lib\\site-packages (from jsonschema[format-nongpl]>=4.18.0->jupyter-events>=0.11.0->jupyter-server<3,>=2.0.1->jupyterlab-rise) (1.5.1)\n",
      "Requirement already satisfied: isoduration in c:\\users\\magda\\appdata\\local\\programs\\python\\python311\\lib\\site-packages (from jsonschema[format-nongpl]>=4.18.0->jupyter-events>=0.11.0->jupyter-server<3,>=2.0.1->jupyterlab-rise) (20.11.0)\n",
      "Requirement already satisfied: jsonpointer>1.13 in c:\\users\\magda\\appdata\\local\\programs\\python\\python311\\lib\\site-packages (from jsonschema[format-nongpl]>=4.18.0->jupyter-events>=0.11.0->jupyter-server<3,>=2.0.1->jupyterlab-rise) (3.0.0)\n",
      "Requirement already satisfied: uri-template in c:\\users\\magda\\appdata\\local\\programs\\python\\python311\\lib\\site-packages (from jsonschema[format-nongpl]>=4.18.0->jupyter-events>=0.11.0->jupyter-server<3,>=2.0.1->jupyterlab-rise) (1.3.0)\n",
      "Requirement already satisfied: webcolors>=24.6.0 in c:\\users\\magda\\appdata\\local\\programs\\python\\python311\\lib\\site-packages (from jsonschema[format-nongpl]>=4.18.0->jupyter-events>=0.11.0->jupyter-server<3,>=2.0.1->jupyterlab-rise) (24.11.1)\n",
      "Requirement already satisfied: cffi>=1.0.1 in c:\\users\\magda\\appdata\\local\\programs\\python\\python311\\lib\\site-packages (from argon2-cffi-bindings->argon2-cffi>=21.1->jupyter-server<3,>=2.0.1->jupyterlab-rise) (1.17.1)\n",
      "Requirement already satisfied: soupsieve>1.2 in c:\\users\\magda\\appdata\\local\\programs\\python\\python311\\lib\\site-packages (from beautifulsoup4->nbconvert>=6.4.4->jupyter-server<3,>=2.0.1->jupyterlab-rise) (2.6)\n",
      "Requirement already satisfied: pycparser in c:\\users\\magda\\appdata\\local\\programs\\python\\python311\\lib\\site-packages (from cffi>=1.0.1->argon2-cffi-bindings->argon2-cffi>=21.1->jupyter-server<3,>=2.0.1->jupyterlab-rise) (2.22)\n",
      "Requirement already satisfied: arrow>=0.15.0 in c:\\users\\magda\\appdata\\local\\programs\\python\\python311\\lib\\site-packages (from isoduration->jsonschema[format-nongpl]>=4.18.0->jupyter-events>=0.11.0->jupyter-server<3,>=2.0.1->jupyterlab-rise) (1.3.0)\n",
      "Requirement already satisfied: types-python-dateutil>=2.8.10 in c:\\users\\magda\\appdata\\local\\programs\\python\\python311\\lib\\site-packages (from arrow>=0.15.0->isoduration->jsonschema[format-nongpl]>=4.18.0->jupyter-events>=0.11.0->jupyter-server<3,>=2.0.1->jupyterlab-rise) (2.9.0.20241206)\n"
     ]
    },
    {
     "name": "stderr",
     "output_type": "stream",
     "text": [
      "\n",
      "[notice] A new release of pip is available: 25.0.1 -> 25.1.1\n",
      "[notice] To update, run: python.exe -m pip install --upgrade pip\n"
     ]
    }
   ],
   "source": [
    "%pip install catboost matplotlib pandas scikit-learn kaggle optuna ipywidgets kaleido shap jupyterlab-rise"
   ]
  },
  {
   "cell_type": "code",
   "execution_count": 3,
   "id": "e1316834",
   "metadata": {},
   "outputs": [],
   "source": [
    "#!dir ../../../home/vscode"
   ]
  },
  {
   "cell_type": "code",
   "execution_count": 4,
   "id": "d9f9592b",
   "metadata": {},
   "outputs": [],
   "source": [
    "import os\n",
    "from pathlib import Path\n",
    "container_check = os.getenv(\"iscontainer\")\n",
    "if container_check==\"y\":\n",
    "    config_dir = Path(\"/home/vscode/.config/kaggle\")\n",
    "    config_dir.mkdir(parents=True, exist_ok=True)\n",
    "    \n",
    "    with open(config_dir / \"kaggle.json\", \"w\") as dst:\n",
    "        with open(\"./kaggle.json\", \"r\") as src:\n",
    "            dst.write(src.read())"
   ]
  },
  {
   "cell_type": "code",
   "execution_count": 1,
   "id": "b098b3c9",
   "metadata": {},
   "outputs": [
    {
     "name": "stdout",
     "output_type": "stream",
     "text": [
      "Dataset URL: https://www.kaggle.com/datasets/jayaantanaath/student-habits-vs-academic-performance\n"
     ]
    }
   ],
   "source": [
    "import os\n",
    "import zipfile\n",
    "from pathlib import Path\n",
    "from kaggle.api.kaggle_api_extended import KaggleApi\n",
    "\n",
    "api = KaggleApi()\n",
    "api.authenticate()\n",
    "\n",
    "# dataset = \"student-habits-vs-academic-performance\"\n",
    "# dataset_test = \"jayaantanaath/student-habits-vs-academic-performance\"\n",
    "# download_folder = Path(\"data/student-habits-vs-academic-performance\")\n",
    "# zip_path = download_folder / \"student-habits-vs-academic-performance.zip\"\n",
    "# download_folder.mkdir(parents=True, exist_ok=True)\n",
    "\n",
    "# api.competition_download_files(dataset, path=str(download_folder))\n",
    "# api.dataset_download_files(dataset_test, path=str(download_folder), unzip=True)\n",
    "\n",
    "dataset_name = \"jayaantanaath/student-habits-vs-academic-performance\" #tutaj wpisuje baze\n",
    "download_folder = Path(\"data/student-habits-vs-academic-performance\") #tutaj bedzie folder w ktorym bedzie dane\n",
    "download_folder.mkdir(parents=True, exist_ok=True)\n",
    "\n",
    "api.dataset_download_files(dataset_name, path=str(download_folder), unzip=True)\n",
    "\n",
    "\n",
    "# with zipfile.ZipFile(zip_path, \"r\") as zip_ref:\n",
    "#     zip_ref.extractall(str(download_folder))\n",
    "# os.remove(zip_path)"
   ]
  },
  {
   "cell_type": "code",
   "execution_count": 2,
   "id": "fa9e8c6c",
   "metadata": {},
   "outputs": [
    {
     "name": "stdout",
     "output_type": "stream",
     "text": [
      " Volume in drive C has no label.\n",
      " Volume Serial Number is 1AC9-520E\n",
      "\n",
      " Directory of c:\\Users\\Magda\\Desktop\\MLOps_p1\\data\\student-habits-vs-academic-performance\n",
      "\n",
      "16.05.2025  12:35    <DIR>          .\n",
      "16.05.2025  12:35    <DIR>          ..\n",
      "16.05.2025  12:35            73�663 student_habits_performance.csv\n",
      "               1 File(s)         73�663 bytes\n",
      "               2 Dir(s)  179�259�912�192 bytes free\n"
     ]
    }
   ],
   "source": [
    "!dir \"./data/student-habits-vs-academic-performance\""
   ]
  },
  {
   "cell_type": "code",
   "execution_count": 3,
   "id": "55062e4a",
   "metadata": {},
   "outputs": [],
   "source": [
    "import pandas as pd\n",
    "from sklearn.model_selection import train_test_split\n",
    "\n",
    "df = pd.read_csv(download_folder / \"student_habits_performance.csv\")\n",
    "# df_ids = df_train.pop(\"PassengerId\")\n",
    "#df.sample(10)\n",
    "\n",
    "df_train, df_test = train_test_split(df, test_size=0.2, random_state=42)\n"
   ]
  },
  {
   "cell_type": "code",
   "execution_count": 4,
   "id": "3f501358",
   "metadata": {},
   "outputs": [
    {
     "name": "stdout",
     "output_type": "stream",
     "text": [
      "<class 'pandas.core.frame.DataFrame'>\n",
      "Index: 200 entries, 521 to 78\n",
      "Data columns (total 16 columns):\n",
      " #   Column                         Non-Null Count  Dtype  \n",
      "---  ------                         --------------  -----  \n",
      " 0   student_id                     200 non-null    object \n",
      " 1   age                            200 non-null    int64  \n",
      " 2   gender                         200 non-null    object \n",
      " 3   study_hours_per_day            200 non-null    float64\n",
      " 4   social_media_hours             200 non-null    float64\n",
      " 5   netflix_hours                  200 non-null    float64\n",
      " 6   part_time_job                  200 non-null    object \n",
      " 7   attendance_percentage          200 non-null    float64\n",
      " 8   sleep_hours                    200 non-null    float64\n",
      " 9   diet_quality                   200 non-null    object \n",
      " 10  exercise_frequency             200 non-null    int64  \n",
      " 11  parental_education_level       184 non-null    object \n",
      " 12  internet_quality               200 non-null    object \n",
      " 13  mental_health_rating           200 non-null    int64  \n",
      " 14  extracurricular_participation  200 non-null    object \n",
      " 15  exam_score                     200 non-null    float64\n",
      "dtypes: float64(6), int64(3), object(7)\n",
      "memory usage: 26.6+ KB\n"
     ]
    }
   ],
   "source": [
    "df_test.info()"
   ]
  },
  {
   "cell_type": "code",
   "execution_count": 9,
   "id": "22f7b74a",
   "metadata": {},
   "outputs": [
    {
     "name": "stdout",
     "output_type": "stream",
     "text": [
      "<class 'pandas.core.frame.DataFrame'>\n",
      "Index: 800 entries, 29 to 102\n",
      "Data columns (total 16 columns):\n",
      " #   Column                         Non-Null Count  Dtype  \n",
      "---  ------                         --------------  -----  \n",
      " 0   student_id                     800 non-null    object \n",
      " 1   age                            800 non-null    int64  \n",
      " 2   gender                         800 non-null    object \n",
      " 3   study_hours_per_day            800 non-null    float64\n",
      " 4   social_media_hours             800 non-null    float64\n",
      " 5   netflix_hours                  800 non-null    float64\n",
      " 6   part_time_job                  800 non-null    object \n",
      " 7   attendance_percentage          800 non-null    float64\n",
      " 8   sleep_hours                    800 non-null    float64\n",
      " 9   diet_quality                   800 non-null    object \n",
      " 10  exercise_frequency             800 non-null    int64  \n",
      " 11  parental_education_level       725 non-null    object \n",
      " 12  internet_quality               800 non-null    object \n",
      " 13  mental_health_rating           800 non-null    int64  \n",
      " 14  extracurricular_participation  800 non-null    object \n",
      " 15  exam_score                     800 non-null    float64\n",
      "dtypes: float64(6), int64(3), object(7)\n",
      "memory usage: 106.2+ KB\n"
     ]
    }
   ],
   "source": [
    "df_train.info()"
   ]
  },
  {
   "cell_type": "code",
   "execution_count": 36,
   "id": "717e7cfe",
   "metadata": {},
   "outputs": [],
   "source": [
    "y_train = df_train.pop(\"extracurricular_participation\")\n",
    "X_train = df_train\n"
   ]
  },
  {
   "cell_type": "code",
   "execution_count": 37,
   "id": "5a5f52cb",
   "metadata": {},
   "outputs": [],
   "source": [
    "y_test = df_test.pop(\"extracurricular_participation\")\n",
    "X_test = df_test"
   ]
  },
  {
   "cell_type": "code",
   "execution_count": 38,
   "id": "4225e49d",
   "metadata": {},
   "outputs": [
    {
     "name": "stdout",
     "output_type": "stream",
     "text": [
      "<class 'pandas.core.frame.DataFrame'>\n",
      "Index: 800 entries, 29 to 102\n",
      "Data columns (total 8 columns):\n",
      " #   Column                 Non-Null Count  Dtype  \n",
      "---  ------                 --------------  -----  \n",
      " 0   age                    800 non-null    int64  \n",
      " 1   social_media_hours     800 non-null    float64\n",
      " 2   netflix_hours          800 non-null    float64\n",
      " 3   attendance_percentage  800 non-null    float64\n",
      " 4   sleep_hours            800 non-null    float64\n",
      " 5   exercise_frequency     800 non-null    int64  \n",
      " 6   mental_health_rating   800 non-null    int64  \n",
      " 7   exam_score             800 non-null    float64\n",
      "dtypes: float64(5), int64(3)\n",
      "memory usage: 56.2 KB\n"
     ]
    }
   ],
   "source": [
    "X_train.info()"
   ]
  },
  {
   "cell_type": "code",
   "execution_count": 39,
   "id": "4a4e3d21",
   "metadata": {},
   "outputs": [
    {
     "name": "stdout",
     "output_type": "stream",
     "text": [
      "Best Parameters: {'depth': 9, 'learning_rate': 0.1989710549297809, 'iterations': 225, 'l2_leaf_reg': 5.203681083589466, 'bagging_temperature': 0.6748870052060675, 'random_strength': 0.27921747675539976}\n"
     ]
    }
   ],
   "source": [
    "import joblib\n",
    "import optuna\n",
    "from sklearn.model_selection import train_test_split\n",
    "from catboost import CatBoostClassifier, Pool, cv\n",
    "\n",
    "outfolder = Path(\"results\")\n",
    "outfolder.mkdir(parents=True, exist_ok=True)\n",
    "\n",
    "best_params_path = outfolder / \"best_params.pkl\"\n",
    "\n",
    "if not best_params_path.is_file():\n",
    "    X_train_opt, X_val_opt, y_train_opt, y_val_opt = train_test_split(X_train, y_train, test_size=0.5, random_state=42)\n",
    "    \n",
    "    def objective(trial):\n",
    "        params = {\n",
    "            \"depth\": trial.suggest_int(\"depth\", 2, 10),\n",
    "            \"learning_rate\": trial.suggest_float(\"learning_rate\", 1e-4, 0.3),\n",
    "            \"iterations\": trial.suggest_int(\"iterations\", 100, 300),\n",
    "            \"l2_leaf_reg\": trial.suggest_float(\"l2_leaf_reg\", 1e-5, 100.0, log=True),\n",
    "            \"bagging_temperature\": trial.suggest_float(\"bagging_temperature\", 0.01, 1),\n",
    "            \"random_strength\": trial.suggest_float(\"random_strength\", 1e-5, 100.0, log=True)\n",
    "        }\n",
    "        model = CatBoostClassifier(**params, verbose=0)\n",
    "        model.fit(X_train_opt, y_train_opt, eval_set=(X_val_opt, y_val_opt), early_stopping_rounds=50)\n",
    "        return model.get_best_score()[\"validation\"][\"Logloss\"]\n",
    "    study = optuna.create_study(direction=\"minimize\")\n",
    "    study.optimize(objective, n_trials=50)\n",
    "    \n",
    "    joblib.dump(study.best_params, best_params_path)\n",
    "    params = study.best_params\n",
    "else:\n",
    "    params = joblib.load(best_params_path)\n",
    "print(\"Best Parameters:\", params)"
   ]
  },
  {
   "cell_type": "code",
   "execution_count": 40,
   "id": "990ffac7",
   "metadata": {},
   "outputs": [
    {
     "name": "stdout",
     "output_type": "stream",
     "text": [
      "Training on fold [0/5]\n",
      "0:\tlearn: 0.4210526\ttest: 0.1690141\tbest: 0.1690141 (0)\ttotal: 126ms\tremaining: 28.2s\n",
      "1:\tlearn: 0.4863014\ttest: 0.1666667\tbest: 0.1690141 (0)\ttotal: 130ms\tremaining: 14.5s\n",
      "2:\tlearn: 0.5156794\ttest: 0.2028986\tbest: 0.2028986 (2)\ttotal: 135ms\tremaining: 9.99s\n",
      "3:\tlearn: 0.5416667\ttest: 0.1562500\tbest: 0.2028986 (2)\ttotal: 139ms\tremaining: 7.7s\n",
      "4:\tlearn: 0.5177305\ttest: 0.1587302\tbest: 0.2028986 (2)\ttotal: 144ms\tremaining: 6.32s\n",
      "5:\tlearn: 0.5333333\ttest: 0.1269841\tbest: 0.2028986 (2)\ttotal: 148ms\tremaining: 5.4s\n",
      "6:\tlearn: 0.5802048\ttest: 0.1250000\tbest: 0.2028986 (2)\ttotal: 153ms\tremaining: 4.75s\n",
      "7:\tlearn: 0.6751592\ttest: 0.0909091\tbest: 0.2028986 (2)\ttotal: 159ms\tremaining: 4.3s\n",
      "8:\tlearn: 0.7222222\ttest: 0.0615385\tbest: 0.2028986 (2)\ttotal: 164ms\tremaining: 3.94s\n",
      "9:\tlearn: 0.7530120\ttest: 0.1739130\tbest: 0.2028986 (2)\ttotal: 169ms\tremaining: 3.63s\n",
      "10:\tlearn: 0.7976879\ttest: 0.1212121\tbest: 0.2028986 (2)\ttotal: 174ms\tremaining: 3.39s\n",
      "11:\tlearn: 0.8080229\ttest: 0.1515152\tbest: 0.2028986 (2)\ttotal: 179ms\tremaining: 3.17s\n",
      "12:\tlearn: 0.8444444\ttest: 0.1791045\tbest: 0.2028986 (2)\ttotal: 183ms\tremaining: 2.99s\n",
      "13:\tlearn: 0.8695652\ttest: 0.2318841\tbest: 0.2318841 (13)\ttotal: 189ms\tremaining: 2.84s\n",
      "14:\tlearn: 0.8787062\ttest: 0.2058824\tbest: 0.2318841 (13)\ttotal: 194ms\tremaining: 2.71s\n",
      "15:\tlearn: 0.8906667\ttest: 0.2535211\tbest: 0.2535211 (15)\ttotal: 199ms\tremaining: 2.59s\n",
      "16:\tlearn: 0.8960000\ttest: 0.2739726\tbest: 0.2739726 (16)\ttotal: 204ms\tremaining: 2.5s\n",
      "17:\tlearn: 0.9018568\ttest: 0.2702703\tbest: 0.2739726 (16)\ttotal: 209ms\tremaining: 2.4s\n",
      "18:\tlearn: 0.9357326\ttest: 0.3243243\tbest: 0.3243243 (18)\ttotal: 213ms\tremaining: 2.31s\n",
      "19:\tlearn: 0.9465649\ttest: 0.3287671\tbest: 0.3287671 (19)\ttotal: 218ms\tremaining: 2.24s\n",
      "20:\tlearn: 0.9465649\ttest: 0.3466667\tbest: 0.3466667 (20)\ttotal: 224ms\tremaining: 2.17s\n",
      "21:\tlearn: 0.9650000\ttest: 0.3055556\tbest: 0.3466667 (20)\ttotal: 228ms\tremaining: 2.11s\n",
      "22:\tlearn: 0.9701493\ttest: 0.2777778\tbest: 0.3466667 (20)\ttotal: 233ms\tremaining: 2.05s\n",
      "23:\tlearn: 0.9727047\ttest: 0.3200000\tbest: 0.3466667 (20)\ttotal: 237ms\tremaining: 1.99s\n",
      "24:\tlearn: 0.9828010\ttest: 0.2972973\tbest: 0.3466667 (20)\ttotal: 242ms\tremaining: 1.94s\n",
      "25:\tlearn: 0.9852941\ttest: 0.3291139\tbest: 0.3466667 (20)\ttotal: 247ms\tremaining: 1.89s\n",
      "26:\tlearn: 0.9852941\ttest: 0.3116883\tbest: 0.3466667 (20)\ttotal: 252ms\tremaining: 1.85s\n",
      "27:\tlearn: 0.9902439\ttest: 0.2933333\tbest: 0.3466667 (20)\ttotal: 256ms\tremaining: 1.8s\n",
      "28:\tlearn: 0.9951456\ttest: 0.2894737\tbest: 0.3466667 (20)\ttotal: 261ms\tremaining: 1.76s\n",
      "29:\tlearn: 0.9951220\ttest: 0.3037975\tbest: 0.3466667 (20)\ttotal: 266ms\tremaining: 1.73s\n",
      "30:\tlearn: 1.0000000\ttest: 0.3116883\tbest: 0.3466667 (20)\ttotal: 271ms\tremaining: 1.7s\n",
      "31:\tlearn: 1.0000000\ttest: 0.3209877\tbest: 0.3466667 (20)\ttotal: 275ms\tremaining: 1.66s\n",
      "32:\tlearn: 1.0000000\ttest: 0.3037975\tbest: 0.3466667 (20)\ttotal: 279ms\tremaining: 1.63s\n",
      "33:\tlearn: 1.0000000\ttest: 0.3076923\tbest: 0.3466667 (20)\ttotal: 284ms\tremaining: 1.59s\n",
      "34:\tlearn: 1.0000000\ttest: 0.3209877\tbest: 0.3466667 (20)\ttotal: 289ms\tremaining: 1.57s\n",
      "35:\tlearn: 1.0000000\ttest: 0.3414634\tbest: 0.3466667 (20)\ttotal: 291ms\tremaining: 1.52s\n",
      "36:\tlearn: 1.0000000\ttest: 0.3414634\tbest: 0.3466667 (20)\ttotal: 295ms\tremaining: 1.5s\n",
      "37:\tlearn: 1.0000000\ttest: 0.3456790\tbest: 0.3466667 (20)\ttotal: 301ms\tremaining: 1.48s\n",
      "38:\tlearn: 1.0000000\ttest: 0.3456790\tbest: 0.3466667 (20)\ttotal: 307ms\tremaining: 1.47s\n",
      "39:\tlearn: 1.0000000\ttest: 0.3414634\tbest: 0.3466667 (20)\ttotal: 313ms\tremaining: 1.45s\n",
      "40:\tlearn: 1.0000000\ttest: 0.3170732\tbest: 0.3466667 (20)\ttotal: 318ms\tremaining: 1.43s\n",
      "41:\tlearn: 1.0000000\ttest: 0.2750000\tbest: 0.3466667 (20)\ttotal: 324ms\tremaining: 1.41s\n",
      "42:\tlearn: 1.0000000\ttest: 0.2750000\tbest: 0.3466667 (20)\ttotal: 329ms\tremaining: 1.39s\n",
      "43:\tlearn: 1.0000000\ttest: 0.2962963\tbest: 0.3466667 (20)\ttotal: 336ms\tremaining: 1.38s\n",
      "44:\tlearn: 1.0000000\ttest: 0.3037975\tbest: 0.3466667 (20)\ttotal: 342ms\tremaining: 1.37s\n",
      "45:\tlearn: 1.0000000\ttest: 0.3037975\tbest: 0.3466667 (20)\ttotal: 347ms\tremaining: 1.35s\n",
      "46:\tlearn: 1.0000000\ttest: 0.3037975\tbest: 0.3466667 (20)\ttotal: 352ms\tremaining: 1.33s\n",
      "47:\tlearn: 1.0000000\ttest: 0.3000000\tbest: 0.3466667 (20)\ttotal: 357ms\tremaining: 1.31s\n",
      "48:\tlearn: 1.0000000\ttest: 0.2784810\tbest: 0.3466667 (20)\ttotal: 361ms\tremaining: 1.3s\n",
      "49:\tlearn: 1.0000000\ttest: 0.2631579\tbest: 0.3466667 (20)\ttotal: 367ms\tremaining: 1.28s\n",
      "50:\tlearn: 1.0000000\ttest: 0.2564103\tbest: 0.3466667 (20)\ttotal: 372ms\tremaining: 1.27s\n",
      "51:\tlearn: 1.0000000\ttest: 0.2820513\tbest: 0.3466667 (20)\ttotal: 377ms\tremaining: 1.25s\n",
      "52:\tlearn: 1.0000000\ttest: 0.3170732\tbest: 0.3466667 (20)\ttotal: 382ms\tremaining: 1.24s\n",
      "53:\tlearn: 1.0000000\ttest: 0.3170732\tbest: 0.3466667 (20)\ttotal: 386ms\tremaining: 1.22s\n",
      "54:\tlearn: 1.0000000\ttest: 0.2962963\tbest: 0.3466667 (20)\ttotal: 391ms\tremaining: 1.21s\n",
      "55:\tlearn: 1.0000000\ttest: 0.3209877\tbest: 0.3466667 (20)\ttotal: 398ms\tremaining: 1.2s\n",
      "56:\tlearn: 1.0000000\ttest: 0.3209877\tbest: 0.3466667 (20)\ttotal: 402ms\tremaining: 1.19s\n",
      "57:\tlearn: 1.0000000\ttest: 0.3132530\tbest: 0.3466667 (20)\ttotal: 407ms\tremaining: 1.17s\n",
      "58:\tlearn: 1.0000000\ttest: 0.3132530\tbest: 0.3466667 (20)\ttotal: 412ms\tremaining: 1.16s\n",
      "59:\tlearn: 1.0000000\ttest: 0.3132530\tbest: 0.3466667 (20)\ttotal: 416ms\tremaining: 1.15s\n",
      "60:\tlearn: 1.0000000\ttest: 0.3132530\tbest: 0.3466667 (20)\ttotal: 421ms\tremaining: 1.13s\n",
      "61:\tlearn: 1.0000000\ttest: 0.3132530\tbest: 0.3466667 (20)\ttotal: 425ms\tremaining: 1.12s\n",
      "62:\tlearn: 1.0000000\ttest: 0.3170732\tbest: 0.3466667 (20)\ttotal: 430ms\tremaining: 1.11s\n",
      "63:\tlearn: 1.0000000\ttest: 0.3170732\tbest: 0.3466667 (20)\ttotal: 434ms\tremaining: 1.09s\n",
      "64:\tlearn: 1.0000000\ttest: 0.3209877\tbest: 0.3466667 (20)\ttotal: 438ms\tremaining: 1.08s\n",
      "65:\tlearn: 1.0000000\ttest: 0.3170732\tbest: 0.3466667 (20)\ttotal: 442ms\tremaining: 1.06s\n",
      "66:\tlearn: 1.0000000\ttest: 0.3170732\tbest: 0.3466667 (20)\ttotal: 446ms\tremaining: 1.05s\n",
      "67:\tlearn: 1.0000000\ttest: 0.3170732\tbest: 0.3466667 (20)\ttotal: 450ms\tremaining: 1.04s\n",
      "68:\tlearn: 1.0000000\ttest: 0.3170732\tbest: 0.3466667 (20)\ttotal: 454ms\tremaining: 1.03s\n",
      "69:\tlearn: 1.0000000\ttest: 0.3250000\tbest: 0.3466667 (20)\ttotal: 459ms\tremaining: 1.02s\n",
      "70:\tlearn: 1.0000000\ttest: 0.3250000\tbest: 0.3466667 (20)\ttotal: 464ms\tremaining: 1s\n",
      "71:\tlearn: 1.0000000\ttest: 0.3291139\tbest: 0.3466667 (20)\ttotal: 468ms\tremaining: 995ms\n",
      "72:\tlearn: 1.0000000\ttest: 0.3209877\tbest: 0.3466667 (20)\ttotal: 472ms\tremaining: 983ms\n",
      "73:\tlearn: 1.0000000\ttest: 0.3209877\tbest: 0.3466667 (20)\ttotal: 478ms\tremaining: 974ms\n",
      "74:\tlearn: 1.0000000\ttest: 0.3250000\tbest: 0.3466667 (20)\ttotal: 482ms\tremaining: 965ms\n",
      "75:\tlearn: 1.0000000\ttest: 0.3250000\tbest: 0.3466667 (20)\ttotal: 487ms\tremaining: 954ms\n",
      "76:\tlearn: 1.0000000\ttest: 0.3000000\tbest: 0.3466667 (20)\ttotal: 492ms\tremaining: 946ms\n",
      "77:\tlearn: 1.0000000\ttest: 0.2962963\tbest: 0.3466667 (20)\ttotal: 497ms\tremaining: 937ms\n",
      "78:\tlearn: 1.0000000\ttest: 0.2962963\tbest: 0.3466667 (20)\ttotal: 502ms\tremaining: 928ms\n",
      "79:\tlearn: 1.0000000\ttest: 0.3000000\tbest: 0.3466667 (20)\ttotal: 506ms\tremaining: 917ms\n",
      "80:\tlearn: 1.0000000\ttest: 0.3000000\tbest: 0.3466667 (20)\ttotal: 511ms\tremaining: 909ms\n",
      "81:\tlearn: 1.0000000\ttest: 0.2962963\tbest: 0.3466667 (20)\ttotal: 515ms\tremaining: 899ms\n",
      "82:\tlearn: 1.0000000\ttest: 0.2750000\tbest: 0.3466667 (20)\ttotal: 520ms\tremaining: 889ms\n",
      "83:\tlearn: 1.0000000\ttest: 0.2784810\tbest: 0.3466667 (20)\ttotal: 524ms\tremaining: 880ms\n",
      "84:\tlearn: 1.0000000\ttest: 0.2820513\tbest: 0.3466667 (20)\ttotal: 529ms\tremaining: 871ms\n",
      "85:\tlearn: 1.0000000\ttest: 0.3037975\tbest: 0.3466667 (20)\ttotal: 533ms\tremaining: 862ms\n",
      "86:\tlearn: 1.0000000\ttest: 0.2926829\tbest: 0.3466667 (20)\ttotal: 538ms\tremaining: 853ms\n",
      "87:\tlearn: 1.0000000\ttest: 0.2962963\tbest: 0.3466667 (20)\ttotal: 543ms\tremaining: 845ms\n",
      "88:\tlearn: 1.0000000\ttest: 0.2962963\tbest: 0.3466667 (20)\ttotal: 547ms\tremaining: 836ms\n",
      "89:\tlearn: 1.0000000\ttest: 0.2926829\tbest: 0.3466667 (20)\ttotal: 551ms\tremaining: 827ms\n",
      "90:\tlearn: 1.0000000\ttest: 0.2926829\tbest: 0.3466667 (20)\ttotal: 556ms\tremaining: 819ms\n",
      "91:\tlearn: 1.0000000\ttest: 0.2500000\tbest: 0.3466667 (20)\ttotal: 561ms\tremaining: 811ms\n",
      "92:\tlearn: 1.0000000\ttest: 0.2500000\tbest: 0.3466667 (20)\ttotal: 565ms\tremaining: 802ms\n",
      "93:\tlearn: 1.0000000\ttest: 0.2500000\tbest: 0.3466667 (20)\ttotal: 570ms\tremaining: 794ms\n",
      "94:\tlearn: 1.0000000\ttest: 0.2500000\tbest: 0.3466667 (20)\ttotal: 576ms\tremaining: 788ms\n",
      "95:\tlearn: 1.0000000\ttest: 0.2716049\tbest: 0.3466667 (20)\ttotal: 580ms\tremaining: 780ms\n",
      "96:\tlearn: 1.0000000\ttest: 0.2500000\tbest: 0.3466667 (20)\ttotal: 585ms\tremaining: 771ms\n",
      "97:\tlearn: 1.0000000\ttest: 0.2716049\tbest: 0.3466667 (20)\ttotal: 590ms\tremaining: 765ms\n",
      "98:\tlearn: 1.0000000\ttest: 0.2750000\tbest: 0.3466667 (20)\ttotal: 595ms\tremaining: 757ms\n",
      "99:\tlearn: 1.0000000\ttest: 0.2750000\tbest: 0.3466667 (20)\ttotal: 599ms\tremaining: 748ms\n",
      "100:\tlearn: 1.0000000\ttest: 0.2750000\tbest: 0.3466667 (20)\ttotal: 603ms\tremaining: 741ms\n",
      "101:\tlearn: 1.0000000\ttest: 0.2716049\tbest: 0.3466667 (20)\ttotal: 609ms\tremaining: 734ms\n",
      "102:\tlearn: 1.0000000\ttest: 0.2750000\tbest: 0.3466667 (20)\ttotal: 613ms\tremaining: 726ms\n",
      "103:\tlearn: 1.0000000\ttest: 0.2716049\tbest: 0.3466667 (20)\ttotal: 618ms\tremaining: 719ms\n",
      "104:\tlearn: 1.0000000\ttest: 0.2716049\tbest: 0.3466667 (20)\ttotal: 624ms\tremaining: 713ms\n",
      "105:\tlearn: 1.0000000\ttest: 0.2750000\tbest: 0.3466667 (20)\ttotal: 629ms\tremaining: 707ms\n",
      "106:\tlearn: 1.0000000\ttest: 0.2962963\tbest: 0.3466667 (20)\ttotal: 634ms\tremaining: 700ms\n",
      "107:\tlearn: 1.0000000\ttest: 0.2784810\tbest: 0.3466667 (20)\ttotal: 639ms\tremaining: 693ms\n",
      "108:\tlearn: 1.0000000\ttest: 0.2962963\tbest: 0.3466667 (20)\ttotal: 644ms\tremaining: 685ms\n",
      "109:\tlearn: 1.0000000\ttest: 0.2962963\tbest: 0.3466667 (20)\ttotal: 649ms\tremaining: 678ms\n",
      "110:\tlearn: 1.0000000\ttest: 0.2750000\tbest: 0.3466667 (20)\ttotal: 654ms\tremaining: 672ms\n",
      "111:\tlearn: 1.0000000\ttest: 0.2962963\tbest: 0.3466667 (20)\ttotal: 658ms\tremaining: 664ms\n",
      "112:\tlearn: 1.0000000\ttest: 0.2962963\tbest: 0.3466667 (20)\ttotal: 663ms\tremaining: 657ms\n",
      "113:\tlearn: 1.0000000\ttest: 0.2962963\tbest: 0.3466667 (20)\ttotal: 668ms\tremaining: 650ms\n",
      "114:\tlearn: 1.0000000\ttest: 0.2716049\tbest: 0.3466667 (20)\ttotal: 672ms\tremaining: 643ms\n",
      "115:\tlearn: 1.0000000\ttest: 0.2962963\tbest: 0.3466667 (20)\ttotal: 677ms\tremaining: 636ms\n",
      "116:\tlearn: 1.0000000\ttest: 0.2750000\tbest: 0.3466667 (20)\ttotal: 681ms\tremaining: 629ms\n",
      "117:\tlearn: 1.0000000\ttest: 0.2716049\tbest: 0.3466667 (20)\ttotal: 686ms\tremaining: 622ms\n",
      "118:\tlearn: 1.0000000\ttest: 0.2750000\tbest: 0.3466667 (20)\ttotal: 692ms\tremaining: 616ms\n",
      "119:\tlearn: 1.0000000\ttest: 0.2784810\tbest: 0.3466667 (20)\ttotal: 696ms\tremaining: 609ms\n",
      "120:\tlearn: 1.0000000\ttest: 0.2750000\tbest: 0.3466667 (20)\ttotal: 701ms\tremaining: 603ms\n",
      "121:\tlearn: 1.0000000\ttest: 0.2750000\tbest: 0.3466667 (20)\ttotal: 706ms\tremaining: 596ms\n",
      "122:\tlearn: 1.0000000\ttest: 0.2750000\tbest: 0.3466667 (20)\ttotal: 710ms\tremaining: 589ms\n",
      "123:\tlearn: 1.0000000\ttest: 0.2750000\tbest: 0.3466667 (20)\ttotal: 715ms\tremaining: 582ms\n",
      "124:\tlearn: 1.0000000\ttest: 0.2750000\tbest: 0.3466667 (20)\ttotal: 720ms\tremaining: 576ms\n",
      "125:\tlearn: 1.0000000\ttest: 0.2750000\tbest: 0.3466667 (20)\ttotal: 725ms\tremaining: 569ms\n",
      "126:\tlearn: 1.0000000\ttest: 0.2750000\tbest: 0.3466667 (20)\ttotal: 729ms\tremaining: 562ms\n",
      "127:\tlearn: 1.0000000\ttest: 0.2750000\tbest: 0.3466667 (20)\ttotal: 733ms\tremaining: 555ms\n",
      "128:\tlearn: 1.0000000\ttest: 0.2750000\tbest: 0.3466667 (20)\ttotal: 738ms\tremaining: 549ms\n",
      "129:\tlearn: 1.0000000\ttest: 0.2750000\tbest: 0.3466667 (20)\ttotal: 743ms\tremaining: 543ms\n",
      "130:\tlearn: 1.0000000\ttest: 0.2784810\tbest: 0.3466667 (20)\ttotal: 748ms\tremaining: 536ms\n",
      "131:\tlearn: 1.0000000\ttest: 0.2784810\tbest: 0.3466667 (20)\ttotal: 752ms\tremaining: 530ms\n",
      "132:\tlearn: 1.0000000\ttest: 0.2784810\tbest: 0.3466667 (20)\ttotal: 758ms\tremaining: 524ms\n",
      "133:\tlearn: 1.0000000\ttest: 0.2784810\tbest: 0.3466667 (20)\ttotal: 762ms\tremaining: 517ms\n",
      "134:\tlearn: 1.0000000\ttest: 0.2784810\tbest: 0.3466667 (20)\ttotal: 766ms\tremaining: 511ms\n",
      "135:\tlearn: 1.0000000\ttest: 0.2750000\tbest: 0.3466667 (20)\ttotal: 771ms\tremaining: 505ms\n",
      "136:\tlearn: 1.0000000\ttest: 0.2750000\tbest: 0.3466667 (20)\ttotal: 775ms\tremaining: 498ms\n",
      "137:\tlearn: 1.0000000\ttest: 0.2750000\tbest: 0.3466667 (20)\ttotal: 781ms\tremaining: 492ms\n",
      "138:\tlearn: 1.0000000\ttest: 0.2750000\tbest: 0.3466667 (20)\ttotal: 785ms\tremaining: 486ms\n",
      "139:\tlearn: 1.0000000\ttest: 0.2750000\tbest: 0.3466667 (20)\ttotal: 789ms\tremaining: 479ms\n",
      "140:\tlearn: 1.0000000\ttest: 0.2750000\tbest: 0.3466667 (20)\ttotal: 794ms\tremaining: 473ms\n",
      "141:\tlearn: 1.0000000\ttest: 0.2750000\tbest: 0.3466667 (20)\ttotal: 799ms\tremaining: 467ms\n",
      "142:\tlearn: 1.0000000\ttest: 0.2750000\tbest: 0.3466667 (20)\ttotal: 803ms\tremaining: 461ms\n",
      "143:\tlearn: 1.0000000\ttest: 0.2750000\tbest: 0.3466667 (20)\ttotal: 808ms\tremaining: 455ms\n",
      "144:\tlearn: 1.0000000\ttest: 0.2750000\tbest: 0.3466667 (20)\ttotal: 813ms\tremaining: 448ms\n",
      "145:\tlearn: 1.0000000\ttest: 0.2750000\tbest: 0.3466667 (20)\ttotal: 817ms\tremaining: 442ms\n",
      "146:\tlearn: 1.0000000\ttest: 0.2750000\tbest: 0.3466667 (20)\ttotal: 822ms\tremaining: 436ms\n",
      "147:\tlearn: 1.0000000\ttest: 0.2820513\tbest: 0.3466667 (20)\ttotal: 826ms\tremaining: 430ms\n",
      "148:\tlearn: 1.0000000\ttest: 0.2820513\tbest: 0.3466667 (20)\ttotal: 832ms\tremaining: 424ms\n",
      "149:\tlearn: 1.0000000\ttest: 0.2820513\tbest: 0.3466667 (20)\ttotal: 836ms\tremaining: 418ms\n",
      "150:\tlearn: 1.0000000\ttest: 0.2784810\tbest: 0.3466667 (20)\ttotal: 840ms\tremaining: 412ms\n",
      "151:\tlearn: 1.0000000\ttest: 0.2820513\tbest: 0.3466667 (20)\ttotal: 844ms\tremaining: 405ms\n",
      "152:\tlearn: 1.0000000\ttest: 0.2820513\tbest: 0.3466667 (20)\ttotal: 849ms\tremaining: 400ms\n",
      "153:\tlearn: 1.0000000\ttest: 0.2820513\tbest: 0.3466667 (20)\ttotal: 854ms\tremaining: 394ms\n",
      "154:\tlearn: 1.0000000\ttest: 0.2820513\tbest: 0.3466667 (20)\ttotal: 858ms\tremaining: 388ms\n",
      "155:\tlearn: 1.0000000\ttest: 0.2784810\tbest: 0.3466667 (20)\ttotal: 862ms\tremaining: 381ms\n",
      "156:\tlearn: 1.0000000\ttest: 0.2820513\tbest: 0.3466667 (20)\ttotal: 867ms\tremaining: 375ms\n",
      "157:\tlearn: 1.0000000\ttest: 0.2820513\tbest: 0.3466667 (20)\ttotal: 872ms\tremaining: 370ms\n",
      "158:\tlearn: 1.0000000\ttest: 0.2820513\tbest: 0.3466667 (20)\ttotal: 876ms\tremaining: 364ms\n",
      "159:\tlearn: 1.0000000\ttest: 0.2820513\tbest: 0.3466667 (20)\ttotal: 881ms\tremaining: 358ms\n",
      "160:\tlearn: 1.0000000\ttest: 0.2820513\tbest: 0.3466667 (20)\ttotal: 885ms\tremaining: 352ms\n",
      "161:\tlearn: 1.0000000\ttest: 0.2784810\tbest: 0.3466667 (20)\ttotal: 889ms\tremaining: 346ms\n",
      "162:\tlearn: 1.0000000\ttest: 0.2820513\tbest: 0.3466667 (20)\ttotal: 893ms\tremaining: 340ms\n",
      "163:\tlearn: 1.0000000\ttest: 0.2820513\tbest: 0.3466667 (20)\ttotal: 898ms\tremaining: 334ms\n",
      "164:\tlearn: 1.0000000\ttest: 0.2820513\tbest: 0.3466667 (20)\ttotal: 902ms\tremaining: 328ms\n",
      "165:\tlearn: 1.0000000\ttest: 0.2820513\tbest: 0.3466667 (20)\ttotal: 906ms\tremaining: 322ms\n",
      "166:\tlearn: 1.0000000\ttest: 0.2820513\tbest: 0.3466667 (20)\ttotal: 911ms\tremaining: 317ms\n",
      "167:\tlearn: 1.0000000\ttest: 0.2820513\tbest: 0.3466667 (20)\ttotal: 916ms\tremaining: 311ms\n",
      "168:\tlearn: 1.0000000\ttest: 0.2820513\tbest: 0.3466667 (20)\ttotal: 920ms\tremaining: 305ms\n",
      "169:\tlearn: 1.0000000\ttest: 0.2784810\tbest: 0.3466667 (20)\ttotal: 925ms\tremaining: 299ms\n",
      "170:\tlearn: 1.0000000\ttest: 0.2784810\tbest: 0.3466667 (20)\ttotal: 929ms\tremaining: 293ms\n",
      "171:\tlearn: 1.0000000\ttest: 0.3250000\tbest: 0.3466667 (20)\ttotal: 933ms\tremaining: 288ms\n",
      "172:\tlearn: 1.0000000\ttest: 0.3250000\tbest: 0.3466667 (20)\ttotal: 937ms\tremaining: 282ms\n",
      "173:\tlearn: 1.0000000\ttest: 0.3037975\tbest: 0.3466667 (20)\ttotal: 942ms\tremaining: 276ms\n",
      "174:\tlearn: 1.0000000\ttest: 0.3037975\tbest: 0.3466667 (20)\ttotal: 947ms\tremaining: 270ms\n",
      "175:\tlearn: 1.0000000\ttest: 0.3037975\tbest: 0.3466667 (20)\ttotal: 951ms\tremaining: 265ms\n",
      "176:\tlearn: 1.0000000\ttest: 0.3037975\tbest: 0.3466667 (20)\ttotal: 955ms\tremaining: 259ms\n",
      "177:\tlearn: 1.0000000\ttest: 0.3250000\tbest: 0.3466667 (20)\ttotal: 960ms\tremaining: 253ms\n",
      "178:\tlearn: 1.0000000\ttest: 0.3250000\tbest: 0.3466667 (20)\ttotal: 965ms\tremaining: 248ms\n",
      "179:\tlearn: 1.0000000\ttest: 0.3250000\tbest: 0.3466667 (20)\ttotal: 970ms\tremaining: 242ms\n",
      "180:\tlearn: 1.0000000\ttest: 0.3250000\tbest: 0.3466667 (20)\ttotal: 975ms\tremaining: 237ms\n",
      "181:\tlearn: 1.0000000\ttest: 0.3250000\tbest: 0.3466667 (20)\ttotal: 979ms\tremaining: 231ms\n",
      "182:\tlearn: 1.0000000\ttest: 0.3250000\tbest: 0.3466667 (20)\ttotal: 984ms\tremaining: 226ms\n",
      "183:\tlearn: 1.0000000\ttest: 0.3250000\tbest: 0.3466667 (20)\ttotal: 991ms\tremaining: 221ms\n",
      "184:\tlearn: 1.0000000\ttest: 0.3250000\tbest: 0.3466667 (20)\ttotal: 996ms\tremaining: 215ms\n",
      "185:\tlearn: 1.0000000\ttest: 0.3250000\tbest: 0.3466667 (20)\ttotal: 1s\tremaining: 210ms\n",
      "186:\tlearn: 1.0000000\ttest: 0.3250000\tbest: 0.3466667 (20)\ttotal: 1s\tremaining: 204ms\n",
      "187:\tlearn: 1.0000000\ttest: 0.3250000\tbest: 0.3466667 (20)\ttotal: 1.01s\tremaining: 199ms\n",
      "188:\tlearn: 1.0000000\ttest: 0.3250000\tbest: 0.3466667 (20)\ttotal: 1.01s\tremaining: 193ms\n",
      "189:\tlearn: 1.0000000\ttest: 0.3037975\tbest: 0.3466667 (20)\ttotal: 1.02s\tremaining: 188ms\n",
      "190:\tlearn: 1.0000000\ttest: 0.3037975\tbest: 0.3466667 (20)\ttotal: 1.02s\tremaining: 182ms\n",
      "191:\tlearn: 1.0000000\ttest: 0.3037975\tbest: 0.3466667 (20)\ttotal: 1.03s\tremaining: 177ms\n",
      "192:\tlearn: 1.0000000\ttest: 0.3037975\tbest: 0.3466667 (20)\ttotal: 1.03s\tremaining: 171ms\n",
      "193:\tlearn: 1.0000000\ttest: 0.3037975\tbest: 0.3466667 (20)\ttotal: 1.04s\tremaining: 166ms\n",
      "194:\tlearn: 1.0000000\ttest: 0.3037975\tbest: 0.3466667 (20)\ttotal: 1.04s\tremaining: 161ms\n",
      "195:\tlearn: 1.0000000\ttest: 0.3037975\tbest: 0.3466667 (20)\ttotal: 1.05s\tremaining: 155ms\n",
      "196:\tlearn: 1.0000000\ttest: 0.3037975\tbest: 0.3466667 (20)\ttotal: 1.05s\tremaining: 150ms\n",
      "197:\tlearn: 1.0000000\ttest: 0.3000000\tbest: 0.3466667 (20)\ttotal: 1.06s\tremaining: 144ms\n",
      "198:\tlearn: 1.0000000\ttest: 0.3000000\tbest: 0.3466667 (20)\ttotal: 1.06s\tremaining: 139ms\n",
      "199:\tlearn: 1.0000000\ttest: 0.3000000\tbest: 0.3466667 (20)\ttotal: 1.06s\tremaining: 133ms\n",
      "200:\tlearn: 1.0000000\ttest: 0.3000000\tbest: 0.3466667 (20)\ttotal: 1.07s\tremaining: 128ms\n",
      "201:\tlearn: 1.0000000\ttest: 0.3000000\tbest: 0.3466667 (20)\ttotal: 1.07s\tremaining: 122ms\n",
      "202:\tlearn: 1.0000000\ttest: 0.3000000\tbest: 0.3466667 (20)\ttotal: 1.08s\tremaining: 117ms\n",
      "203:\tlearn: 1.0000000\ttest: 0.3000000\tbest: 0.3466667 (20)\ttotal: 1.08s\tremaining: 112ms\n",
      "204:\tlearn: 1.0000000\ttest: 0.3000000\tbest: 0.3466667 (20)\ttotal: 1.09s\tremaining: 106ms\n",
      "205:\tlearn: 1.0000000\ttest: 0.3000000\tbest: 0.3466667 (20)\ttotal: 1.09s\tremaining: 101ms\n",
      "206:\tlearn: 1.0000000\ttest: 0.3000000\tbest: 0.3466667 (20)\ttotal: 1.1s\tremaining: 95.6ms\n",
      "207:\tlearn: 1.0000000\ttest: 0.3000000\tbest: 0.3466667 (20)\ttotal: 1.1s\tremaining: 90.3ms\n",
      "208:\tlearn: 1.0000000\ttest: 0.3000000\tbest: 0.3466667 (20)\ttotal: 1.11s\tremaining: 85ms\n",
      "209:\tlearn: 1.0000000\ttest: 0.3000000\tbest: 0.3466667 (20)\ttotal: 1.11s\tremaining: 79.6ms\n",
      "210:\tlearn: 1.0000000\ttest: 0.3000000\tbest: 0.3466667 (20)\ttotal: 1.12s\tremaining: 74.3ms\n",
      "211:\tlearn: 1.0000000\ttest: 0.3000000\tbest: 0.3466667 (20)\ttotal: 1.13s\tremaining: 69.1ms\n",
      "212:\tlearn: 1.0000000\ttest: 0.3000000\tbest: 0.3466667 (20)\ttotal: 1.14s\tremaining: 64ms\n",
      "213:\tlearn: 1.0000000\ttest: 0.3209877\tbest: 0.3466667 (20)\ttotal: 1.14s\tremaining: 58.8ms\n",
      "214:\tlearn: 1.0000000\ttest: 0.3209877\tbest: 0.3466667 (20)\ttotal: 1.15s\tremaining: 53.6ms\n",
      "215:\tlearn: 1.0000000\ttest: 0.3209877\tbest: 0.3466667 (20)\ttotal: 1.16s\tremaining: 48.3ms\n",
      "216:\tlearn: 1.0000000\ttest: 0.3209877\tbest: 0.3466667 (20)\ttotal: 1.17s\tremaining: 43ms\n",
      "217:\tlearn: 1.0000000\ttest: 0.3209877\tbest: 0.3466667 (20)\ttotal: 1.17s\tremaining: 37.7ms\n",
      "218:\tlearn: 1.0000000\ttest: 0.3209877\tbest: 0.3466667 (20)\ttotal: 1.18s\tremaining: 32.3ms\n",
      "219:\tlearn: 1.0000000\ttest: 0.3209877\tbest: 0.3466667 (20)\ttotal: 1.18s\tremaining: 26.9ms\n",
      "220:\tlearn: 1.0000000\ttest: 0.3209877\tbest: 0.3466667 (20)\ttotal: 1.19s\tremaining: 21.5ms\n",
      "221:\tlearn: 1.0000000\ttest: 0.3209877\tbest: 0.3466667 (20)\ttotal: 1.19s\tremaining: 16.1ms\n",
      "222:\tlearn: 1.0000000\ttest: 0.3209877\tbest: 0.3466667 (20)\ttotal: 1.2s\tremaining: 10.7ms\n",
      "223:\tlearn: 1.0000000\ttest: 0.3209877\tbest: 0.3466667 (20)\ttotal: 1.2s\tremaining: 5.37ms\n",
      "224:\tlearn: 1.0000000\ttest: 0.3209877\tbest: 0.3466667 (20)\ttotal: 1.21s\tremaining: 0us\n",
      "\n",
      "bestTest = 0.3466666667\n",
      "bestIteration = 20\n",
      "\n",
      "Training on fold [1/5]\n",
      "0:\tlearn: 0.4937500\ttest: 0.2162162\tbest: 0.2162162 (0)\ttotal: 4.71ms\tremaining: 1.05s\n",
      "1:\tlearn: 0.5185185\ttest: 0.1643836\tbest: 0.2162162 (0)\ttotal: 9.82ms\tremaining: 1.09s\n",
      "2:\tlearn: 0.5491525\ttest: 0.2571429\tbest: 0.2571429 (2)\ttotal: 14.6ms\tremaining: 1.08s\n",
      "3:\tlearn: 0.5365854\ttest: 0.2318841\tbest: 0.2571429 (2)\ttotal: 19.4ms\tremaining: 1.07s\n",
      "4:\tlearn: 0.5762712\ttest: 0.2461538\tbest: 0.2571429 (2)\ttotal: 24ms\tremaining: 1.05s\n",
      "5:\tlearn: 0.6688103\ttest: 0.2647059\tbest: 0.2647059 (5)\ttotal: 28.4ms\tremaining: 1.04s\n",
      "6:\tlearn: 0.6876972\ttest: 0.1764706\tbest: 0.2647059 (5)\ttotal: 33.8ms\tremaining: 1.05s\n",
      "7:\tlearn: 0.7062500\ttest: 0.2058824\tbest: 0.2647059 (5)\ttotal: 39ms\tremaining: 1.06s\n",
      "8:\tlearn: 0.7300613\ttest: 0.2153846\tbest: 0.2647059 (5)\ttotal: 43.3ms\tremaining: 1.04s\n",
      "9:\tlearn: 0.7774481\ttest: 0.2727273\tbest: 0.2727273 (9)\ttotal: 47.6ms\tremaining: 1.02s\n",
      "10:\tlearn: 0.8057971\ttest: 0.2153846\tbest: 0.2727273 (9)\ttotal: 52.3ms\tremaining: 1.02s\n",
      "11:\tlearn: 0.8491620\ttest: 0.2318841\tbest: 0.2727273 (9)\ttotal: 57.3ms\tremaining: 1.02s\n",
      "12:\tlearn: 0.8618785\ttest: 0.2388060\tbest: 0.2727273 (9)\ttotal: 62.1ms\tremaining: 1.01s\n",
      "13:\tlearn: 0.8804348\ttest: 0.2318841\tbest: 0.2727273 (9)\ttotal: 66.6ms\tremaining: 1s\n",
      "14:\tlearn: 0.8960000\ttest: 0.2647059\tbest: 0.2727273 (9)\ttotal: 71.6ms\tremaining: 1s\n",
      "15:\tlearn: 0.9100529\ttest: 0.2857143\tbest: 0.2857143 (15)\ttotal: 76.1ms\tremaining: 995ms\n",
      "16:\tlearn: 0.9129288\ttest: 0.2857143\tbest: 0.2857143 (15)\ttotal: 81.3ms\tremaining: 995ms\n",
      "17:\tlearn: 0.9354005\ttest: 0.2816901\tbest: 0.2857143 (15)\ttotal: 86ms\tremaining: 989ms\n",
      "18:\tlearn: 0.9408740\ttest: 0.2535211\tbest: 0.2857143 (15)\ttotal: 91ms\tremaining: 987ms\n",
      "19:\tlearn: 0.9462916\ttest: 0.2535211\tbest: 0.2857143 (15)\ttotal: 95.6ms\tremaining: 980ms\n",
      "20:\tlearn: 0.9569620\ttest: 0.2702703\tbest: 0.2857143 (15)\ttotal: 99.9ms\tremaining: 971ms\n",
      "21:\tlearn: 0.9675810\ttest: 0.2777778\tbest: 0.2857143 (15)\ttotal: 105ms\tremaining: 973ms\n",
      "22:\tlearn: 0.9725686\ttest: 0.2535211\tbest: 0.2857143 (15)\ttotal: 110ms\tremaining: 966ms\n",
      "23:\tlearn: 0.9801980\ttest: 0.2739726\tbest: 0.2857143 (15)\ttotal: 115ms\tremaining: 959ms\n",
      "24:\tlearn: 0.9801980\ttest: 0.2777778\tbest: 0.2857143 (15)\ttotal: 119ms\tremaining: 954ms\n",
      "25:\tlearn: 0.9901961\ttest: 0.2285714\tbest: 0.2857143 (15)\ttotal: 124ms\tremaining: 948ms\n",
      "26:\tlearn: 0.9951220\ttest: 0.2028986\tbest: 0.2857143 (15)\ttotal: 128ms\tremaining: 939ms\n",
      "27:\tlearn: 0.9951220\ttest: 0.2058824\tbest: 0.2857143 (15)\ttotal: 132ms\tremaining: 930ms\n",
      "28:\tlearn: 0.9975669\ttest: 0.2608696\tbest: 0.2857143 (15)\ttotal: 139ms\tremaining: 941ms\n",
      "29:\tlearn: 0.9975669\ttest: 0.2352941\tbest: 0.2857143 (15)\ttotal: 144ms\tremaining: 936ms\n",
      "30:\tlearn: 0.9975669\ttest: 0.2318841\tbest: 0.2857143 (15)\ttotal: 149ms\tremaining: 933ms\n",
      "31:\tlearn: 0.9975669\ttest: 0.2571429\tbest: 0.2857143 (15)\ttotal: 154ms\tremaining: 928ms\n",
      "32:\tlearn: 0.9975669\ttest: 0.2318841\tbest: 0.2857143 (15)\ttotal: 158ms\tremaining: 920ms\n",
      "33:\tlearn: 0.9975669\ttest: 0.2318841\tbest: 0.2857143 (15)\ttotal: 163ms\tremaining: 914ms\n",
      "34:\tlearn: 0.9975669\ttest: 0.2318841\tbest: 0.2857143 (15)\ttotal: 167ms\tremaining: 906ms\n",
      "35:\tlearn: 0.9975669\ttest: 0.2816901\tbest: 0.2857143 (15)\ttotal: 172ms\tremaining: 903ms\n",
      "36:\tlearn: 1.0000000\ttest: 0.2608696\tbest: 0.2857143 (15)\ttotal: 177ms\tremaining: 899ms\n",
      "37:\tlearn: 0.9975669\ttest: 0.2608696\tbest: 0.2857143 (15)\ttotal: 181ms\tremaining: 891ms\n",
      "38:\tlearn: 1.0000000\ttest: 0.2571429\tbest: 0.2857143 (15)\ttotal: 186ms\tremaining: 887ms\n",
      "39:\tlearn: 1.0000000\ttest: 0.2777778\tbest: 0.2857143 (15)\ttotal: 191ms\tremaining: 882ms\n",
      "40:\tlearn: 1.0000000\ttest: 0.2571429\tbest: 0.2857143 (15)\ttotal: 195ms\tremaining: 875ms\n",
      "41:\tlearn: 1.0000000\ttest: 0.2777778\tbest: 0.2857143 (15)\ttotal: 201ms\tremaining: 878ms\n",
      "42:\tlearn: 1.0000000\ttest: 0.2500000\tbest: 0.2857143 (15)\ttotal: 206ms\tremaining: 872ms\n",
      "43:\tlearn: 1.0000000\ttest: 0.2739726\tbest: 0.2857143 (15)\ttotal: 211ms\tremaining: 866ms\n",
      "44:\tlearn: 1.0000000\ttest: 0.2777778\tbest: 0.2857143 (15)\ttotal: 216ms\tremaining: 866ms\n",
      "45:\tlearn: 1.0000000\ttest: 0.2571429\tbest: 0.2857143 (15)\ttotal: 221ms\tremaining: 861ms\n",
      "46:\tlearn: 1.0000000\ttest: 0.2608696\tbest: 0.2857143 (15)\ttotal: 226ms\tremaining: 857ms\n",
      "47:\tlearn: 1.0000000\ttest: 0.2816901\tbest: 0.2857143 (15)\ttotal: 232ms\tremaining: 856ms\n",
      "48:\tlearn: 1.0000000\ttest: 0.2816901\tbest: 0.2857143 (15)\ttotal: 237ms\tremaining: 851ms\n",
      "49:\tlearn: 1.0000000\ttest: 0.2816901\tbest: 0.2857143 (15)\ttotal: 242ms\tremaining: 847ms\n",
      "50:\tlearn: 1.0000000\ttest: 0.2816901\tbest: 0.2857143 (15)\ttotal: 247ms\tremaining: 843ms\n",
      "51:\tlearn: 1.0000000\ttest: 0.2571429\tbest: 0.2857143 (15)\ttotal: 252ms\tremaining: 839ms\n",
      "52:\tlearn: 1.0000000\ttest: 0.2816901\tbest: 0.2857143 (15)\ttotal: 257ms\tremaining: 835ms\n",
      "53:\tlearn: 1.0000000\ttest: 0.2816901\tbest: 0.2857143 (15)\ttotal: 263ms\tremaining: 831ms\n",
      "54:\tlearn: 1.0000000\ttest: 0.2816901\tbest: 0.2857143 (15)\ttotal: 268ms\tremaining: 830ms\n",
      "55:\tlearn: 1.0000000\ttest: 0.2816901\tbest: 0.2857143 (15)\ttotal: 275ms\tremaining: 830ms\n",
      "56:\tlearn: 1.0000000\ttest: 0.2857143\tbest: 0.2857143 (15)\ttotal: 281ms\tremaining: 828ms\n",
      "57:\tlearn: 1.0000000\ttest: 0.3098592\tbest: 0.3098592 (57)\ttotal: 286ms\tremaining: 825ms\n",
      "58:\tlearn: 1.0000000\ttest: 0.3098592\tbest: 0.3098592 (57)\ttotal: 292ms\tremaining: 821ms\n",
      "59:\tlearn: 1.0000000\ttest: 0.2857143\tbest: 0.3098592 (57)\ttotal: 297ms\tremaining: 817ms\n",
      "60:\tlearn: 1.0000000\ttest: 0.3055556\tbest: 0.3098592 (57)\ttotal: 302ms\tremaining: 811ms\n",
      "61:\tlearn: 1.0000000\ttest: 0.2777778\tbest: 0.3098592 (57)\ttotal: 307ms\tremaining: 806ms\n",
      "62:\tlearn: 1.0000000\ttest: 0.2535211\tbest: 0.3098592 (57)\ttotal: 312ms\tremaining: 802ms\n",
      "63:\tlearn: 1.0000000\ttest: 0.2535211\tbest: 0.3098592 (57)\ttotal: 317ms\tremaining: 797ms\n",
      "64:\tlearn: 1.0000000\ttest: 0.2535211\tbest: 0.3098592 (57)\ttotal: 321ms\tremaining: 791ms\n",
      "65:\tlearn: 1.0000000\ttest: 0.2816901\tbest: 0.3098592 (57)\ttotal: 325ms\tremaining: 783ms\n",
      "66:\tlearn: 1.0000000\ttest: 0.3055556\tbest: 0.3098592 (57)\ttotal: 330ms\tremaining: 778ms\n",
      "67:\tlearn: 1.0000000\ttest: 0.3098592\tbest: 0.3098592 (57)\ttotal: 335ms\tremaining: 773ms\n",
      "68:\tlearn: 1.0000000\ttest: 0.3142857\tbest: 0.3142857 (68)\ttotal: 339ms\tremaining: 767ms\n",
      "69:\tlearn: 1.0000000\ttest: 0.3333333\tbest: 0.3333333 (69)\ttotal: 344ms\tremaining: 761ms\n",
      "70:\tlearn: 1.0000000\ttest: 0.3333333\tbest: 0.3333333 (69)\ttotal: 349ms\tremaining: 757ms\n",
      "71:\tlearn: 1.0000000\ttest: 0.3333333\tbest: 0.3333333 (69)\ttotal: 354ms\tremaining: 752ms\n",
      "72:\tlearn: 1.0000000\ttest: 0.3380282\tbest: 0.3380282 (72)\ttotal: 358ms\tremaining: 746ms\n",
      "73:\tlearn: 1.0000000\ttest: 0.3380282\tbest: 0.3380282 (72)\ttotal: 361ms\tremaining: 736ms\n",
      "74:\tlearn: 1.0000000\ttest: 0.2857143\tbest: 0.3380282 (72)\ttotal: 366ms\tremaining: 731ms\n",
      "75:\tlearn: 1.0000000\ttest: 0.2857143\tbest: 0.3380282 (72)\ttotal: 370ms\tremaining: 726ms\n",
      "76:\tlearn: 1.0000000\ttest: 0.3098592\tbest: 0.3380282 (72)\ttotal: 376ms\tremaining: 722ms\n",
      "77:\tlearn: 1.0000000\ttest: 0.3055556\tbest: 0.3380282 (72)\ttotal: 380ms\tremaining: 716ms\n",
      "78:\tlearn: 1.0000000\ttest: 0.3055556\tbest: 0.3380282 (72)\ttotal: 385ms\tremaining: 711ms\n",
      "79:\tlearn: 1.0000000\ttest: 0.3055556\tbest: 0.3380282 (72)\ttotal: 389ms\tremaining: 706ms\n",
      "80:\tlearn: 1.0000000\ttest: 0.2972973\tbest: 0.3380282 (72)\ttotal: 394ms\tremaining: 701ms\n",
      "81:\tlearn: 1.0000000\ttest: 0.3013699\tbest: 0.3380282 (72)\ttotal: 399ms\tremaining: 696ms\n",
      "82:\tlearn: 1.0000000\ttest: 0.3013699\tbest: 0.3380282 (72)\ttotal: 403ms\tremaining: 690ms\n",
      "83:\tlearn: 1.0000000\ttest: 0.3013699\tbest: 0.3380282 (72)\ttotal: 407ms\tremaining: 684ms\n",
      "84:\tlearn: 1.0000000\ttest: 0.3013699\tbest: 0.3380282 (72)\ttotal: 412ms\tremaining: 678ms\n",
      "85:\tlearn: 1.0000000\ttest: 0.3200000\tbest: 0.3380282 (72)\ttotal: 416ms\tremaining: 672ms\n",
      "86:\tlearn: 1.0000000\ttest: 0.3200000\tbest: 0.3380282 (72)\ttotal: 421ms\tremaining: 667ms\n",
      "87:\tlearn: 1.0000000\ttest: 0.3200000\tbest: 0.3380282 (72)\ttotal: 425ms\tremaining: 662ms\n",
      "88:\tlearn: 1.0000000\ttest: 0.3243243\tbest: 0.3380282 (72)\ttotal: 430ms\tremaining: 658ms\n",
      "89:\tlearn: 1.0000000\ttest: 0.3243243\tbest: 0.3380282 (72)\ttotal: 434ms\tremaining: 652ms\n",
      "90:\tlearn: 1.0000000\ttest: 0.3287671\tbest: 0.3380282 (72)\ttotal: 439ms\tremaining: 646ms\n",
      "91:\tlearn: 1.0000000\ttest: 0.3055556\tbest: 0.3380282 (72)\ttotal: 444ms\tremaining: 641ms\n",
      "92:\tlearn: 1.0000000\ttest: 0.3243243\tbest: 0.3380282 (72)\ttotal: 448ms\tremaining: 635ms\n",
      "93:\tlearn: 1.0000000\ttest: 0.3287671\tbest: 0.3380282 (72)\ttotal: 452ms\tremaining: 629ms\n",
      "94:\tlearn: 1.0000000\ttest: 0.3287671\tbest: 0.3380282 (72)\ttotal: 456ms\tremaining: 624ms\n",
      "95:\tlearn: 1.0000000\ttest: 0.3333333\tbest: 0.3380282 (72)\ttotal: 460ms\tremaining: 619ms\n",
      "96:\tlearn: 1.0000000\ttest: 0.3333333\tbest: 0.3380282 (72)\ttotal: 464ms\tremaining: 613ms\n",
      "97:\tlearn: 1.0000000\ttest: 0.3333333\tbest: 0.3380282 (72)\ttotal: 468ms\tremaining: 607ms\n",
      "98:\tlearn: 1.0000000\ttest: 0.3333333\tbest: 0.3380282 (72)\ttotal: 472ms\tremaining: 601ms\n",
      "99:\tlearn: 1.0000000\ttest: 0.3287671\tbest: 0.3380282 (72)\ttotal: 476ms\tremaining: 596ms\n",
      "100:\tlearn: 1.0000000\ttest: 0.3333333\tbest: 0.3380282 (72)\ttotal: 481ms\tremaining: 590ms\n",
      "101:\tlearn: 1.0000000\ttest: 0.3333333\tbest: 0.3380282 (72)\ttotal: 485ms\tremaining: 585ms\n",
      "102:\tlearn: 1.0000000\ttest: 0.3333333\tbest: 0.3380282 (72)\ttotal: 490ms\tremaining: 580ms\n",
      "103:\tlearn: 1.0000000\ttest: 0.3055556\tbest: 0.3380282 (72)\ttotal: 495ms\tremaining: 576ms\n",
      "104:\tlearn: 1.0000000\ttest: 0.3055556\tbest: 0.3380282 (72)\ttotal: 499ms\tremaining: 570ms\n",
      "105:\tlearn: 1.0000000\ttest: 0.3243243\tbest: 0.3380282 (72)\ttotal: 503ms\tremaining: 565ms\n",
      "106:\tlearn: 1.0000000\ttest: 0.3243243\tbest: 0.3380282 (72)\ttotal: 508ms\tremaining: 560ms\n",
      "107:\tlearn: 1.0000000\ttest: 0.3243243\tbest: 0.3380282 (72)\ttotal: 513ms\tremaining: 555ms\n",
      "108:\tlearn: 1.0000000\ttest: 0.3243243\tbest: 0.3380282 (72)\ttotal: 517ms\tremaining: 550ms\n",
      "109:\tlearn: 1.0000000\ttest: 0.3013699\tbest: 0.3380282 (72)\ttotal: 522ms\tremaining: 546ms\n",
      "110:\tlearn: 1.0000000\ttest: 0.3013699\tbest: 0.3380282 (72)\ttotal: 527ms\tremaining: 541ms\n",
      "111:\tlearn: 1.0000000\ttest: 0.3013699\tbest: 0.3380282 (72)\ttotal: 532ms\tremaining: 537ms\n",
      "112:\tlearn: 1.0000000\ttest: 0.3013699\tbest: 0.3380282 (72)\ttotal: 536ms\tremaining: 531ms\n",
      "113:\tlearn: 1.0000000\ttest: 0.3013699\tbest: 0.3380282 (72)\ttotal: 541ms\tremaining: 527ms\n",
      "114:\tlearn: 1.0000000\ttest: 0.3055556\tbest: 0.3380282 (72)\ttotal: 547ms\tremaining: 523ms\n",
      "115:\tlearn: 1.0000000\ttest: 0.3055556\tbest: 0.3380282 (72)\ttotal: 552ms\tremaining: 518ms\n",
      "116:\tlearn: 1.0000000\ttest: 0.3098592\tbest: 0.3380282 (72)\ttotal: 557ms\tremaining: 514ms\n",
      "117:\tlearn: 1.0000000\ttest: 0.3098592\tbest: 0.3380282 (72)\ttotal: 562ms\tremaining: 510ms\n",
      "118:\tlearn: 1.0000000\ttest: 0.3098592\tbest: 0.3380282 (72)\ttotal: 567ms\tremaining: 505ms\n",
      "119:\tlearn: 1.0000000\ttest: 0.3013699\tbest: 0.3380282 (72)\ttotal: 573ms\tremaining: 501ms\n",
      "120:\tlearn: 1.0000000\ttest: 0.3013699\tbest: 0.3380282 (72)\ttotal: 578ms\tremaining: 496ms\n",
      "121:\tlearn: 1.0000000\ttest: 0.3013699\tbest: 0.3380282 (72)\ttotal: 583ms\tremaining: 492ms\n",
      "122:\tlearn: 1.0000000\ttest: 0.3243243\tbest: 0.3380282 (72)\ttotal: 588ms\tremaining: 487ms\n",
      "123:\tlearn: 1.0000000\ttest: 0.3243243\tbest: 0.3380282 (72)\ttotal: 594ms\tremaining: 484ms\n",
      "124:\tlearn: 1.0000000\ttest: 0.3287671\tbest: 0.3380282 (72)\ttotal: 599ms\tremaining: 479ms\n",
      "125:\tlearn: 1.0000000\ttest: 0.3287671\tbest: 0.3380282 (72)\ttotal: 604ms\tremaining: 474ms\n",
      "126:\tlearn: 1.0000000\ttest: 0.3098592\tbest: 0.3380282 (72)\ttotal: 608ms\tremaining: 470ms\n",
      "127:\tlearn: 1.0000000\ttest: 0.3013699\tbest: 0.3380282 (72)\ttotal: 613ms\tremaining: 465ms\n",
      "128:\tlearn: 1.0000000\ttest: 0.3243243\tbest: 0.3380282 (72)\ttotal: 619ms\tremaining: 461ms\n",
      "129:\tlearn: 1.0000000\ttest: 0.3287671\tbest: 0.3380282 (72)\ttotal: 624ms\tremaining: 456ms\n",
      "130:\tlearn: 1.0000000\ttest: 0.3055556\tbest: 0.3380282 (72)\ttotal: 629ms\tremaining: 451ms\n",
      "131:\tlearn: 1.0000000\ttest: 0.3055556\tbest: 0.3380282 (72)\ttotal: 634ms\tremaining: 446ms\n",
      "132:\tlearn: 1.0000000\ttest: 0.3055556\tbest: 0.3380282 (72)\ttotal: 639ms\tremaining: 442ms\n",
      "133:\tlearn: 1.0000000\ttest: 0.3055556\tbest: 0.3380282 (72)\ttotal: 644ms\tremaining: 437ms\n",
      "134:\tlearn: 1.0000000\ttest: 0.3013699\tbest: 0.3380282 (72)\ttotal: 649ms\tremaining: 432ms\n",
      "135:\tlearn: 1.0000000\ttest: 0.3055556\tbest: 0.3380282 (72)\ttotal: 654ms\tremaining: 428ms\n",
      "136:\tlearn: 1.0000000\ttest: 0.3055556\tbest: 0.3380282 (72)\ttotal: 659ms\tremaining: 423ms\n",
      "137:\tlearn: 1.0000000\ttest: 0.3055556\tbest: 0.3380282 (72)\ttotal: 664ms\tremaining: 419ms\n",
      "138:\tlearn: 1.0000000\ttest: 0.3055556\tbest: 0.3380282 (72)\ttotal: 670ms\tremaining: 414ms\n",
      "139:\tlearn: 1.0000000\ttest: 0.3287671\tbest: 0.3380282 (72)\ttotal: 675ms\tremaining: 410ms\n",
      "140:\tlearn: 1.0000000\ttest: 0.3333333\tbest: 0.3380282 (72)\ttotal: 679ms\tremaining: 405ms\n",
      "141:\tlearn: 1.0000000\ttest: 0.3333333\tbest: 0.3380282 (72)\ttotal: 685ms\tremaining: 400ms\n",
      "142:\tlearn: 1.0000000\ttest: 0.3333333\tbest: 0.3380282 (72)\ttotal: 690ms\tremaining: 396ms\n",
      "143:\tlearn: 1.0000000\ttest: 0.3333333\tbest: 0.3380282 (72)\ttotal: 695ms\tremaining: 391ms\n",
      "144:\tlearn: 1.0000000\ttest: 0.3333333\tbest: 0.3380282 (72)\ttotal: 700ms\tremaining: 386ms\n",
      "145:\tlearn: 1.0000000\ttest: 0.3055556\tbest: 0.3380282 (72)\ttotal: 705ms\tremaining: 381ms\n",
      "146:\tlearn: 1.0000000\ttest: 0.3287671\tbest: 0.3380282 (72)\ttotal: 710ms\tremaining: 377ms\n",
      "147:\tlearn: 1.0000000\ttest: 0.3055556\tbest: 0.3380282 (72)\ttotal: 715ms\tremaining: 372ms\n",
      "148:\tlearn: 1.0000000\ttest: 0.3055556\tbest: 0.3380282 (72)\ttotal: 721ms\tremaining: 368ms\n",
      "149:\tlearn: 1.0000000\ttest: 0.3287671\tbest: 0.3380282 (72)\ttotal: 726ms\tremaining: 363ms\n",
      "150:\tlearn: 1.0000000\ttest: 0.3243243\tbest: 0.3380282 (72)\ttotal: 731ms\tremaining: 358ms\n",
      "151:\tlearn: 1.0000000\ttest: 0.3243243\tbest: 0.3380282 (72)\ttotal: 735ms\tremaining: 353ms\n",
      "152:\tlearn: 1.0000000\ttest: 0.3243243\tbest: 0.3380282 (72)\ttotal: 740ms\tremaining: 348ms\n",
      "153:\tlearn: 1.0000000\ttest: 0.2972973\tbest: 0.3380282 (72)\ttotal: 744ms\tremaining: 343ms\n",
      "154:\tlearn: 1.0000000\ttest: 0.2972973\tbest: 0.3380282 (72)\ttotal: 749ms\tremaining: 338ms\n",
      "155:\tlearn: 1.0000000\ttest: 0.2972973\tbest: 0.3380282 (72)\ttotal: 754ms\tremaining: 333ms\n",
      "156:\tlearn: 1.0000000\ttest: 0.3013699\tbest: 0.3380282 (72)\ttotal: 759ms\tremaining: 329ms\n",
      "157:\tlearn: 1.0000000\ttest: 0.2972973\tbest: 0.3380282 (72)\ttotal: 765ms\tremaining: 324ms\n",
      "158:\tlearn: 1.0000000\ttest: 0.2972973\tbest: 0.3380282 (72)\ttotal: 770ms\tremaining: 320ms\n",
      "159:\tlearn: 1.0000000\ttest: 0.2972973\tbest: 0.3380282 (72)\ttotal: 775ms\tremaining: 315ms\n",
      "160:\tlearn: 1.0000000\ttest: 0.2972973\tbest: 0.3380282 (72)\ttotal: 780ms\tremaining: 310ms\n",
      "161:\tlearn: 1.0000000\ttest: 0.2972973\tbest: 0.3380282 (72)\ttotal: 785ms\tremaining: 305ms\n",
      "162:\tlearn: 1.0000000\ttest: 0.2972973\tbest: 0.3380282 (72)\ttotal: 789ms\tremaining: 300ms\n",
      "163:\tlearn: 1.0000000\ttest: 0.2972973\tbest: 0.3380282 (72)\ttotal: 794ms\tremaining: 295ms\n",
      "164:\tlearn: 1.0000000\ttest: 0.2972973\tbest: 0.3380282 (72)\ttotal: 799ms\tremaining: 291ms\n",
      "165:\tlearn: 1.0000000\ttest: 0.2972973\tbest: 0.3380282 (72)\ttotal: 804ms\tremaining: 286ms\n",
      "166:\tlearn: 1.0000000\ttest: 0.2972973\tbest: 0.3380282 (72)\ttotal: 809ms\tremaining: 281ms\n",
      "167:\tlearn: 1.0000000\ttest: 0.2972973\tbest: 0.3380282 (72)\ttotal: 813ms\tremaining: 276ms\n",
      "168:\tlearn: 1.0000000\ttest: 0.2972973\tbest: 0.3380282 (72)\ttotal: 818ms\tremaining: 271ms\n",
      "169:\tlearn: 1.0000000\ttest: 0.2972973\tbest: 0.3380282 (72)\ttotal: 823ms\tremaining: 266ms\n",
      "170:\tlearn: 1.0000000\ttest: 0.3013699\tbest: 0.3380282 (72)\ttotal: 828ms\tremaining: 261ms\n",
      "171:\tlearn: 1.0000000\ttest: 0.2972973\tbest: 0.3380282 (72)\ttotal: 833ms\tremaining: 257ms\n",
      "172:\tlearn: 1.0000000\ttest: 0.3055556\tbest: 0.3380282 (72)\ttotal: 838ms\tremaining: 252ms\n",
      "173:\tlearn: 1.0000000\ttest: 0.3055556\tbest: 0.3380282 (72)\ttotal: 842ms\tremaining: 247ms\n",
      "174:\tlearn: 1.0000000\ttest: 0.3013699\tbest: 0.3380282 (72)\ttotal: 848ms\tremaining: 242ms\n",
      "175:\tlearn: 1.0000000\ttest: 0.3013699\tbest: 0.3380282 (72)\ttotal: 852ms\tremaining: 237ms\n",
      "176:\tlearn: 1.0000000\ttest: 0.2972973\tbest: 0.3380282 (72)\ttotal: 858ms\tremaining: 233ms\n",
      "177:\tlearn: 1.0000000\ttest: 0.3013699\tbest: 0.3380282 (72)\ttotal: 864ms\tremaining: 228ms\n",
      "178:\tlearn: 1.0000000\ttest: 0.3013699\tbest: 0.3380282 (72)\ttotal: 869ms\tremaining: 223ms\n",
      "179:\tlearn: 1.0000000\ttest: 0.3013699\tbest: 0.3380282 (72)\ttotal: 874ms\tremaining: 219ms\n",
      "180:\tlearn: 1.0000000\ttest: 0.3013699\tbest: 0.3380282 (72)\ttotal: 879ms\tremaining: 214ms\n",
      "181:\tlearn: 1.0000000\ttest: 0.3013699\tbest: 0.3380282 (72)\ttotal: 884ms\tremaining: 209ms\n",
      "182:\tlearn: 1.0000000\ttest: 0.3013699\tbest: 0.3380282 (72)\ttotal: 890ms\tremaining: 204ms\n",
      "183:\tlearn: 1.0000000\ttest: 0.3055556\tbest: 0.3380282 (72)\ttotal: 896ms\tremaining: 200ms\n",
      "184:\tlearn: 1.0000000\ttest: 0.3055556\tbest: 0.3380282 (72)\ttotal: 900ms\tremaining: 195ms\n",
      "185:\tlearn: 1.0000000\ttest: 0.3055556\tbest: 0.3380282 (72)\ttotal: 905ms\tremaining: 190ms\n",
      "186:\tlearn: 1.0000000\ttest: 0.3055556\tbest: 0.3380282 (72)\ttotal: 911ms\tremaining: 185ms\n",
      "187:\tlearn: 1.0000000\ttest: 0.3055556\tbest: 0.3380282 (72)\ttotal: 916ms\tremaining: 180ms\n",
      "188:\tlearn: 1.0000000\ttest: 0.3055556\tbest: 0.3380282 (72)\ttotal: 921ms\tremaining: 175ms\n",
      "189:\tlearn: 1.0000000\ttest: 0.2933333\tbest: 0.3380282 (72)\ttotal: 926ms\tremaining: 171ms\n",
      "190:\tlearn: 1.0000000\ttest: 0.2933333\tbest: 0.3380282 (72)\ttotal: 930ms\tremaining: 166ms\n",
      "191:\tlearn: 1.0000000\ttest: 0.2972973\tbest: 0.3380282 (72)\ttotal: 935ms\tremaining: 161ms\n",
      "192:\tlearn: 1.0000000\ttest: 0.2972973\tbest: 0.3380282 (72)\ttotal: 939ms\tremaining: 156ms\n",
      "193:\tlearn: 1.0000000\ttest: 0.2972973\tbest: 0.3380282 (72)\ttotal: 945ms\tremaining: 151ms\n",
      "194:\tlearn: 1.0000000\ttest: 0.2972973\tbest: 0.3380282 (72)\ttotal: 949ms\tremaining: 146ms\n",
      "195:\tlearn: 1.0000000\ttest: 0.2972973\tbest: 0.3380282 (72)\ttotal: 954ms\tremaining: 141ms\n",
      "196:\tlearn: 1.0000000\ttest: 0.2972973\tbest: 0.3380282 (72)\ttotal: 958ms\tremaining: 136ms\n",
      "197:\tlearn: 1.0000000\ttest: 0.2972973\tbest: 0.3380282 (72)\ttotal: 963ms\tremaining: 131ms\n",
      "198:\tlearn: 1.0000000\ttest: 0.2972973\tbest: 0.3380282 (72)\ttotal: 967ms\tremaining: 126ms\n",
      "199:\tlearn: 1.0000000\ttest: 0.2972973\tbest: 0.3380282 (72)\ttotal: 972ms\tremaining: 122ms\n",
      "200:\tlearn: 1.0000000\ttest: 0.2972973\tbest: 0.3380282 (72)\ttotal: 977ms\tremaining: 117ms\n",
      "201:\tlearn: 1.0000000\ttest: 0.2972973\tbest: 0.3380282 (72)\ttotal: 982ms\tremaining: 112ms\n",
      "202:\tlearn: 1.0000000\ttest: 0.2972973\tbest: 0.3380282 (72)\ttotal: 986ms\tremaining: 107ms\n",
      "203:\tlearn: 1.0000000\ttest: 0.2972973\tbest: 0.3380282 (72)\ttotal: 991ms\tremaining: 102ms\n",
      "204:\tlearn: 1.0000000\ttest: 0.2972973\tbest: 0.3380282 (72)\ttotal: 996ms\tremaining: 97.2ms\n",
      "205:\tlearn: 1.0000000\ttest: 0.2972973\tbest: 0.3380282 (72)\ttotal: 1s\tremaining: 92.4ms\n",
      "206:\tlearn: 1.0000000\ttest: 0.2972973\tbest: 0.3380282 (72)\ttotal: 1.01s\tremaining: 87.7ms\n",
      "207:\tlearn: 1.0000000\ttest: 0.3200000\tbest: 0.3380282 (72)\ttotal: 1.01s\tremaining: 82.8ms\n",
      "208:\tlearn: 1.0000000\ttest: 0.3200000\tbest: 0.3380282 (72)\ttotal: 1.02s\tremaining: 78ms\n",
      "209:\tlearn: 1.0000000\ttest: 0.3200000\tbest: 0.3380282 (72)\ttotal: 1.02s\tremaining: 73.1ms\n",
      "210:\tlearn: 1.0000000\ttest: 0.3200000\tbest: 0.3380282 (72)\ttotal: 1.03s\tremaining: 68.2ms\n",
      "211:\tlearn: 1.0000000\ttest: 0.3200000\tbest: 0.3380282 (72)\ttotal: 1.03s\tremaining: 63.4ms\n",
      "212:\tlearn: 1.0000000\ttest: 0.3200000\tbest: 0.3380282 (72)\ttotal: 1.04s\tremaining: 58.5ms\n",
      "213:\tlearn: 1.0000000\ttest: 0.3200000\tbest: 0.3380282 (72)\ttotal: 1.04s\tremaining: 53.6ms\n",
      "214:\tlearn: 1.0000000\ttest: 0.3200000\tbest: 0.3380282 (72)\ttotal: 1.05s\tremaining: 48.7ms\n",
      "215:\tlearn: 1.0000000\ttest: 0.3200000\tbest: 0.3380282 (72)\ttotal: 1.05s\tremaining: 43.8ms\n",
      "216:\tlearn: 1.0000000\ttest: 0.3200000\tbest: 0.3380282 (72)\ttotal: 1.06s\tremaining: 38.9ms\n",
      "217:\tlearn: 1.0000000\ttest: 0.3200000\tbest: 0.3380282 (72)\ttotal: 1.06s\tremaining: 34.1ms\n",
      "218:\tlearn: 1.0000000\ttest: 0.3200000\tbest: 0.3380282 (72)\ttotal: 1.06s\tremaining: 29.2ms\n",
      "219:\tlearn: 1.0000000\ttest: 0.3200000\tbest: 0.3380282 (72)\ttotal: 1.07s\tremaining: 24.3ms\n",
      "220:\tlearn: 1.0000000\ttest: 0.3200000\tbest: 0.3380282 (72)\ttotal: 1.07s\tremaining: 19.5ms\n",
      "221:\tlearn: 1.0000000\ttest: 0.3200000\tbest: 0.3380282 (72)\ttotal: 1.08s\tremaining: 14.6ms\n",
      "222:\tlearn: 1.0000000\ttest: 0.3243243\tbest: 0.3380282 (72)\ttotal: 1.09s\tremaining: 9.74ms\n",
      "223:\tlearn: 1.0000000\ttest: 0.3466667\tbest: 0.3466667 (223)\ttotal: 1.09s\tremaining: 4.87ms\n",
      "224:\tlearn: 1.0000000\ttest: 0.3243243\tbest: 0.3466667 (223)\ttotal: 1.1s\tremaining: 0us\n",
      "\n",
      "bestTest = 0.3466666667\n",
      "bestIteration = 223\n",
      "\n",
      "Training on fold [2/5]\n",
      "0:\tlearn: 0.4157706\ttest: 0.1492537\tbest: 0.1492537 (0)\ttotal: 5.09ms\tremaining: 1.14s\n",
      "1:\tlearn: 0.5377049\ttest: 0.2222222\tbest: 0.2222222 (1)\ttotal: 9.63ms\tremaining: 1.07s\n",
      "2:\tlearn: 0.5035461\ttest: 0.1269841\tbest: 0.2222222 (1)\ttotal: 14.9ms\tremaining: 1.1s\n",
      "3:\tlearn: 0.5578231\ttest: 0.1311475\tbest: 0.2222222 (1)\ttotal: 20.1ms\tremaining: 1.11s\n",
      "4:\tlearn: 0.6000000\ttest: 0.1000000\tbest: 0.2222222 (1)\ttotal: 24.7ms\tremaining: 1.09s\n",
      "5:\tlearn: 0.6540881\ttest: 0.0967742\tbest: 0.2222222 (1)\ttotal: 31ms\tremaining: 1.13s\n",
      "6:\tlearn: 0.6770186\ttest: 0.0952381\tbest: 0.2222222 (1)\ttotal: 36.4ms\tremaining: 1.13s\n",
      "7:\tlearn: 0.7055215\ttest: 0.0937500\tbest: 0.2222222 (1)\ttotal: 41.6ms\tremaining: 1.13s\n",
      "8:\tlearn: 0.7582090\ttest: 0.1449275\tbest: 0.2222222 (1)\ttotal: 47.6ms\tremaining: 1.14s\n",
      "9:\tlearn: 0.8103448\ttest: 0.1739130\tbest: 0.2222222 (1)\ttotal: 52.8ms\tremaining: 1.13s\n",
      "10:\tlearn: 0.8338028\ttest: 0.1866667\tbest: 0.2222222 (1)\ttotal: 57.3ms\tremaining: 1.11s\n",
      "11:\tlearn: 0.8476454\ttest: 0.1428571\tbest: 0.2222222 (1)\ttotal: 62.5ms\tremaining: 1.11s\n",
      "12:\tlearn: 0.8467967\ttest: 0.1176471\tbest: 0.2222222 (1)\ttotal: 66.7ms\tremaining: 1.09s\n",
      "13:\tlearn: 0.8810811\ttest: 0.1176471\tbest: 0.2222222 (1)\ttotal: 72.1ms\tremaining: 1.09s\n",
      "14:\tlearn: 0.8930481\ttest: 0.1666667\tbest: 0.2222222 (1)\ttotal: 76ms\tremaining: 1.06s\n",
      "15:\tlearn: 0.9246753\ttest: 0.1944444\tbest: 0.2222222 (1)\ttotal: 80.8ms\tremaining: 1.05s\n",
      "16:\tlearn: 0.9302326\ttest: 0.2000000\tbest: 0.2222222 (1)\ttotal: 85.4ms\tremaining: 1.04s\n",
      "17:\tlearn: 0.9329897\ttest: 0.1971831\tbest: 0.2222222 (1)\ttotal: 90.1ms\tremaining: 1.04s\n",
      "18:\tlearn: 0.9381443\ttest: 0.2222222\tbest: 0.2222222 (1)\ttotal: 95.3ms\tremaining: 1.03s\n",
      "19:\tlearn: 0.9462916\ttest: 0.1971831\tbest: 0.2222222 (1)\ttotal: 99.8ms\tremaining: 1.02s\n",
      "20:\tlearn: 0.9569620\ttest: 0.1714286\tbest: 0.2222222 (1)\ttotal: 104ms\tremaining: 1.01s\n",
      "21:\tlearn: 0.9595960\ttest: 0.1971831\tbest: 0.2222222 (1)\ttotal: 109ms\tremaining: 1s\n",
      "22:\tlearn: 0.9622166\ttest: 0.2191781\tbest: 0.2222222 (1)\ttotal: 113ms\tremaining: 995ms\n",
      "23:\tlearn: 0.9674185\ttest: 0.3076923\tbest: 0.3076923 (23)\ttotal: 118ms\tremaining: 989ms\n",
      "24:\tlearn: 0.9776675\ttest: 0.3037975\tbest: 0.3076923 (23)\ttotal: 123ms\tremaining: 984ms\n",
      "25:\tlearn: 0.9801980\ttest: 0.2750000\tbest: 0.3076923 (23)\ttotal: 128ms\tremaining: 979ms\n",
      "26:\tlearn: 0.9852217\ttest: 0.2250000\tbest: 0.3076923 (23)\ttotal: 133ms\tremaining: 977ms\n",
      "27:\tlearn: 0.9877150\ttest: 0.2531646\tbest: 0.3076923 (23)\ttotal: 138ms\tremaining: 970ms\n",
      "28:\tlearn: 0.9877150\ttest: 0.2564103\tbest: 0.3076923 (23)\ttotal: 143ms\tremaining: 965ms\n",
      "29:\tlearn: 0.9877150\ttest: 0.2500000\tbest: 0.3076923 (23)\ttotal: 148ms\tremaining: 960ms\n",
      "30:\tlearn: 0.9901961\ttest: 0.2531646\tbest: 0.3076923 (23)\ttotal: 153ms\tremaining: 955ms\n",
      "31:\tlearn: 0.9951220\ttest: 0.3037975\tbest: 0.3076923 (23)\ttotal: 158ms\tremaining: 955ms\n",
      "32:\tlearn: 0.9975669\ttest: 0.3000000\tbest: 0.3076923 (23)\ttotal: 163ms\tremaining: 950ms\n",
      "33:\tlearn: 0.9975669\ttest: 0.2962963\tbest: 0.3076923 (23)\ttotal: 168ms\tremaining: 944ms\n",
      "34:\tlearn: 0.9975669\ttest: 0.2962963\tbest: 0.3076923 (23)\ttotal: 173ms\tremaining: 938ms\n",
      "35:\tlearn: 0.9975669\ttest: 0.2926829\tbest: 0.3076923 (23)\ttotal: 178ms\tremaining: 934ms\n",
      "36:\tlearn: 0.9975669\ttest: 0.2926829\tbest: 0.3076923 (23)\ttotal: 182ms\tremaining: 927ms\n",
      "37:\tlearn: 0.9975669\ttest: 0.2962963\tbest: 0.3076923 (23)\ttotal: 187ms\tremaining: 918ms\n",
      "38:\tlearn: 0.9975669\ttest: 0.2926829\tbest: 0.3076923 (23)\ttotal: 191ms\tremaining: 913ms\n",
      "39:\tlearn: 0.9975669\ttest: 0.2891566\tbest: 0.3076923 (23)\ttotal: 198ms\tremaining: 914ms\n",
      "40:\tlearn: 0.9975669\ttest: 0.2926829\tbest: 0.3076923 (23)\ttotal: 203ms\tremaining: 912ms\n",
      "41:\tlearn: 0.9975669\ttest: 0.2926829\tbest: 0.3076923 (23)\ttotal: 209ms\tremaining: 909ms\n",
      "42:\tlearn: 1.0000000\ttest: 0.2926829\tbest: 0.3076923 (23)\ttotal: 211ms\tremaining: 891ms\n",
      "43:\tlearn: 1.0000000\ttest: 0.2926829\tbest: 0.3076923 (23)\ttotal: 215ms\tremaining: 886ms\n",
      "44:\tlearn: 1.0000000\ttest: 0.2891566\tbest: 0.3076923 (23)\ttotal: 221ms\tremaining: 884ms\n",
      "45:\tlearn: 1.0000000\ttest: 0.2926829\tbest: 0.3076923 (23)\ttotal: 225ms\tremaining: 876ms\n",
      "46:\tlearn: 1.0000000\ttest: 0.2891566\tbest: 0.3076923 (23)\ttotal: 230ms\tremaining: 871ms\n",
      "47:\tlearn: 1.0000000\ttest: 0.2926829\tbest: 0.3076923 (23)\ttotal: 235ms\tremaining: 867ms\n",
      "48:\tlearn: 1.0000000\ttest: 0.3132530\tbest: 0.3132530 (48)\ttotal: 241ms\tremaining: 865ms\n",
      "49:\tlearn: 1.0000000\ttest: 0.3095238\tbest: 0.3132530 (48)\ttotal: 246ms\tremaining: 860ms\n",
      "50:\tlearn: 1.0000000\ttest: 0.3095238\tbest: 0.3132530 (48)\ttotal: 251ms\tremaining: 855ms\n",
      "51:\tlearn: 1.0000000\ttest: 0.3132530\tbest: 0.3132530 (48)\ttotal: 257ms\tremaining: 854ms\n",
      "52:\tlearn: 1.0000000\ttest: 0.3095238\tbest: 0.3132530 (48)\ttotal: 261ms\tremaining: 846ms\n",
      "53:\tlearn: 1.0000000\ttest: 0.3095238\tbest: 0.3132530 (48)\ttotal: 265ms\tremaining: 841ms\n",
      "54:\tlearn: 1.0000000\ttest: 0.3132530\tbest: 0.3132530 (48)\ttotal: 271ms\tremaining: 837ms\n",
      "55:\tlearn: 1.0000000\ttest: 0.3132530\tbest: 0.3132530 (48)\ttotal: 276ms\tremaining: 834ms\n",
      "56:\tlearn: 1.0000000\ttest: 0.3132530\tbest: 0.3132530 (48)\ttotal: 281ms\tremaining: 829ms\n",
      "57:\tlearn: 1.0000000\ttest: 0.3132530\tbest: 0.3132530 (48)\ttotal: 286ms\tremaining: 824ms\n",
      "58:\tlearn: 1.0000000\ttest: 0.3373494\tbest: 0.3373494 (58)\ttotal: 291ms\tremaining: 819ms\n",
      "59:\tlearn: 1.0000000\ttest: 0.3170732\tbest: 0.3373494 (58)\ttotal: 296ms\tremaining: 814ms\n",
      "60:\tlearn: 1.0000000\ttest: 0.3170732\tbest: 0.3373494 (58)\ttotal: 300ms\tremaining: 808ms\n",
      "61:\tlearn: 1.0000000\ttest: 0.3571429\tbest: 0.3571429 (61)\ttotal: 306ms\tremaining: 803ms\n",
      "62:\tlearn: 1.0000000\ttest: 0.3571429\tbest: 0.3571429 (61)\ttotal: 310ms\tremaining: 796ms\n",
      "63:\tlearn: 1.0000000\ttest: 0.3373494\tbest: 0.3571429 (61)\ttotal: 314ms\tremaining: 789ms\n",
      "64:\tlearn: 1.0000000\ttest: 0.3614458\tbest: 0.3614458 (64)\ttotal: 319ms\tremaining: 785ms\n",
      "65:\tlearn: 1.0000000\ttest: 0.3414634\tbest: 0.3614458 (64)\ttotal: 324ms\tremaining: 779ms\n",
      "66:\tlearn: 1.0000000\ttest: 0.3414634\tbest: 0.3614458 (64)\ttotal: 329ms\tremaining: 776ms\n",
      "67:\tlearn: 1.0000000\ttest: 0.3414634\tbest: 0.3614458 (64)\ttotal: 333ms\tremaining: 770ms\n",
      "68:\tlearn: 1.0000000\ttest: 0.3294118\tbest: 0.3614458 (64)\ttotal: 338ms\tremaining: 765ms\n",
      "69:\tlearn: 1.0000000\ttest: 0.3095238\tbest: 0.3614458 (64)\ttotal: 343ms\tremaining: 758ms\n",
      "70:\tlearn: 1.0000000\ttest: 0.3132530\tbest: 0.3614458 (64)\ttotal: 347ms\tremaining: 753ms\n",
      "71:\tlearn: 1.0000000\ttest: 0.3333333\tbest: 0.3614458 (64)\ttotal: 352ms\tremaining: 748ms\n",
      "72:\tlearn: 1.0000000\ttest: 0.3333333\tbest: 0.3614458 (64)\ttotal: 357ms\tremaining: 744ms\n",
      "73:\tlearn: 1.0000000\ttest: 0.3170732\tbest: 0.3614458 (64)\ttotal: 362ms\tremaining: 738ms\n",
      "74:\tlearn: 1.0000000\ttest: 0.3170732\tbest: 0.3614458 (64)\ttotal: 367ms\tremaining: 733ms\n",
      "75:\tlearn: 1.0000000\ttest: 0.3571429\tbest: 0.3614458 (64)\ttotal: 371ms\tremaining: 728ms\n",
      "76:\tlearn: 1.0000000\ttest: 0.3333333\tbest: 0.3614458 (64)\ttotal: 375ms\tremaining: 722ms\n",
      "77:\tlearn: 1.0000000\ttest: 0.3373494\tbest: 0.3614458 (64)\ttotal: 380ms\tremaining: 716ms\n",
      "78:\tlearn: 1.0000000\ttest: 0.3333333\tbest: 0.3614458 (64)\ttotal: 385ms\tremaining: 711ms\n",
      "79:\tlearn: 1.0000000\ttest: 0.3333333\tbest: 0.3614458 (64)\ttotal: 389ms\tremaining: 705ms\n",
      "80:\tlearn: 1.0000000\ttest: 0.3170732\tbest: 0.3614458 (64)\ttotal: 394ms\tremaining: 701ms\n",
      "81:\tlearn: 1.0000000\ttest: 0.3170732\tbest: 0.3614458 (64)\ttotal: 400ms\tremaining: 697ms\n",
      "82:\tlearn: 1.0000000\ttest: 0.3170732\tbest: 0.3614458 (64)\ttotal: 405ms\tremaining: 693ms\n",
      "83:\tlearn: 1.0000000\ttest: 0.3209877\tbest: 0.3614458 (64)\ttotal: 410ms\tremaining: 688ms\n",
      "84:\tlearn: 1.0000000\ttest: 0.3209877\tbest: 0.3614458 (64)\ttotal: 415ms\tremaining: 683ms\n",
      "85:\tlearn: 1.0000000\ttest: 0.3209877\tbest: 0.3614458 (64)\ttotal: 419ms\tremaining: 678ms\n",
      "86:\tlearn: 1.0000000\ttest: 0.3209877\tbest: 0.3614458 (64)\ttotal: 425ms\tremaining: 673ms\n",
      "87:\tlearn: 1.0000000\ttest: 0.3209877\tbest: 0.3614458 (64)\ttotal: 429ms\tremaining: 668ms\n",
      "88:\tlearn: 1.0000000\ttest: 0.3209877\tbest: 0.3614458 (64)\ttotal: 434ms\tremaining: 664ms\n",
      "89:\tlearn: 1.0000000\ttest: 0.3037975\tbest: 0.3614458 (64)\ttotal: 439ms\tremaining: 659ms\n",
      "90:\tlearn: 1.0000000\ttest: 0.3037975\tbest: 0.3614458 (64)\ttotal: 444ms\tremaining: 654ms\n",
      "91:\tlearn: 1.0000000\ttest: 0.3000000\tbest: 0.3614458 (64)\ttotal: 449ms\tremaining: 649ms\n",
      "92:\tlearn: 1.0000000\ttest: 0.3000000\tbest: 0.3614458 (64)\ttotal: 454ms\tremaining: 644ms\n",
      "93:\tlearn: 1.0000000\ttest: 0.3037975\tbest: 0.3614458 (64)\ttotal: 458ms\tremaining: 638ms\n",
      "94:\tlearn: 1.0000000\ttest: 0.3000000\tbest: 0.3614458 (64)\ttotal: 463ms\tremaining: 633ms\n",
      "95:\tlearn: 1.0000000\ttest: 0.2857143\tbest: 0.3614458 (64)\ttotal: 468ms\tremaining: 629ms\n",
      "96:\tlearn: 1.0000000\ttest: 0.2857143\tbest: 0.3614458 (64)\ttotal: 472ms\tremaining: 623ms\n",
      "97:\tlearn: 1.0000000\ttest: 0.2820513\tbest: 0.3614458 (64)\ttotal: 478ms\tremaining: 619ms\n",
      "98:\tlearn: 1.0000000\ttest: 0.2820513\tbest: 0.3614458 (64)\ttotal: 483ms\tremaining: 615ms\n",
      "99:\tlearn: 1.0000000\ttest: 0.2962963\tbest: 0.3614458 (64)\ttotal: 488ms\tremaining: 610ms\n",
      "100:\tlearn: 1.0000000\ttest: 0.2750000\tbest: 0.3614458 (64)\ttotal: 493ms\tremaining: 605ms\n",
      "101:\tlearn: 1.0000000\ttest: 0.2750000\tbest: 0.3614458 (64)\ttotal: 497ms\tremaining: 600ms\n",
      "102:\tlearn: 1.0000000\ttest: 0.2750000\tbest: 0.3614458 (64)\ttotal: 502ms\tremaining: 595ms\n",
      "103:\tlearn: 1.0000000\ttest: 0.2531646\tbest: 0.3614458 (64)\ttotal: 507ms\tremaining: 590ms\n",
      "104:\tlearn: 1.0000000\ttest: 0.2531646\tbest: 0.3614458 (64)\ttotal: 513ms\tremaining: 586ms\n",
      "105:\tlearn: 1.0000000\ttest: 0.2750000\tbest: 0.3614458 (64)\ttotal: 516ms\tremaining: 580ms\n",
      "106:\tlearn: 1.0000000\ttest: 0.2784810\tbest: 0.3614458 (64)\ttotal: 520ms\tremaining: 574ms\n",
      "107:\tlearn: 1.0000000\ttest: 0.2820513\tbest: 0.3614458 (64)\ttotal: 525ms\tremaining: 569ms\n",
      "108:\tlearn: 1.0000000\ttest: 0.2820513\tbest: 0.3614458 (64)\ttotal: 529ms\tremaining: 563ms\n",
      "109:\tlearn: 1.0000000\ttest: 0.2784810\tbest: 0.3614458 (64)\ttotal: 534ms\tremaining: 558ms\n",
      "110:\tlearn: 1.0000000\ttest: 0.2820513\tbest: 0.3614458 (64)\ttotal: 538ms\tremaining: 552ms\n",
      "111:\tlearn: 1.0000000\ttest: 0.2857143\tbest: 0.3614458 (64)\ttotal: 542ms\tremaining: 547ms\n",
      "112:\tlearn: 1.0000000\ttest: 0.2857143\tbest: 0.3614458 (64)\ttotal: 548ms\tremaining: 543ms\n",
      "113:\tlearn: 1.0000000\ttest: 0.2857143\tbest: 0.3614458 (64)\ttotal: 551ms\tremaining: 537ms\n",
      "114:\tlearn: 1.0000000\ttest: 0.2857143\tbest: 0.3614458 (64)\ttotal: 556ms\tremaining: 531ms\n",
      "115:\tlearn: 1.0000000\ttest: 0.3076923\tbest: 0.3614458 (64)\ttotal: 560ms\tremaining: 526ms\n",
      "116:\tlearn: 1.0000000\ttest: 0.2857143\tbest: 0.3614458 (64)\ttotal: 564ms\tremaining: 521ms\n",
      "117:\tlearn: 1.0000000\ttest: 0.3076923\tbest: 0.3614458 (64)\ttotal: 569ms\tremaining: 516ms\n",
      "118:\tlearn: 1.0000000\ttest: 0.3116883\tbest: 0.3614458 (64)\ttotal: 573ms\tremaining: 510ms\n",
      "119:\tlearn: 1.0000000\ttest: 0.3076923\tbest: 0.3614458 (64)\ttotal: 578ms\tremaining: 505ms\n",
      "120:\tlearn: 1.0000000\ttest: 0.3116883\tbest: 0.3614458 (64)\ttotal: 582ms\tremaining: 501ms\n",
      "121:\tlearn: 1.0000000\ttest: 0.3076923\tbest: 0.3614458 (64)\ttotal: 587ms\tremaining: 495ms\n",
      "122:\tlearn: 1.0000000\ttest: 0.3037975\tbest: 0.3614458 (64)\ttotal: 591ms\tremaining: 490ms\n",
      "123:\tlearn: 1.0000000\ttest: 0.3250000\tbest: 0.3614458 (64)\ttotal: 595ms\tremaining: 485ms\n",
      "124:\tlearn: 1.0000000\ttest: 0.2820513\tbest: 0.3614458 (64)\ttotal: 600ms\tremaining: 480ms\n",
      "125:\tlearn: 1.0000000\ttest: 0.2597403\tbest: 0.3614458 (64)\ttotal: 604ms\tremaining: 475ms\n",
      "126:\tlearn: 1.0000000\ttest: 0.3037975\tbest: 0.3614458 (64)\ttotal: 609ms\tremaining: 470ms\n",
      "127:\tlearn: 1.0000000\ttest: 0.2820513\tbest: 0.3614458 (64)\ttotal: 614ms\tremaining: 465ms\n",
      "128:\tlearn: 1.0000000\ttest: 0.2820513\tbest: 0.3614458 (64)\ttotal: 618ms\tremaining: 460ms\n",
      "129:\tlearn: 1.0000000\ttest: 0.2820513\tbest: 0.3614458 (64)\ttotal: 622ms\tremaining: 455ms\n",
      "130:\tlearn: 1.0000000\ttest: 0.2820513\tbest: 0.3614458 (64)\ttotal: 627ms\tremaining: 450ms\n",
      "131:\tlearn: 1.0000000\ttest: 0.3037975\tbest: 0.3614458 (64)\ttotal: 631ms\tremaining: 445ms\n",
      "132:\tlearn: 1.0000000\ttest: 0.3037975\tbest: 0.3614458 (64)\ttotal: 635ms\tremaining: 439ms\n",
      "133:\tlearn: 1.0000000\ttest: 0.2784810\tbest: 0.3614458 (64)\ttotal: 640ms\tremaining: 435ms\n",
      "134:\tlearn: 1.0000000\ttest: 0.2784810\tbest: 0.3614458 (64)\ttotal: 645ms\tremaining: 430ms\n",
      "135:\tlearn: 1.0000000\ttest: 0.2820513\tbest: 0.3614458 (64)\ttotal: 650ms\tremaining: 426ms\n",
      "136:\tlearn: 1.0000000\ttest: 0.2820513\tbest: 0.3614458 (64)\ttotal: 655ms\tremaining: 420ms\n",
      "137:\tlearn: 1.0000000\ttest: 0.2631579\tbest: 0.3614458 (64)\ttotal: 660ms\tremaining: 416ms\n",
      "138:\tlearn: 1.0000000\ttest: 0.2631579\tbest: 0.3614458 (64)\ttotal: 664ms\tremaining: 411ms\n",
      "139:\tlearn: 1.0000000\ttest: 0.2597403\tbest: 0.3614458 (64)\ttotal: 669ms\tremaining: 406ms\n",
      "140:\tlearn: 1.0000000\ttest: 0.2597403\tbest: 0.3614458 (64)\ttotal: 673ms\tremaining: 401ms\n",
      "141:\tlearn: 1.0000000\ttest: 0.2597403\tbest: 0.3614458 (64)\ttotal: 679ms\tremaining: 397ms\n",
      "142:\tlearn: 1.0000000\ttest: 0.2597403\tbest: 0.3614458 (64)\ttotal: 685ms\tremaining: 393ms\n",
      "143:\tlearn: 1.0000000\ttest: 0.2564103\tbest: 0.3614458 (64)\ttotal: 690ms\tremaining: 388ms\n",
      "144:\tlearn: 1.0000000\ttest: 0.2597403\tbest: 0.3614458 (64)\ttotal: 695ms\tremaining: 383ms\n",
      "145:\tlearn: 1.0000000\ttest: 0.2564103\tbest: 0.3614458 (64)\ttotal: 699ms\tremaining: 378ms\n",
      "146:\tlearn: 1.0000000\ttest: 0.2564103\tbest: 0.3614458 (64)\ttotal: 703ms\tremaining: 373ms\n",
      "147:\tlearn: 1.0000000\ttest: 0.2564103\tbest: 0.3614458 (64)\ttotal: 708ms\tremaining: 368ms\n",
      "148:\tlearn: 1.0000000\ttest: 0.2564103\tbest: 0.3614458 (64)\ttotal: 713ms\tremaining: 363ms\n",
      "149:\tlearn: 1.0000000\ttest: 0.2564103\tbest: 0.3614458 (64)\ttotal: 717ms\tremaining: 359ms\n",
      "150:\tlearn: 1.0000000\ttest: 0.2564103\tbest: 0.3614458 (64)\ttotal: 722ms\tremaining: 354ms\n",
      "151:\tlearn: 1.0000000\ttest: 0.2564103\tbest: 0.3614458 (64)\ttotal: 727ms\tremaining: 349ms\n",
      "152:\tlearn: 1.0000000\ttest: 0.2564103\tbest: 0.3614458 (64)\ttotal: 732ms\tremaining: 344ms\n",
      "153:\tlearn: 1.0000000\ttest: 0.2564103\tbest: 0.3614458 (64)\ttotal: 737ms\tremaining: 340ms\n",
      "154:\tlearn: 1.0000000\ttest: 0.2564103\tbest: 0.3614458 (64)\ttotal: 742ms\tremaining: 335ms\n",
      "155:\tlearn: 1.0000000\ttest: 0.2564103\tbest: 0.3614458 (64)\ttotal: 746ms\tremaining: 330ms\n",
      "156:\tlearn: 1.0000000\ttest: 0.2564103\tbest: 0.3614458 (64)\ttotal: 752ms\tremaining: 326ms\n",
      "157:\tlearn: 1.0000000\ttest: 0.2564103\tbest: 0.3614458 (64)\ttotal: 756ms\tremaining: 321ms\n",
      "158:\tlearn: 1.0000000\ttest: 0.2820513\tbest: 0.3614458 (64)\ttotal: 761ms\tremaining: 316ms\n",
      "159:\tlearn: 1.0000000\ttest: 0.2784810\tbest: 0.3614458 (64)\ttotal: 765ms\tremaining: 311ms\n",
      "160:\tlearn: 1.0000000\ttest: 0.2784810\tbest: 0.3614458 (64)\ttotal: 770ms\tremaining: 306ms\n",
      "161:\tlearn: 1.0000000\ttest: 0.3000000\tbest: 0.3614458 (64)\ttotal: 775ms\tremaining: 301ms\n",
      "162:\tlearn: 1.0000000\ttest: 0.2784810\tbest: 0.3614458 (64)\ttotal: 780ms\tremaining: 297ms\n",
      "163:\tlearn: 1.0000000\ttest: 0.2784810\tbest: 0.3614458 (64)\ttotal: 784ms\tremaining: 292ms\n",
      "164:\tlearn: 1.0000000\ttest: 0.3000000\tbest: 0.3614458 (64)\ttotal: 789ms\tremaining: 287ms\n",
      "165:\tlearn: 1.0000000\ttest: 0.3000000\tbest: 0.3614458 (64)\ttotal: 793ms\tremaining: 282ms\n",
      "166:\tlearn: 1.0000000\ttest: 0.3000000\tbest: 0.3614458 (64)\ttotal: 798ms\tremaining: 277ms\n",
      "167:\tlearn: 1.0000000\ttest: 0.2962963\tbest: 0.3614458 (64)\ttotal: 802ms\tremaining: 272ms\n",
      "168:\tlearn: 1.0000000\ttest: 0.3000000\tbest: 0.3614458 (64)\ttotal: 807ms\tremaining: 267ms\n",
      "169:\tlearn: 1.0000000\ttest: 0.3000000\tbest: 0.3614458 (64)\ttotal: 812ms\tremaining: 263ms\n",
      "170:\tlearn: 1.0000000\ttest: 0.2962963\tbest: 0.3614458 (64)\ttotal: 816ms\tremaining: 258ms\n",
      "171:\tlearn: 1.0000000\ttest: 0.2962963\tbest: 0.3614458 (64)\ttotal: 821ms\tremaining: 253ms\n",
      "172:\tlearn: 1.0000000\ttest: 0.2962963\tbest: 0.3614458 (64)\ttotal: 825ms\tremaining: 248ms\n",
      "173:\tlearn: 1.0000000\ttest: 0.2962963\tbest: 0.3614458 (64)\ttotal: 830ms\tremaining: 243ms\n",
      "174:\tlearn: 1.0000000\ttest: 0.3000000\tbest: 0.3614458 (64)\ttotal: 834ms\tremaining: 238ms\n",
      "175:\tlearn: 1.0000000\ttest: 0.3000000\tbest: 0.3614458 (64)\ttotal: 838ms\tremaining: 233ms\n",
      "176:\tlearn: 1.0000000\ttest: 0.3000000\tbest: 0.3614458 (64)\ttotal: 843ms\tremaining: 229ms\n",
      "177:\tlearn: 1.0000000\ttest: 0.3000000\tbest: 0.3614458 (64)\ttotal: 848ms\tremaining: 224ms\n",
      "178:\tlearn: 1.0000000\ttest: 0.3209877\tbest: 0.3614458 (64)\ttotal: 852ms\tremaining: 219ms\n",
      "179:\tlearn: 1.0000000\ttest: 0.3250000\tbest: 0.3614458 (64)\ttotal: 856ms\tremaining: 214ms\n",
      "180:\tlearn: 1.0000000\ttest: 0.3250000\tbest: 0.3614458 (64)\ttotal: 861ms\tremaining: 209ms\n",
      "181:\tlearn: 1.0000000\ttest: 0.3250000\tbest: 0.3614458 (64)\ttotal: 866ms\tremaining: 205ms\n",
      "182:\tlearn: 1.0000000\ttest: 0.3209877\tbest: 0.3614458 (64)\ttotal: 872ms\tremaining: 200ms\n",
      "183:\tlearn: 1.0000000\ttest: 0.3209877\tbest: 0.3614458 (64)\ttotal: 876ms\tremaining: 195ms\n",
      "184:\tlearn: 1.0000000\ttest: 0.3209877\tbest: 0.3614458 (64)\ttotal: 881ms\tremaining: 190ms\n",
      "185:\tlearn: 1.0000000\ttest: 0.3170732\tbest: 0.3614458 (64)\ttotal: 886ms\tremaining: 186ms\n",
      "186:\tlearn: 1.0000000\ttest: 0.3170732\tbest: 0.3614458 (64)\ttotal: 889ms\tremaining: 181ms\n",
      "187:\tlearn: 1.0000000\ttest: 0.3132530\tbest: 0.3614458 (64)\ttotal: 894ms\tremaining: 176ms\n",
      "188:\tlearn: 1.0000000\ttest: 0.3209877\tbest: 0.3614458 (64)\ttotal: 899ms\tremaining: 171ms\n",
      "189:\tlearn: 1.0000000\ttest: 0.3209877\tbest: 0.3614458 (64)\ttotal: 904ms\tremaining: 166ms\n",
      "190:\tlearn: 1.0000000\ttest: 0.3170732\tbest: 0.3614458 (64)\ttotal: 910ms\tremaining: 162ms\n",
      "191:\tlearn: 1.0000000\ttest: 0.3170732\tbest: 0.3614458 (64)\ttotal: 915ms\tremaining: 157ms\n",
      "192:\tlearn: 1.0000000\ttest: 0.3170732\tbest: 0.3614458 (64)\ttotal: 920ms\tremaining: 152ms\n",
      "193:\tlearn: 1.0000000\ttest: 0.3170732\tbest: 0.3614458 (64)\ttotal: 924ms\tremaining: 148ms\n",
      "194:\tlearn: 1.0000000\ttest: 0.3209877\tbest: 0.3614458 (64)\ttotal: 930ms\tremaining: 143ms\n",
      "195:\tlearn: 1.0000000\ttest: 0.3170732\tbest: 0.3614458 (64)\ttotal: 934ms\tremaining: 138ms\n",
      "196:\tlearn: 1.0000000\ttest: 0.3170732\tbest: 0.3614458 (64)\ttotal: 939ms\tremaining: 133ms\n",
      "197:\tlearn: 1.0000000\ttest: 0.3209877\tbest: 0.3614458 (64)\ttotal: 945ms\tremaining: 129ms\n",
      "198:\tlearn: 1.0000000\ttest: 0.3250000\tbest: 0.3614458 (64)\ttotal: 950ms\tremaining: 124ms\n",
      "199:\tlearn: 1.0000000\ttest: 0.3250000\tbest: 0.3614458 (64)\ttotal: 956ms\tremaining: 119ms\n",
      "200:\tlearn: 1.0000000\ttest: 0.3250000\tbest: 0.3614458 (64)\ttotal: 962ms\tremaining: 115ms\n",
      "201:\tlearn: 1.0000000\ttest: 0.3250000\tbest: 0.3614458 (64)\ttotal: 967ms\tremaining: 110ms\n",
      "202:\tlearn: 1.0000000\ttest: 0.3250000\tbest: 0.3614458 (64)\ttotal: 972ms\tremaining: 105ms\n",
      "203:\tlearn: 1.0000000\ttest: 0.3291139\tbest: 0.3614458 (64)\ttotal: 978ms\tremaining: 101ms\n",
      "204:\tlearn: 1.0000000\ttest: 0.3291139\tbest: 0.3614458 (64)\ttotal: 983ms\tremaining: 95.9ms\n",
      "205:\tlearn: 1.0000000\ttest: 0.3250000\tbest: 0.3614458 (64)\ttotal: 988ms\tremaining: 91.1ms\n",
      "206:\tlearn: 1.0000000\ttest: 0.3250000\tbest: 0.3614458 (64)\ttotal: 994ms\tremaining: 86.4ms\n",
      "207:\tlearn: 1.0000000\ttest: 0.3250000\tbest: 0.3614458 (64)\ttotal: 999ms\tremaining: 81.6ms\n",
      "208:\tlearn: 1.0000000\ttest: 0.3209877\tbest: 0.3614458 (64)\ttotal: 1s\tremaining: 76.8ms\n",
      "209:\tlearn: 1.0000000\ttest: 0.3250000\tbest: 0.3614458 (64)\ttotal: 1.01s\tremaining: 72ms\n",
      "210:\tlearn: 1.0000000\ttest: 0.3170732\tbest: 0.3614458 (64)\ttotal: 1.01s\tremaining: 67.2ms\n",
      "211:\tlearn: 1.0000000\ttest: 0.3209877\tbest: 0.3614458 (64)\ttotal: 1.02s\tremaining: 62.4ms\n",
      "212:\tlearn: 1.0000000\ttest: 0.2962963\tbest: 0.3614458 (64)\ttotal: 1.02s\tremaining: 57.6ms\n",
      "213:\tlearn: 1.0000000\ttest: 0.3250000\tbest: 0.3614458 (64)\ttotal: 1.03s\tremaining: 52.8ms\n",
      "214:\tlearn: 1.0000000\ttest: 0.3209877\tbest: 0.3614458 (64)\ttotal: 1.03s\tremaining: 48ms\n",
      "215:\tlearn: 1.0000000\ttest: 0.3209877\tbest: 0.3614458 (64)\ttotal: 1.04s\tremaining: 43.2ms\n",
      "216:\tlearn: 1.0000000\ttest: 0.3209877\tbest: 0.3614458 (64)\ttotal: 1.04s\tremaining: 38.5ms\n",
      "217:\tlearn: 1.0000000\ttest: 0.3209877\tbest: 0.3614458 (64)\ttotal: 1.05s\tremaining: 33.7ms\n",
      "218:\tlearn: 1.0000000\ttest: 0.3037975\tbest: 0.3614458 (64)\ttotal: 1.05s\tremaining: 28.8ms\n",
      "219:\tlearn: 1.0000000\ttest: 0.2962963\tbest: 0.3614458 (64)\ttotal: 1.06s\tremaining: 24ms\n",
      "220:\tlearn: 1.0000000\ttest: 0.2962963\tbest: 0.3614458 (64)\ttotal: 1.06s\tremaining: 19.2ms\n",
      "221:\tlearn: 1.0000000\ttest: 0.2962963\tbest: 0.3614458 (64)\ttotal: 1.07s\tremaining: 14.4ms\n",
      "222:\tlearn: 1.0000000\ttest: 0.2962963\tbest: 0.3614458 (64)\ttotal: 1.07s\tremaining: 9.62ms\n",
      "223:\tlearn: 1.0000000\ttest: 0.3000000\tbest: 0.3614458 (64)\ttotal: 1.08s\tremaining: 4.81ms\n",
      "224:\tlearn: 1.0000000\ttest: 0.2962963\tbest: 0.3614458 (64)\ttotal: 1.08s\tremaining: 0us\n",
      "\n",
      "bestTest = 0.3614457831\n",
      "bestIteration = 64\n",
      "\n",
      "Training on fold [3/5]\n",
      "0:\tlearn: 0.4405594\ttest: 0.0000000\tbest: 0.0000000 (0)\ttotal: 4.85ms\tremaining: 1.09s\n",
      "1:\tlearn: 0.5319865\ttest: 0.1194030\tbest: 0.1194030 (1)\ttotal: 8.9ms\tremaining: 992ms\n",
      "2:\tlearn: 0.4912281\ttest: 0.0655738\tbest: 0.1194030 (1)\ttotal: 13ms\tremaining: 960ms\n",
      "3:\tlearn: 0.5753425\ttest: 0.0000000\tbest: 0.1194030 (1)\ttotal: 17.2ms\tremaining: 951ms\n",
      "4:\tlearn: 0.5684932\ttest: 0.0000000\tbest: 0.1194030 (1)\ttotal: 21.5ms\tremaining: 947ms\n",
      "5:\tlearn: 0.6319218\ttest: 0.0701754\tbest: 0.1194030 (1)\ttotal: 25.5ms\tremaining: 930ms\n",
      "6:\tlearn: 0.6666667\ttest: 0.0350877\tbest: 0.1194030 (1)\ttotal: 29.8ms\tremaining: 928ms\n",
      "7:\tlearn: 0.6688103\ttest: 0.0338983\tbest: 0.1194030 (1)\ttotal: 34.2ms\tremaining: 929ms\n",
      "8:\tlearn: 0.7062500\ttest: 0.0000000\tbest: 0.1194030 (1)\ttotal: 38.6ms\tremaining: 926ms\n",
      "9:\tlearn: 0.7604790\ttest: 0.0350877\tbest: 0.1194030 (1)\ttotal: 43ms\tremaining: 924ms\n",
      "10:\tlearn: 0.8000000\ttest: 0.0666667\tbest: 0.1194030 (1)\ttotal: 47.4ms\tremaining: 922ms\n",
      "11:\tlearn: 0.8171429\ttest: 0.0655738\tbest: 0.1194030 (1)\ttotal: 52.4ms\tremaining: 931ms\n",
      "12:\tlearn: 0.8205128\ttest: 0.0645161\tbest: 0.1194030 (1)\ttotal: 56.5ms\tremaining: 921ms\n",
      "13:\tlearn: 0.8467967\ttest: 0.1562500\tbest: 0.1562500 (13)\ttotal: 60.8ms\tremaining: 916ms\n",
      "14:\tlearn: 0.8719346\ttest: 0.1515152\tbest: 0.1562500 (13)\ttotal: 65.4ms\tremaining: 916ms\n",
      "15:\tlearn: 0.8960000\ttest: 0.1538462\tbest: 0.1562500 (13)\ttotal: 70.5ms\tremaining: 921ms\n",
      "16:\tlearn: 0.9076517\ttest: 0.1875000\tbest: 0.1875000 (16)\ttotal: 75ms\tremaining: 918ms\n",
      "17:\tlearn: 0.9218750\ttest: 0.1515152\tbest: 0.1875000 (16)\ttotal: 79ms\tremaining: 909ms\n",
      "18:\tlearn: 0.9274611\ttest: 0.2058824\tbest: 0.2058824 (18)\ttotal: 83.4ms\tremaining: 904ms\n",
      "19:\tlearn: 0.9384615\ttest: 0.1971831\tbest: 0.2058824 (18)\ttotal: 87.7ms\tremaining: 899ms\n",
      "20:\tlearn: 0.9465649\ttest: 0.2285714\tbest: 0.2285714 (20)\ttotal: 92.6ms\tremaining: 900ms\n",
      "21:\tlearn: 0.9518987\ttest: 0.2058824\tbest: 0.2285714 (20)\ttotal: 97.2ms\tremaining: 897ms\n",
      "22:\tlearn: 0.9650000\ttest: 0.2058824\tbest: 0.2285714 (20)\ttotal: 102ms\tremaining: 892ms\n",
      "23:\tlearn: 0.9752475\ttest: 0.1764706\tbest: 0.2285714 (20)\ttotal: 106ms\tremaining: 890ms\n",
      "24:\tlearn: 0.9802956\ttest: 0.2089552\tbest: 0.2285714 (20)\ttotal: 111ms\tremaining: 885ms\n",
      "25:\tlearn: 0.9777778\ttest: 0.1846154\tbest: 0.2285714 (20)\ttotal: 115ms\tremaining: 884ms\n",
      "26:\tlearn: 0.9752475\ttest: 0.2352941\tbest: 0.2352941 (26)\ttotal: 120ms\tremaining: 883ms\n",
      "27:\tlearn: 0.9828010\ttest: 0.1562500\tbest: 0.2352941 (26)\ttotal: 124ms\tremaining: 875ms\n",
      "28:\tlearn: 0.9877751\ttest: 0.1492537\tbest: 0.2352941 (26)\ttotal: 128ms\tremaining: 867ms\n",
      "29:\tlearn: 0.9877751\ttest: 0.1492537\tbest: 0.2352941 (26)\ttotal: 133ms\tremaining: 863ms\n",
      "30:\tlearn: 0.9902439\ttest: 0.1492537\tbest: 0.2352941 (26)\ttotal: 137ms\tremaining: 858ms\n",
      "31:\tlearn: 0.9927007\ttest: 0.1470588\tbest: 0.2352941 (26)\ttotal: 142ms\tremaining: 855ms\n",
      "32:\tlearn: 0.9927007\ttest: 0.1449275\tbest: 0.2352941 (26)\ttotal: 146ms\tremaining: 850ms\n",
      "33:\tlearn: 0.9951456\ttest: 0.1449275\tbest: 0.2352941 (26)\ttotal: 152ms\tremaining: 851ms\n",
      "34:\tlearn: 0.9927007\ttest: 0.1739130\tbest: 0.2352941 (26)\ttotal: 156ms\tremaining: 845ms\n",
      "35:\tlearn: 0.9927007\ttest: 0.1764706\tbest: 0.2352941 (26)\ttotal: 160ms\tremaining: 838ms\n",
      "36:\tlearn: 0.9951456\ttest: 0.1764706\tbest: 0.2352941 (26)\ttotal: 165ms\tremaining: 838ms\n",
      "37:\tlearn: 1.0000000\ttest: 0.1764706\tbest: 0.2352941 (26)\ttotal: 170ms\tremaining: 834ms\n",
      "38:\tlearn: 1.0000000\ttest: 0.1714286\tbest: 0.2352941 (26)\ttotal: 174ms\tremaining: 832ms\n",
      "39:\tlearn: 1.0000000\ttest: 0.1739130\tbest: 0.2352941 (26)\ttotal: 180ms\tremaining: 831ms\n",
      "40:\tlearn: 1.0000000\ttest: 0.1764706\tbest: 0.2352941 (26)\ttotal: 185ms\tremaining: 829ms\n",
      "41:\tlearn: 1.0000000\ttest: 0.1739130\tbest: 0.2352941 (26)\ttotal: 189ms\tremaining: 825ms\n",
      "42:\tlearn: 1.0000000\ttest: 0.1714286\tbest: 0.2352941 (26)\ttotal: 194ms\tremaining: 822ms\n",
      "43:\tlearn: 0.9975787\ttest: 0.1944444\tbest: 0.2352941 (26)\ttotal: 200ms\tremaining: 823ms\n",
      "44:\tlearn: 1.0000000\ttest: 0.1944444\tbest: 0.2352941 (26)\ttotal: 205ms\tremaining: 819ms\n",
      "45:\tlearn: 1.0000000\ttest: 0.1944444\tbest: 0.2352941 (26)\ttotal: 211ms\tremaining: 821ms\n",
      "46:\tlearn: 1.0000000\ttest: 0.1944444\tbest: 0.2352941 (26)\ttotal: 217ms\tremaining: 821ms\n",
      "47:\tlearn: 1.0000000\ttest: 0.1944444\tbest: 0.2352941 (26)\ttotal: 221ms\tremaining: 816ms\n",
      "48:\tlearn: 1.0000000\ttest: 0.1971831\tbest: 0.2352941 (26)\ttotal: 226ms\tremaining: 812ms\n",
      "49:\tlearn: 1.0000000\ttest: 0.1971831\tbest: 0.2352941 (26)\ttotal: 231ms\tremaining: 807ms\n",
      "50:\tlearn: 1.0000000\ttest: 0.1917808\tbest: 0.2352941 (26)\ttotal: 235ms\tremaining: 803ms\n",
      "51:\tlearn: 1.0000000\ttest: 0.1944444\tbest: 0.2352941 (26)\ttotal: 240ms\tremaining: 799ms\n",
      "52:\tlearn: 1.0000000\ttest: 0.1917808\tbest: 0.2352941 (26)\ttotal: 245ms\tremaining: 796ms\n",
      "53:\tlearn: 1.0000000\ttest: 0.1944444\tbest: 0.2352941 (26)\ttotal: 250ms\tremaining: 793ms\n",
      "54:\tlearn: 1.0000000\ttest: 0.1971831\tbest: 0.2352941 (26)\ttotal: 255ms\tremaining: 788ms\n",
      "55:\tlearn: 1.0000000\ttest: 0.1971831\tbest: 0.2352941 (26)\ttotal: 260ms\tremaining: 785ms\n",
      "56:\tlearn: 1.0000000\ttest: 0.2000000\tbest: 0.2352941 (26)\ttotal: 265ms\tremaining: 780ms\n",
      "57:\tlearn: 1.0000000\ttest: 0.2000000\tbest: 0.2352941 (26)\ttotal: 270ms\tremaining: 779ms\n",
      "58:\tlearn: 1.0000000\ttest: 0.2000000\tbest: 0.2352941 (26)\ttotal: 277ms\tremaining: 780ms\n",
      "59:\tlearn: 1.0000000\ttest: 0.1971831\tbest: 0.2352941 (26)\ttotal: 284ms\tremaining: 780ms\n",
      "60:\tlearn: 1.0000000\ttest: 0.1971831\tbest: 0.2352941 (26)\ttotal: 288ms\tremaining: 775ms\n",
      "61:\tlearn: 1.0000000\ttest: 0.1971831\tbest: 0.2352941 (26)\ttotal: 294ms\tremaining: 772ms\n",
      "62:\tlearn: 1.0000000\ttest: 0.1971831\tbest: 0.2352941 (26)\ttotal: 298ms\tremaining: 767ms\n",
      "63:\tlearn: 1.0000000\ttest: 0.1944444\tbest: 0.2352941 (26)\ttotal: 303ms\tremaining: 762ms\n",
      "64:\tlearn: 1.0000000\ttest: 0.1971831\tbest: 0.2352941 (26)\ttotal: 308ms\tremaining: 758ms\n",
      "65:\tlearn: 1.0000000\ttest: 0.1971831\tbest: 0.2352941 (26)\ttotal: 313ms\tremaining: 753ms\n",
      "66:\tlearn: 1.0000000\ttest: 0.1944444\tbest: 0.2352941 (26)\ttotal: 317ms\tremaining: 749ms\n",
      "67:\tlearn: 1.0000000\ttest: 0.1971831\tbest: 0.2352941 (26)\ttotal: 324ms\tremaining: 747ms\n",
      "68:\tlearn: 1.0000000\ttest: 0.1891892\tbest: 0.2352941 (26)\ttotal: 329ms\tremaining: 744ms\n",
      "69:\tlearn: 1.0000000\ttest: 0.1944444\tbest: 0.2352941 (26)\ttotal: 333ms\tremaining: 738ms\n",
      "70:\tlearn: 1.0000000\ttest: 0.1944444\tbest: 0.2352941 (26)\ttotal: 339ms\tremaining: 735ms\n",
      "71:\tlearn: 1.0000000\ttest: 0.1944444\tbest: 0.2352941 (26)\ttotal: 344ms\tremaining: 731ms\n",
      "72:\tlearn: 1.0000000\ttest: 0.1944444\tbest: 0.2352941 (26)\ttotal: 348ms\tremaining: 725ms\n",
      "73:\tlearn: 1.0000000\ttest: 0.1917808\tbest: 0.2352941 (26)\ttotal: 353ms\tremaining: 720ms\n",
      "74:\tlearn: 1.0000000\ttest: 0.1891892\tbest: 0.2352941 (26)\ttotal: 358ms\tremaining: 716ms\n",
      "75:\tlearn: 1.0000000\ttest: 0.1866667\tbest: 0.2352941 (26)\ttotal: 363ms\tremaining: 713ms\n",
      "76:\tlearn: 1.0000000\ttest: 0.1866667\tbest: 0.2352941 (26)\ttotal: 369ms\tremaining: 710ms\n",
      "77:\tlearn: 1.0000000\ttest: 0.1866667\tbest: 0.2352941 (26)\ttotal: 374ms\tremaining: 705ms\n",
      "78:\tlearn: 1.0000000\ttest: 0.1891892\tbest: 0.2352941 (26)\ttotal: 379ms\tremaining: 701ms\n",
      "79:\tlearn: 1.0000000\ttest: 0.1891892\tbest: 0.2352941 (26)\ttotal: 384ms\tremaining: 696ms\n",
      "80:\tlearn: 1.0000000\ttest: 0.1891892\tbest: 0.2352941 (26)\ttotal: 389ms\tremaining: 691ms\n",
      "81:\tlearn: 1.0000000\ttest: 0.1891892\tbest: 0.2352941 (26)\ttotal: 394ms\tremaining: 686ms\n",
      "82:\tlearn: 1.0000000\ttest: 0.1891892\tbest: 0.2352941 (26)\ttotal: 398ms\tremaining: 681ms\n",
      "83:\tlearn: 1.0000000\ttest: 0.1891892\tbest: 0.2352941 (26)\ttotal: 404ms\tremaining: 678ms\n",
      "84:\tlearn: 1.0000000\ttest: 0.1891892\tbest: 0.2352941 (26)\ttotal: 409ms\tremaining: 674ms\n",
      "85:\tlearn: 1.0000000\ttest: 0.1891892\tbest: 0.2352941 (26)\ttotal: 415ms\tremaining: 671ms\n",
      "86:\tlearn: 1.0000000\ttest: 0.1866667\tbest: 0.2352941 (26)\ttotal: 420ms\tremaining: 666ms\n",
      "87:\tlearn: 1.0000000\ttest: 0.1866667\tbest: 0.2352941 (26)\ttotal: 424ms\tremaining: 660ms\n",
      "88:\tlearn: 1.0000000\ttest: 0.1891892\tbest: 0.2352941 (26)\ttotal: 429ms\tremaining: 656ms\n",
      "89:\tlearn: 1.0000000\ttest: 0.1866667\tbest: 0.2352941 (26)\ttotal: 435ms\tremaining: 652ms\n",
      "90:\tlearn: 1.0000000\ttest: 0.1866667\tbest: 0.2352941 (26)\ttotal: 440ms\tremaining: 648ms\n",
      "91:\tlearn: 1.0000000\ttest: 0.1866667\tbest: 0.2352941 (26)\ttotal: 445ms\tremaining: 644ms\n",
      "92:\tlearn: 1.0000000\ttest: 0.1842105\tbest: 0.2352941 (26)\ttotal: 450ms\tremaining: 639ms\n",
      "93:\tlearn: 1.0000000\ttest: 0.1842105\tbest: 0.2352941 (26)\ttotal: 455ms\tremaining: 634ms\n",
      "94:\tlearn: 1.0000000\ttest: 0.1866667\tbest: 0.2352941 (26)\ttotal: 459ms\tremaining: 629ms\n",
      "95:\tlearn: 1.0000000\ttest: 0.1917808\tbest: 0.2352941 (26)\ttotal: 465ms\tremaining: 625ms\n",
      "96:\tlearn: 1.0000000\ttest: 0.1891892\tbest: 0.2352941 (26)\ttotal: 471ms\tremaining: 621ms\n",
      "97:\tlearn: 1.0000000\ttest: 0.1891892\tbest: 0.2352941 (26)\ttotal: 475ms\tremaining: 615ms\n",
      "98:\tlearn: 1.0000000\ttest: 0.1917808\tbest: 0.2352941 (26)\ttotal: 479ms\tremaining: 610ms\n",
      "99:\tlearn: 1.0000000\ttest: 0.1866667\tbest: 0.2352941 (26)\ttotal: 483ms\tremaining: 604ms\n",
      "100:\tlearn: 1.0000000\ttest: 0.1944444\tbest: 0.2352941 (26)\ttotal: 487ms\tremaining: 598ms\n",
      "101:\tlearn: 1.0000000\ttest: 0.2133333\tbest: 0.2352941 (26)\ttotal: 492ms\tremaining: 593ms\n",
      "102:\tlearn: 1.0000000\ttest: 0.2133333\tbest: 0.2352941 (26)\ttotal: 496ms\tremaining: 587ms\n",
      "103:\tlearn: 1.0000000\ttest: 0.2105263\tbest: 0.2352941 (26)\ttotal: 501ms\tremaining: 582ms\n",
      "104:\tlearn: 1.0000000\ttest: 0.2105263\tbest: 0.2352941 (26)\ttotal: 505ms\tremaining: 577ms\n",
      "105:\tlearn: 1.0000000\ttest: 0.2105263\tbest: 0.2352941 (26)\ttotal: 510ms\tremaining: 572ms\n",
      "106:\tlearn: 1.0000000\ttest: 0.2162162\tbest: 0.2352941 (26)\ttotal: 515ms\tremaining: 568ms\n",
      "107:\tlearn: 1.0000000\ttest: 0.2162162\tbest: 0.2352941 (26)\ttotal: 519ms\tremaining: 563ms\n",
      "108:\tlearn: 1.0000000\ttest: 0.2162162\tbest: 0.2352941 (26)\ttotal: 524ms\tremaining: 558ms\n",
      "109:\tlearn: 1.0000000\ttest: 0.2133333\tbest: 0.2352941 (26)\ttotal: 529ms\tremaining: 553ms\n",
      "110:\tlearn: 1.0000000\ttest: 0.2133333\tbest: 0.2352941 (26)\ttotal: 533ms\tremaining: 548ms\n",
      "111:\tlearn: 1.0000000\ttest: 0.2133333\tbest: 0.2352941 (26)\ttotal: 538ms\tremaining: 542ms\n",
      "112:\tlearn: 1.0000000\ttest: 0.2400000\tbest: 0.2400000 (112)\ttotal: 542ms\tremaining: 537ms\n",
      "113:\tlearn: 1.0000000\ttest: 0.2400000\tbest: 0.2400000 (112)\ttotal: 546ms\tremaining: 532ms\n",
      "114:\tlearn: 1.0000000\ttest: 0.2162162\tbest: 0.2400000 (112)\ttotal: 551ms\tremaining: 527ms\n",
      "115:\tlearn: 1.0000000\ttest: 0.1917808\tbest: 0.2400000 (112)\ttotal: 555ms\tremaining: 522ms\n",
      "116:\tlearn: 1.0000000\ttest: 0.2432432\tbest: 0.2432432 (116)\ttotal: 559ms\tremaining: 516ms\n",
      "117:\tlearn: 1.0000000\ttest: 0.2666667\tbest: 0.2666667 (117)\ttotal: 564ms\tremaining: 512ms\n",
      "118:\tlearn: 1.0000000\ttest: 0.2631579\tbest: 0.2666667 (117)\ttotal: 568ms\tremaining: 506ms\n",
      "119:\tlearn: 1.0000000\ttest: 0.2631579\tbest: 0.2666667 (117)\ttotal: 572ms\tremaining: 501ms\n",
      "120:\tlearn: 1.0000000\ttest: 0.2631579\tbest: 0.2666667 (117)\ttotal: 577ms\tremaining: 496ms\n",
      "121:\tlearn: 1.0000000\ttest: 0.2400000\tbest: 0.2666667 (117)\ttotal: 582ms\tremaining: 491ms\n",
      "122:\tlearn: 1.0000000\ttest: 0.2702703\tbest: 0.2702703 (122)\ttotal: 587ms\tremaining: 486ms\n",
      "123:\tlearn: 1.0000000\ttest: 0.2666667\tbest: 0.2702703 (122)\ttotal: 591ms\tremaining: 482ms\n",
      "124:\tlearn: 1.0000000\ttest: 0.2631579\tbest: 0.2702703 (122)\ttotal: 597ms\tremaining: 477ms\n",
      "125:\tlearn: 1.0000000\ttest: 0.2666667\tbest: 0.2702703 (122)\ttotal: 602ms\tremaining: 473ms\n",
      "126:\tlearn: 1.0000000\ttest: 0.2666667\tbest: 0.2702703 (122)\ttotal: 606ms\tremaining: 468ms\n",
      "127:\tlearn: 1.0000000\ttest: 0.2666667\tbest: 0.2702703 (122)\ttotal: 612ms\tremaining: 463ms\n",
      "128:\tlearn: 1.0000000\ttest: 0.2666667\tbest: 0.2702703 (122)\ttotal: 617ms\tremaining: 459ms\n",
      "129:\tlearn: 1.0000000\ttest: 0.2666667\tbest: 0.2702703 (122)\ttotal: 621ms\tremaining: 454ms\n",
      "130:\tlearn: 1.0000000\ttest: 0.2666667\tbest: 0.2702703 (122)\ttotal: 626ms\tremaining: 449ms\n",
      "131:\tlearn: 1.0000000\ttest: 0.2702703\tbest: 0.2702703 (122)\ttotal: 631ms\tremaining: 445ms\n",
      "132:\tlearn: 1.0000000\ttest: 0.2465753\tbest: 0.2702703 (122)\ttotal: 636ms\tremaining: 440ms\n",
      "133:\tlearn: 1.0000000\ttest: 0.2465753\tbest: 0.2702703 (122)\ttotal: 641ms\tremaining: 435ms\n",
      "134:\tlearn: 1.0000000\ttest: 0.2465753\tbest: 0.2702703 (122)\ttotal: 645ms\tremaining: 430ms\n",
      "135:\tlearn: 1.0000000\ttest: 0.2432432\tbest: 0.2702703 (122)\ttotal: 651ms\tremaining: 426ms\n",
      "136:\tlearn: 1.0000000\ttest: 0.2432432\tbest: 0.2702703 (122)\ttotal: 656ms\tremaining: 421ms\n",
      "137:\tlearn: 1.0000000\ttest: 0.2432432\tbest: 0.2702703 (122)\ttotal: 661ms\tremaining: 416ms\n",
      "138:\tlearn: 1.0000000\ttest: 0.2400000\tbest: 0.2702703 (122)\ttotal: 665ms\tremaining: 412ms\n",
      "139:\tlearn: 1.0000000\ttest: 0.2400000\tbest: 0.2702703 (122)\ttotal: 670ms\tremaining: 407ms\n",
      "140:\tlearn: 1.0000000\ttest: 0.2400000\tbest: 0.2702703 (122)\ttotal: 674ms\tremaining: 402ms\n",
      "141:\tlearn: 1.0000000\ttest: 0.2400000\tbest: 0.2702703 (122)\ttotal: 679ms\tremaining: 397ms\n",
      "142:\tlearn: 1.0000000\ttest: 0.2400000\tbest: 0.2702703 (122)\ttotal: 683ms\tremaining: 392ms\n",
      "143:\tlearn: 1.0000000\ttest: 0.2400000\tbest: 0.2702703 (122)\ttotal: 688ms\tremaining: 387ms\n",
      "144:\tlearn: 1.0000000\ttest: 0.2400000\tbest: 0.2702703 (122)\ttotal: 693ms\tremaining: 382ms\n",
      "145:\tlearn: 1.0000000\ttest: 0.2162162\tbest: 0.2702703 (122)\ttotal: 698ms\tremaining: 378ms\n",
      "146:\tlearn: 1.0000000\ttest: 0.2162162\tbest: 0.2702703 (122)\ttotal: 703ms\tremaining: 373ms\n",
      "147:\tlearn: 1.0000000\ttest: 0.2162162\tbest: 0.2702703 (122)\ttotal: 708ms\tremaining: 368ms\n",
      "148:\tlearn: 1.0000000\ttest: 0.2400000\tbest: 0.2702703 (122)\ttotal: 713ms\tremaining: 364ms\n",
      "149:\tlearn: 1.0000000\ttest: 0.2400000\tbest: 0.2702703 (122)\ttotal: 717ms\tremaining: 359ms\n",
      "150:\tlearn: 1.0000000\ttest: 0.2400000\tbest: 0.2702703 (122)\ttotal: 723ms\tremaining: 354ms\n",
      "151:\tlearn: 1.0000000\ttest: 0.2400000\tbest: 0.2702703 (122)\ttotal: 727ms\tremaining: 349ms\n",
      "152:\tlearn: 1.0000000\ttest: 0.2400000\tbest: 0.2702703 (122)\ttotal: 732ms\tremaining: 344ms\n",
      "153:\tlearn: 1.0000000\ttest: 0.2631579\tbest: 0.2702703 (122)\ttotal: 736ms\tremaining: 339ms\n",
      "154:\tlearn: 1.0000000\ttest: 0.2400000\tbest: 0.2702703 (122)\ttotal: 740ms\tremaining: 334ms\n",
      "155:\tlearn: 1.0000000\ttest: 0.2400000\tbest: 0.2702703 (122)\ttotal: 745ms\tremaining: 330ms\n",
      "156:\tlearn: 1.0000000\ttest: 0.2400000\tbest: 0.2702703 (122)\ttotal: 750ms\tremaining: 325ms\n",
      "157:\tlearn: 1.0000000\ttest: 0.2400000\tbest: 0.2702703 (122)\ttotal: 755ms\tremaining: 320ms\n",
      "158:\tlearn: 1.0000000\ttest: 0.2400000\tbest: 0.2702703 (122)\ttotal: 760ms\tremaining: 316ms\n",
      "159:\tlearn: 1.0000000\ttest: 0.2400000\tbest: 0.2702703 (122)\ttotal: 765ms\tremaining: 311ms\n",
      "160:\tlearn: 1.0000000\ttest: 0.2400000\tbest: 0.2702703 (122)\ttotal: 770ms\tremaining: 306ms\n",
      "161:\tlearn: 1.0000000\ttest: 0.2400000\tbest: 0.2702703 (122)\ttotal: 775ms\tremaining: 301ms\n",
      "162:\tlearn: 1.0000000\ttest: 0.2400000\tbest: 0.2702703 (122)\ttotal: 779ms\tremaining: 296ms\n",
      "163:\tlearn: 1.0000000\ttest: 0.2400000\tbest: 0.2702703 (122)\ttotal: 784ms\tremaining: 292ms\n",
      "164:\tlearn: 1.0000000\ttest: 0.2400000\tbest: 0.2702703 (122)\ttotal: 789ms\tremaining: 287ms\n",
      "165:\tlearn: 1.0000000\ttest: 0.2400000\tbest: 0.2702703 (122)\ttotal: 794ms\tremaining: 282ms\n",
      "166:\tlearn: 1.0000000\ttest: 0.2631579\tbest: 0.2702703 (122)\ttotal: 799ms\tremaining: 277ms\n",
      "167:\tlearn: 1.0000000\ttest: 0.2631579\tbest: 0.2702703 (122)\ttotal: 804ms\tremaining: 273ms\n",
      "168:\tlearn: 1.0000000\ttest: 0.2631579\tbest: 0.2702703 (122)\ttotal: 808ms\tremaining: 268ms\n",
      "169:\tlearn: 1.0000000\ttest: 0.2631579\tbest: 0.2702703 (122)\ttotal: 812ms\tremaining: 263ms\n",
      "170:\tlearn: 1.0000000\ttest: 0.2631579\tbest: 0.2702703 (122)\ttotal: 817ms\tremaining: 258ms\n",
      "171:\tlearn: 1.0000000\ttest: 0.2631579\tbest: 0.2702703 (122)\ttotal: 822ms\tremaining: 253ms\n",
      "172:\tlearn: 1.0000000\ttest: 0.2631579\tbest: 0.2702703 (122)\ttotal: 826ms\tremaining: 248ms\n",
      "173:\tlearn: 1.0000000\ttest: 0.2631579\tbest: 0.2702703 (122)\ttotal: 831ms\tremaining: 244ms\n",
      "174:\tlearn: 1.0000000\ttest: 0.2666667\tbest: 0.2702703 (122)\ttotal: 836ms\tremaining: 239ms\n",
      "175:\tlearn: 1.0000000\ttest: 0.2432432\tbest: 0.2702703 (122)\ttotal: 840ms\tremaining: 234ms\n",
      "176:\tlearn: 1.0000000\ttest: 0.2432432\tbest: 0.2702703 (122)\ttotal: 845ms\tremaining: 229ms\n",
      "177:\tlearn: 1.0000000\ttest: 0.2432432\tbest: 0.2702703 (122)\ttotal: 850ms\tremaining: 225ms\n",
      "178:\tlearn: 1.0000000\ttest: 0.2432432\tbest: 0.2702703 (122)\ttotal: 855ms\tremaining: 220ms\n",
      "179:\tlearn: 1.0000000\ttest: 0.2432432\tbest: 0.2702703 (122)\ttotal: 859ms\tremaining: 215ms\n",
      "180:\tlearn: 1.0000000\ttest: 0.2432432\tbest: 0.2702703 (122)\ttotal: 864ms\tremaining: 210ms\n",
      "181:\tlearn: 1.0000000\ttest: 0.2432432\tbest: 0.2702703 (122)\ttotal: 868ms\tremaining: 205ms\n",
      "182:\tlearn: 1.0000000\ttest: 0.2432432\tbest: 0.2702703 (122)\ttotal: 875ms\tremaining: 201ms\n",
      "183:\tlearn: 1.0000000\ttest: 0.2465753\tbest: 0.2702703 (122)\ttotal: 880ms\tremaining: 196ms\n",
      "184:\tlearn: 1.0000000\ttest: 0.2465753\tbest: 0.2702703 (122)\ttotal: 886ms\tremaining: 191ms\n",
      "185:\tlearn: 1.0000000\ttest: 0.2465753\tbest: 0.2702703 (122)\ttotal: 891ms\tremaining: 187ms\n",
      "186:\tlearn: 1.0000000\ttest: 0.2465753\tbest: 0.2702703 (122)\ttotal: 896ms\tremaining: 182ms\n",
      "187:\tlearn: 1.0000000\ttest: 0.2465753\tbest: 0.2702703 (122)\ttotal: 903ms\tremaining: 178ms\n",
      "188:\tlearn: 1.0000000\ttest: 0.2222222\tbest: 0.2702703 (122)\ttotal: 909ms\tremaining: 173ms\n",
      "189:\tlearn: 1.0000000\ttest: 0.2465753\tbest: 0.2702703 (122)\ttotal: 914ms\tremaining: 168ms\n",
      "190:\tlearn: 1.0000000\ttest: 0.2465753\tbest: 0.2702703 (122)\ttotal: 919ms\tremaining: 164ms\n",
      "191:\tlearn: 1.0000000\ttest: 0.2222222\tbest: 0.2702703 (122)\ttotal: 925ms\tremaining: 159ms\n",
      "192:\tlearn: 1.0000000\ttest: 0.2222222\tbest: 0.2702703 (122)\ttotal: 931ms\tremaining: 154ms\n",
      "193:\tlearn: 1.0000000\ttest: 0.2222222\tbest: 0.2702703 (122)\ttotal: 935ms\tremaining: 149ms\n",
      "194:\tlearn: 1.0000000\ttest: 0.2222222\tbest: 0.2702703 (122)\ttotal: 940ms\tremaining: 145ms\n",
      "195:\tlearn: 1.0000000\ttest: 0.2222222\tbest: 0.2702703 (122)\ttotal: 945ms\tremaining: 140ms\n",
      "196:\tlearn: 1.0000000\ttest: 0.2432432\tbest: 0.2702703 (122)\ttotal: 950ms\tremaining: 135ms\n",
      "197:\tlearn: 1.0000000\ttest: 0.2432432\tbest: 0.2702703 (122)\ttotal: 955ms\tremaining: 130ms\n",
      "198:\tlearn: 1.0000000\ttest: 0.2191781\tbest: 0.2702703 (122)\ttotal: 960ms\tremaining: 125ms\n",
      "199:\tlearn: 1.0000000\ttest: 0.2191781\tbest: 0.2702703 (122)\ttotal: 965ms\tremaining: 121ms\n",
      "200:\tlearn: 1.0000000\ttest: 0.2191781\tbest: 0.2702703 (122)\ttotal: 970ms\tremaining: 116ms\n",
      "201:\tlearn: 1.0000000\ttest: 0.2432432\tbest: 0.2702703 (122)\ttotal: 974ms\tremaining: 111ms\n",
      "202:\tlearn: 1.0000000\ttest: 0.2432432\tbest: 0.2702703 (122)\ttotal: 978ms\tremaining: 106ms\n",
      "203:\tlearn: 1.0000000\ttest: 0.2432432\tbest: 0.2702703 (122)\ttotal: 983ms\tremaining: 101ms\n",
      "204:\tlearn: 1.0000000\ttest: 0.2465753\tbest: 0.2702703 (122)\ttotal: 988ms\tremaining: 96.4ms\n",
      "205:\tlearn: 1.0000000\ttest: 0.2465753\tbest: 0.2702703 (122)\ttotal: 992ms\tremaining: 91.5ms\n",
      "206:\tlearn: 1.0000000\ttest: 0.2432432\tbest: 0.2702703 (122)\ttotal: 997ms\tremaining: 86.7ms\n",
      "207:\tlearn: 1.0000000\ttest: 0.2432432\tbest: 0.2702703 (122)\ttotal: 1s\tremaining: 81.9ms\n",
      "208:\tlearn: 1.0000000\ttest: 0.2191781\tbest: 0.2702703 (122)\ttotal: 1.01s\tremaining: 77.1ms\n",
      "209:\tlearn: 1.0000000\ttest: 0.2191781\tbest: 0.2702703 (122)\ttotal: 1.01s\tremaining: 72.2ms\n",
      "210:\tlearn: 1.0000000\ttest: 0.2432432\tbest: 0.2702703 (122)\ttotal: 1.02s\tremaining: 67.4ms\n",
      "211:\tlearn: 1.0000000\ttest: 0.2432432\tbest: 0.2702703 (122)\ttotal: 1.02s\tremaining: 62.6ms\n",
      "212:\tlearn: 1.0000000\ttest: 0.2432432\tbest: 0.2702703 (122)\ttotal: 1.02s\tremaining: 57.8ms\n",
      "213:\tlearn: 1.0000000\ttest: 0.2465753\tbest: 0.2702703 (122)\ttotal: 1.03s\tremaining: 53ms\n",
      "214:\tlearn: 1.0000000\ttest: 0.2432432\tbest: 0.2702703 (122)\ttotal: 1.03s\tremaining: 48.1ms\n",
      "215:\tlearn: 1.0000000\ttest: 0.2465753\tbest: 0.2702703 (122)\ttotal: 1.04s\tremaining: 43.3ms\n",
      "216:\tlearn: 1.0000000\ttest: 0.2432432\tbest: 0.2702703 (122)\ttotal: 1.04s\tremaining: 38.6ms\n",
      "217:\tlearn: 1.0000000\ttest: 0.2432432\tbest: 0.2702703 (122)\ttotal: 1.05s\tremaining: 33.7ms\n",
      "218:\tlearn: 1.0000000\ttest: 0.2432432\tbest: 0.2702703 (122)\ttotal: 1.05s\tremaining: 28.9ms\n",
      "219:\tlearn: 1.0000000\ttest: 0.2432432\tbest: 0.2702703 (122)\ttotal: 1.06s\tremaining: 24.1ms\n",
      "220:\tlearn: 1.0000000\ttest: 0.2465753\tbest: 0.2702703 (122)\ttotal: 1.06s\tremaining: 19.3ms\n",
      "221:\tlearn: 1.0000000\ttest: 0.2465753\tbest: 0.2702703 (122)\ttotal: 1.07s\tremaining: 14.4ms\n",
      "222:\tlearn: 1.0000000\ttest: 0.2465753\tbest: 0.2702703 (122)\ttotal: 1.07s\tremaining: 9.63ms\n",
      "223:\tlearn: 1.0000000\ttest: 0.2465753\tbest: 0.2702703 (122)\ttotal: 1.08s\tremaining: 4.82ms\n",
      "224:\tlearn: 1.0000000\ttest: 0.2465753\tbest: 0.2702703 (122)\ttotal: 1.08s\tremaining: 0us\n",
      "\n",
      "bestTest = 0.2702702703\n",
      "bestIteration = 122\n",
      "\n",
      "Training on fold [4/5]\n",
      "0:\tlearn: 0.3914591\ttest: 0.1538462\tbest: 0.1538462 (0)\ttotal: 4.46ms\tremaining: 1s\n",
      "1:\tlearn: 0.6139241\ttest: 0.1159420\tbest: 0.1538462 (0)\ttotal: 8.55ms\tremaining: 953ms\n",
      "2:\tlearn: 0.6109325\ttest: 0.1428571\tbest: 0.1538462 (0)\ttotal: 13.3ms\tremaining: 981ms\n",
      "3:\tlearn: 0.6496815\ttest: 0.1230769\tbest: 0.1538462 (0)\ttotal: 17.2ms\tremaining: 953ms\n",
      "4:\tlearn: 0.6666667\ttest: 0.0937500\tbest: 0.1538462 (0)\ttotal: 21.4ms\tremaining: 942ms\n",
      "5:\tlearn: 0.6913580\ttest: 0.1212121\tbest: 0.1538462 (0)\ttotal: 25.7ms\tremaining: 938ms\n",
      "6:\tlearn: 0.7212121\ttest: 0.1269841\tbest: 0.1538462 (0)\ttotal: 29.9ms\tremaining: 932ms\n",
      "7:\tlearn: 0.7647059\ttest: 0.1212121\tbest: 0.1538462 (0)\ttotal: 34ms\tremaining: 922ms\n",
      "8:\tlearn: 0.7884058\ttest: 0.1492537\tbest: 0.1538462 (0)\ttotal: 38.1ms\tremaining: 915ms\n",
      "9:\tlearn: 0.8291317\ttest: 0.1791045\tbest: 0.1791045 (9)\ttotal: 42.7ms\tremaining: 918ms\n",
      "10:\tlearn: 0.8870968\ttest: 0.1714286\tbest: 0.1791045 (9)\ttotal: 47.1ms\tremaining: 916ms\n",
      "11:\tlearn: 0.9138381\ttest: 0.1714286\tbest: 0.1791045 (9)\ttotal: 51.2ms\tremaining: 908ms\n",
      "12:\tlearn: 0.9190601\ttest: 0.1470588\tbest: 0.1791045 (9)\ttotal: 56ms\tremaining: 913ms\n",
      "13:\tlearn: 0.9246753\ttest: 0.2058824\tbest: 0.2058824 (13)\ttotal: 60ms\tremaining: 904ms\n",
      "14:\tlearn: 0.9329897\ttest: 0.1846154\tbest: 0.2058824 (13)\ttotal: 64.2ms\tremaining: 899ms\n",
      "15:\tlearn: 0.9438776\ttest: 0.1538462\tbest: 0.2058824 (13)\ttotal: 68.6ms\tremaining: 896ms\n",
      "16:\tlearn: 0.9518987\ttest: 0.1538462\tbest: 0.2058824 (13)\ttotal: 73.1ms\tremaining: 895ms\n",
      "17:\tlearn: 0.9545455\ttest: 0.1791045\tbest: 0.2058824 (13)\ttotal: 78ms\tremaining: 897ms\n",
      "18:\tlearn: 0.9597990\ttest: 0.1846154\tbest: 0.2058824 (13)\ttotal: 82.8ms\tremaining: 898ms\n",
      "19:\tlearn: 0.9675810\ttest: 0.1818182\tbest: 0.2058824 (13)\ttotal: 87.9ms\tremaining: 901ms\n",
      "20:\tlearn: 0.9802956\ttest: 0.1739130\tbest: 0.2058824 (13)\ttotal: 92.5ms\tremaining: 899ms\n",
      "21:\tlearn: 0.9777778\ttest: 0.1739130\tbest: 0.2058824 (13)\ttotal: 96.8ms\tremaining: 893ms\n",
      "22:\tlearn: 0.9852941\ttest: 0.1764706\tbest: 0.2058824 (13)\ttotal: 102ms\tremaining: 893ms\n",
      "23:\tlearn: 0.9877751\ttest: 0.1515152\tbest: 0.2058824 (13)\ttotal: 107ms\tremaining: 898ms\n",
      "24:\tlearn: 0.9902439\ttest: 0.1492537\tbest: 0.2058824 (13)\ttotal: 112ms\tremaining: 894ms\n",
      "25:\tlearn: 0.9902439\ttest: 0.1492537\tbest: 0.2058824 (13)\ttotal: 116ms\tremaining: 889ms\n",
      "26:\tlearn: 0.9902439\ttest: 0.1449275\tbest: 0.2058824 (13)\ttotal: 121ms\tremaining: 889ms\n",
      "27:\tlearn: 0.9927007\ttest: 0.1714286\tbest: 0.2058824 (13)\ttotal: 126ms\tremaining: 884ms\n",
      "28:\tlearn: 0.9927007\ttest: 0.1449275\tbest: 0.2058824 (13)\ttotal: 130ms\tremaining: 879ms\n",
      "29:\tlearn: 0.9927007\ttest: 0.1428571\tbest: 0.2058824 (13)\ttotal: 136ms\tremaining: 884ms\n",
      "30:\tlearn: 0.9951456\ttest: 0.1428571\tbest: 0.2058824 (13)\ttotal: 142ms\tremaining: 891ms\n",
      "31:\tlearn: 0.9975787\ttest: 0.1428571\tbest: 0.2058824 (13)\ttotal: 147ms\tremaining: 887ms\n",
      "32:\tlearn: 0.9975787\ttest: 0.1690141\tbest: 0.2058824 (13)\ttotal: 152ms\tremaining: 883ms\n",
      "33:\tlearn: 0.9975787\ttest: 0.1449275\tbest: 0.2058824 (13)\ttotal: 157ms\tremaining: 880ms\n",
      "34:\tlearn: 0.9975787\ttest: 0.1690141\tbest: 0.2058824 (13)\ttotal: 161ms\tremaining: 874ms\n",
      "35:\tlearn: 0.9975787\ttest: 0.1690141\tbest: 0.2058824 (13)\ttotal: 166ms\tremaining: 873ms\n",
      "36:\tlearn: 1.0000000\ttest: 0.1944444\tbest: 0.2058824 (13)\ttotal: 171ms\tremaining: 868ms\n",
      "37:\tlearn: 0.9951456\ttest: 0.1690141\tbest: 0.2058824 (13)\ttotal: 175ms\tremaining: 862ms\n",
      "38:\tlearn: 0.9975787\ttest: 0.1971831\tbest: 0.2058824 (13)\ttotal: 180ms\tremaining: 858ms\n",
      "39:\tlearn: 1.0000000\ttest: 0.1666667\tbest: 0.2058824 (13)\ttotal: 185ms\tremaining: 858ms\n",
      "40:\tlearn: 1.0000000\ttest: 0.1917808\tbest: 0.2058824 (13)\ttotal: 191ms\tremaining: 857ms\n",
      "41:\tlearn: 1.0000000\ttest: 0.1944444\tbest: 0.2058824 (13)\ttotal: 196ms\tremaining: 854ms\n",
      "42:\tlearn: 1.0000000\ttest: 0.1714286\tbest: 0.2058824 (13)\ttotal: 201ms\tremaining: 849ms\n",
      "43:\tlearn: 1.0000000\ttest: 0.2000000\tbest: 0.2058824 (13)\ttotal: 206ms\tremaining: 846ms\n",
      "44:\tlearn: 1.0000000\ttest: 0.1944444\tbest: 0.2058824 (13)\ttotal: 210ms\tremaining: 840ms\n",
      "45:\tlearn: 1.0000000\ttest: 0.1944444\tbest: 0.2058824 (13)\ttotal: 215ms\tremaining: 836ms\n",
      "46:\tlearn: 1.0000000\ttest: 0.1690141\tbest: 0.2058824 (13)\ttotal: 219ms\tremaining: 830ms\n",
      "47:\tlearn: 1.0000000\ttest: 0.1971831\tbest: 0.2058824 (13)\ttotal: 224ms\tremaining: 825ms\n",
      "48:\tlearn: 1.0000000\ttest: 0.1971831\tbest: 0.2058824 (13)\ttotal: 228ms\tremaining: 819ms\n",
      "49:\tlearn: 1.0000000\ttest: 0.1714286\tbest: 0.2058824 (13)\ttotal: 232ms\tremaining: 814ms\n",
      "50:\tlearn: 1.0000000\ttest: 0.1714286\tbest: 0.2058824 (13)\ttotal: 237ms\tremaining: 808ms\n",
      "51:\tlearn: 1.0000000\ttest: 0.1666667\tbest: 0.2058824 (13)\ttotal: 242ms\tremaining: 805ms\n",
      "52:\tlearn: 1.0000000\ttest: 0.1643836\tbest: 0.2058824 (13)\ttotal: 247ms\tremaining: 802ms\n",
      "53:\tlearn: 1.0000000\ttest: 0.1643836\tbest: 0.2058824 (13)\ttotal: 252ms\tremaining: 798ms\n",
      "54:\tlearn: 1.0000000\ttest: 0.1621622\tbest: 0.2058824 (13)\ttotal: 257ms\tremaining: 793ms\n",
      "55:\tlearn: 1.0000000\ttest: 0.1621622\tbest: 0.2058824 (13)\ttotal: 261ms\tremaining: 789ms\n",
      "56:\tlearn: 1.0000000\ttest: 0.1621622\tbest: 0.2058824 (13)\ttotal: 267ms\tremaining: 786ms\n",
      "57:\tlearn: 1.0000000\ttest: 0.1666667\tbest: 0.2058824 (13)\ttotal: 272ms\tremaining: 782ms\n",
      "58:\tlearn: 1.0000000\ttest: 0.1643836\tbest: 0.2058824 (13)\ttotal: 276ms\tremaining: 777ms\n",
      "59:\tlearn: 1.0000000\ttest: 0.1643836\tbest: 0.2058824 (13)\ttotal: 281ms\tremaining: 773ms\n",
      "60:\tlearn: 1.0000000\ttest: 0.1891892\tbest: 0.2058824 (13)\ttotal: 287ms\tremaining: 770ms\n",
      "61:\tlearn: 1.0000000\ttest: 0.1866667\tbest: 0.2058824 (13)\ttotal: 292ms\tremaining: 766ms\n",
      "62:\tlearn: 1.0000000\ttest: 0.1866667\tbest: 0.2058824 (13)\ttotal: 297ms\tremaining: 763ms\n",
      "63:\tlearn: 1.0000000\ttest: 0.1621622\tbest: 0.2058824 (13)\ttotal: 302ms\tremaining: 760ms\n",
      "64:\tlearn: 1.0000000\ttest: 0.1621622\tbest: 0.2058824 (13)\ttotal: 307ms\tremaining: 755ms\n",
      "65:\tlearn: 1.0000000\ttest: 0.1621622\tbest: 0.2058824 (13)\ttotal: 311ms\tremaining: 750ms\n",
      "66:\tlearn: 1.0000000\ttest: 0.1369863\tbest: 0.2058824 (13)\ttotal: 316ms\tremaining: 745ms\n",
      "67:\tlearn: 1.0000000\ttest: 0.1351351\tbest: 0.2058824 (13)\ttotal: 320ms\tremaining: 740ms\n",
      "68:\tlearn: 1.0000000\ttest: 0.1333333\tbest: 0.2058824 (13)\ttotal: 325ms\tremaining: 735ms\n",
      "69:\tlearn: 1.0000000\ttest: 0.1578947\tbest: 0.2058824 (13)\ttotal: 330ms\tremaining: 731ms\n",
      "70:\tlearn: 1.0000000\ttest: 0.1333333\tbest: 0.2058824 (13)\ttotal: 335ms\tremaining: 726ms\n",
      "71:\tlearn: 1.0000000\ttest: 0.1333333\tbest: 0.2058824 (13)\ttotal: 339ms\tremaining: 721ms\n",
      "72:\tlearn: 1.0000000\ttest: 0.1095890\tbest: 0.2058824 (13)\ttotal: 344ms\tremaining: 716ms\n",
      "73:\tlearn: 1.0000000\ttest: 0.1095890\tbest: 0.2058824 (13)\ttotal: 348ms\tremaining: 711ms\n",
      "74:\tlearn: 1.0000000\ttest: 0.1111111\tbest: 0.2058824 (13)\ttotal: 353ms\tremaining: 706ms\n",
      "75:\tlearn: 1.0000000\ttest: 0.1388889\tbest: 0.2058824 (13)\ttotal: 357ms\tremaining: 701ms\n",
      "76:\tlearn: 1.0000000\ttest: 0.1388889\tbest: 0.2058824 (13)\ttotal: 363ms\tremaining: 697ms\n",
      "77:\tlearn: 1.0000000\ttest: 0.1666667\tbest: 0.2058824 (13)\ttotal: 367ms\tremaining: 691ms\n",
      "78:\tlearn: 1.0000000\ttest: 0.1621622\tbest: 0.2058824 (13)\ttotal: 372ms\tremaining: 687ms\n",
      "79:\tlearn: 1.0000000\ttest: 0.1621622\tbest: 0.2058824 (13)\ttotal: 376ms\tremaining: 682ms\n",
      "80:\tlearn: 1.0000000\ttest: 0.1643836\tbest: 0.2058824 (13)\ttotal: 381ms\tremaining: 677ms\n",
      "81:\tlearn: 1.0000000\ttest: 0.1621622\tbest: 0.2058824 (13)\ttotal: 385ms\tremaining: 671ms\n",
      "82:\tlearn: 1.0000000\ttest: 0.1621622\tbest: 0.2058824 (13)\ttotal: 389ms\tremaining: 666ms\n",
      "83:\tlearn: 1.0000000\ttest: 0.1643836\tbest: 0.2058824 (13)\ttotal: 394ms\tremaining: 661ms\n",
      "84:\tlearn: 1.0000000\ttest: 0.1621622\tbest: 0.2058824 (13)\ttotal: 399ms\tremaining: 657ms\n",
      "85:\tlearn: 1.0000000\ttest: 0.1643836\tbest: 0.2058824 (13)\ttotal: 404ms\tremaining: 652ms\n",
      "86:\tlearn: 1.0000000\ttest: 0.1621622\tbest: 0.2058824 (13)\ttotal: 408ms\tremaining: 647ms\n",
      "87:\tlearn: 1.0000000\ttest: 0.1369863\tbest: 0.2058824 (13)\ttotal: 413ms\tremaining: 642ms\n",
      "88:\tlearn: 1.0000000\ttest: 0.1369863\tbest: 0.2058824 (13)\ttotal: 417ms\tremaining: 638ms\n",
      "89:\tlearn: 1.0000000\ttest: 0.1369863\tbest: 0.2058824 (13)\ttotal: 423ms\tremaining: 634ms\n",
      "90:\tlearn: 1.0000000\ttest: 0.1369863\tbest: 0.2058824 (13)\ttotal: 429ms\tremaining: 631ms\n",
      "91:\tlearn: 1.0000000\ttest: 0.1369863\tbest: 0.2058824 (13)\ttotal: 433ms\tremaining: 626ms\n",
      "92:\tlearn: 1.0000000\ttest: 0.1369863\tbest: 0.2058824 (13)\ttotal: 438ms\tremaining: 621ms\n",
      "93:\tlearn: 1.0000000\ttest: 0.1369863\tbest: 0.2058824 (13)\ttotal: 442ms\tremaining: 616ms\n",
      "94:\tlearn: 1.0000000\ttest: 0.1369863\tbest: 0.2058824 (13)\ttotal: 446ms\tremaining: 611ms\n",
      "95:\tlearn: 1.0000000\ttest: 0.1388889\tbest: 0.2058824 (13)\ttotal: 450ms\tremaining: 605ms\n",
      "96:\tlearn: 1.0000000\ttest: 0.1369863\tbest: 0.2058824 (13)\ttotal: 455ms\tremaining: 600ms\n",
      "97:\tlearn: 1.0000000\ttest: 0.1369863\tbest: 0.2058824 (13)\ttotal: 459ms\tremaining: 595ms\n",
      "98:\tlearn: 1.0000000\ttest: 0.1369863\tbest: 0.2058824 (13)\ttotal: 463ms\tremaining: 589ms\n",
      "99:\tlearn: 1.0000000\ttest: 0.1369863\tbest: 0.2058824 (13)\ttotal: 467ms\tremaining: 584ms\n",
      "100:\tlearn: 1.0000000\ttest: 0.1369863\tbest: 0.2058824 (13)\ttotal: 472ms\tremaining: 579ms\n",
      "101:\tlearn: 1.0000000\ttest: 0.1369863\tbest: 0.2058824 (13)\ttotal: 476ms\tremaining: 574ms\n",
      "102:\tlearn: 1.0000000\ttest: 0.1369863\tbest: 0.2058824 (13)\ttotal: 480ms\tremaining: 568ms\n",
      "103:\tlearn: 1.0000000\ttest: 0.1369863\tbest: 0.2058824 (13)\ttotal: 484ms\tremaining: 563ms\n",
      "104:\tlearn: 1.0000000\ttest: 0.1388889\tbest: 0.2058824 (13)\ttotal: 489ms\tremaining: 559ms\n",
      "105:\tlearn: 1.0000000\ttest: 0.1369863\tbest: 0.2058824 (13)\ttotal: 494ms\tremaining: 555ms\n",
      "106:\tlearn: 1.0000000\ttest: 0.1369863\tbest: 0.2058824 (13)\ttotal: 499ms\tremaining: 550ms\n",
      "107:\tlearn: 1.0000000\ttest: 0.1388889\tbest: 0.2058824 (13)\ttotal: 505ms\tremaining: 547ms\n",
      "108:\tlearn: 1.0000000\ttest: 0.1408451\tbest: 0.2058824 (13)\ttotal: 509ms\tremaining: 542ms\n",
      "109:\tlearn: 1.0000000\ttest: 0.1388889\tbest: 0.2058824 (13)\ttotal: 513ms\tremaining: 537ms\n",
      "110:\tlearn: 1.0000000\ttest: 0.1388889\tbest: 0.2058824 (13)\ttotal: 518ms\tremaining: 532ms\n",
      "111:\tlearn: 1.0000000\ttest: 0.1388889\tbest: 0.2058824 (13)\ttotal: 523ms\tremaining: 528ms\n",
      "112:\tlearn: 1.0000000\ttest: 0.1388889\tbest: 0.2058824 (13)\ttotal: 528ms\tremaining: 523ms\n",
      "113:\tlearn: 1.0000000\ttest: 0.1388889\tbest: 0.2058824 (13)\ttotal: 533ms\tremaining: 518ms\n",
      "114:\tlearn: 1.0000000\ttest: 0.1643836\tbest: 0.2058824 (13)\ttotal: 537ms\tremaining: 514ms\n",
      "115:\tlearn: 1.0000000\ttest: 0.1621622\tbest: 0.2058824 (13)\ttotal: 542ms\tremaining: 509ms\n",
      "116:\tlearn: 1.0000000\ttest: 0.1643836\tbest: 0.2058824 (13)\ttotal: 546ms\tremaining: 504ms\n",
      "117:\tlearn: 1.0000000\ttest: 0.1643836\tbest: 0.2058824 (13)\ttotal: 550ms\tremaining: 499ms\n",
      "118:\tlearn: 1.0000000\ttest: 0.1388889\tbest: 0.2058824 (13)\ttotal: 555ms\tremaining: 494ms\n",
      "119:\tlearn: 1.0000000\ttest: 0.1643836\tbest: 0.2058824 (13)\ttotal: 559ms\tremaining: 489ms\n",
      "120:\tlearn: 1.0000000\ttest: 0.1666667\tbest: 0.2058824 (13)\ttotal: 564ms\tremaining: 484ms\n",
      "121:\tlearn: 1.0000000\ttest: 0.1666667\tbest: 0.2058824 (13)\ttotal: 569ms\tremaining: 480ms\n",
      "122:\tlearn: 1.0000000\ttest: 0.1690141\tbest: 0.2058824 (13)\ttotal: 574ms\tremaining: 476ms\n",
      "123:\tlearn: 1.0000000\ttest: 0.1666667\tbest: 0.2058824 (13)\ttotal: 579ms\tremaining: 471ms\n",
      "124:\tlearn: 1.0000000\ttest: 0.1666667\tbest: 0.2058824 (13)\ttotal: 584ms\tremaining: 467ms\n",
      "125:\tlearn: 1.0000000\ttest: 0.1408451\tbest: 0.2058824 (13)\ttotal: 589ms\tremaining: 463ms\n",
      "126:\tlearn: 1.0000000\ttest: 0.1666667\tbest: 0.2058824 (13)\ttotal: 594ms\tremaining: 458ms\n",
      "127:\tlearn: 1.0000000\ttest: 0.1408451\tbest: 0.2058824 (13)\ttotal: 599ms\tremaining: 454ms\n",
      "128:\tlearn: 1.0000000\ttest: 0.1666667\tbest: 0.2058824 (13)\ttotal: 604ms\tremaining: 449ms\n",
      "129:\tlearn: 1.0000000\ttest: 0.1666667\tbest: 0.2058824 (13)\ttotal: 609ms\tremaining: 445ms\n",
      "130:\tlearn: 1.0000000\ttest: 0.1408451\tbest: 0.2058824 (13)\ttotal: 613ms\tremaining: 440ms\n",
      "131:\tlearn: 1.0000000\ttest: 0.1408451\tbest: 0.2058824 (13)\ttotal: 618ms\tremaining: 435ms\n",
      "132:\tlearn: 1.0000000\ttest: 0.1388889\tbest: 0.2058824 (13)\ttotal: 623ms\tremaining: 431ms\n",
      "133:\tlearn: 1.0000000\ttest: 0.1388889\tbest: 0.2058824 (13)\ttotal: 627ms\tremaining: 426ms\n",
      "134:\tlearn: 1.0000000\ttest: 0.1388889\tbest: 0.2058824 (13)\ttotal: 631ms\tremaining: 421ms\n",
      "135:\tlearn: 1.0000000\ttest: 0.1388889\tbest: 0.2058824 (13)\ttotal: 636ms\tremaining: 416ms\n",
      "136:\tlearn: 1.0000000\ttest: 0.1388889\tbest: 0.2058824 (13)\ttotal: 641ms\tremaining: 411ms\n",
      "137:\tlearn: 1.0000000\ttest: 0.1388889\tbest: 0.2058824 (13)\ttotal: 645ms\tremaining: 407ms\n",
      "138:\tlearn: 1.0000000\ttest: 0.1388889\tbest: 0.2058824 (13)\ttotal: 650ms\tremaining: 402ms\n",
      "139:\tlearn: 1.0000000\ttest: 0.1643836\tbest: 0.2058824 (13)\ttotal: 655ms\tremaining: 397ms\n",
      "140:\tlearn: 1.0000000\ttest: 0.1643836\tbest: 0.2058824 (13)\ttotal: 659ms\tremaining: 393ms\n",
      "141:\tlearn: 1.0000000\ttest: 0.1666667\tbest: 0.2058824 (13)\ttotal: 664ms\tremaining: 388ms\n",
      "142:\tlearn: 1.0000000\ttest: 0.1643836\tbest: 0.2058824 (13)\ttotal: 668ms\tremaining: 383ms\n",
      "143:\tlearn: 1.0000000\ttest: 0.1643836\tbest: 0.2058824 (13)\ttotal: 673ms\tremaining: 379ms\n",
      "144:\tlearn: 1.0000000\ttest: 0.1866667\tbest: 0.2058824 (13)\ttotal: 678ms\tremaining: 374ms\n",
      "145:\tlearn: 1.0000000\ttest: 0.1891892\tbest: 0.2058824 (13)\ttotal: 683ms\tremaining: 369ms\n",
      "146:\tlearn: 1.0000000\ttest: 0.1621622\tbest: 0.2058824 (13)\ttotal: 687ms\tremaining: 365ms\n",
      "147:\tlearn: 1.0000000\ttest: 0.1621622\tbest: 0.2058824 (13)\ttotal: 692ms\tremaining: 360ms\n",
      "148:\tlearn: 1.0000000\ttest: 0.1621622\tbest: 0.2058824 (13)\ttotal: 696ms\tremaining: 355ms\n",
      "149:\tlearn: 1.0000000\ttest: 0.1643836\tbest: 0.2058824 (13)\ttotal: 702ms\tremaining: 351ms\n",
      "150:\tlearn: 1.0000000\ttest: 0.1643836\tbest: 0.2058824 (13)\ttotal: 707ms\tremaining: 346ms\n",
      "151:\tlearn: 1.0000000\ttest: 0.1643836\tbest: 0.2058824 (13)\ttotal: 711ms\tremaining: 342ms\n",
      "152:\tlearn: 1.0000000\ttest: 0.1621622\tbest: 0.2058824 (13)\ttotal: 717ms\tremaining: 337ms\n",
      "153:\tlearn: 1.0000000\ttest: 0.1621622\tbest: 0.2058824 (13)\ttotal: 722ms\tremaining: 333ms\n",
      "154:\tlearn: 1.0000000\ttest: 0.1643836\tbest: 0.2058824 (13)\ttotal: 726ms\tremaining: 328ms\n",
      "155:\tlearn: 1.0000000\ttest: 0.1643836\tbest: 0.2058824 (13)\ttotal: 731ms\tremaining: 323ms\n",
      "156:\tlearn: 1.0000000\ttest: 0.1643836\tbest: 0.2058824 (13)\ttotal: 736ms\tremaining: 319ms\n",
      "157:\tlearn: 1.0000000\ttest: 0.1666667\tbest: 0.2058824 (13)\ttotal: 741ms\tremaining: 314ms\n",
      "158:\tlearn: 1.0000000\ttest: 0.1643836\tbest: 0.2058824 (13)\ttotal: 746ms\tremaining: 310ms\n",
      "159:\tlearn: 1.0000000\ttest: 0.1891892\tbest: 0.2058824 (13)\ttotal: 751ms\tremaining: 305ms\n",
      "160:\tlearn: 1.0000000\ttest: 0.1866667\tbest: 0.2058824 (13)\ttotal: 755ms\tremaining: 300ms\n",
      "161:\tlearn: 1.0000000\ttest: 0.1891892\tbest: 0.2058824 (13)\ttotal: 760ms\tremaining: 296ms\n",
      "162:\tlearn: 1.0000000\ttest: 0.1866667\tbest: 0.2058824 (13)\ttotal: 765ms\tremaining: 291ms\n",
      "163:\tlearn: 1.0000000\ttest: 0.1621622\tbest: 0.2058824 (13)\ttotal: 769ms\tremaining: 286ms\n",
      "164:\tlearn: 1.0000000\ttest: 0.1866667\tbest: 0.2058824 (13)\ttotal: 773ms\tremaining: 281ms\n",
      "165:\tlearn: 1.0000000\ttest: 0.1866667\tbest: 0.2058824 (13)\ttotal: 777ms\tremaining: 276ms\n",
      "166:\tlearn: 1.0000000\ttest: 0.1866667\tbest: 0.2058824 (13)\ttotal: 781ms\tremaining: 271ms\n",
      "167:\tlearn: 1.0000000\ttest: 0.2162162\tbest: 0.2162162 (167)\ttotal: 786ms\tremaining: 267ms\n",
      "168:\tlearn: 1.0000000\ttest: 0.2162162\tbest: 0.2162162 (167)\ttotal: 790ms\tremaining: 262ms\n",
      "169:\tlearn: 1.0000000\ttest: 0.2162162\tbest: 0.2162162 (167)\ttotal: 795ms\tremaining: 257ms\n",
      "170:\tlearn: 1.0000000\ttest: 0.2162162\tbest: 0.2162162 (167)\ttotal: 799ms\tremaining: 252ms\n",
      "171:\tlearn: 1.0000000\ttest: 0.1917808\tbest: 0.2162162 (167)\ttotal: 804ms\tremaining: 248ms\n",
      "172:\tlearn: 1.0000000\ttest: 0.1891892\tbest: 0.2162162 (167)\ttotal: 809ms\tremaining: 243ms\n",
      "173:\tlearn: 1.0000000\ttest: 0.1917808\tbest: 0.2162162 (167)\ttotal: 813ms\tremaining: 238ms\n",
      "174:\tlearn: 1.0000000\ttest: 0.1408451\tbest: 0.2162162 (167)\ttotal: 818ms\tremaining: 234ms\n",
      "175:\tlearn: 1.0000000\ttest: 0.1388889\tbest: 0.2162162 (167)\ttotal: 822ms\tremaining: 229ms\n",
      "176:\tlearn: 1.0000000\ttest: 0.1388889\tbest: 0.2162162 (167)\ttotal: 827ms\tremaining: 224ms\n",
      "177:\tlearn: 1.0000000\ttest: 0.1388889\tbest: 0.2162162 (167)\ttotal: 831ms\tremaining: 219ms\n",
      "178:\tlearn: 1.0000000\ttest: 0.1408451\tbest: 0.2162162 (167)\ttotal: 836ms\tremaining: 215ms\n",
      "179:\tlearn: 1.0000000\ttest: 0.1408451\tbest: 0.2162162 (167)\ttotal: 841ms\tremaining: 210ms\n",
      "180:\tlearn: 1.0000000\ttest: 0.1944444\tbest: 0.2162162 (167)\ttotal: 845ms\tremaining: 206ms\n",
      "181:\tlearn: 1.0000000\ttest: 0.1944444\tbest: 0.2162162 (167)\ttotal: 849ms\tremaining: 201ms\n",
      "182:\tlearn: 1.0000000\ttest: 0.1944444\tbest: 0.2162162 (167)\ttotal: 853ms\tremaining: 196ms\n",
      "183:\tlearn: 1.0000000\ttest: 0.1944444\tbest: 0.2162162 (167)\ttotal: 858ms\tremaining: 191ms\n",
      "184:\tlearn: 1.0000000\ttest: 0.1944444\tbest: 0.2162162 (167)\ttotal: 863ms\tremaining: 187ms\n",
      "185:\tlearn: 1.0000000\ttest: 0.1690141\tbest: 0.2162162 (167)\ttotal: 867ms\tremaining: 182ms\n",
      "186:\tlearn: 1.0000000\ttest: 0.1944444\tbest: 0.2162162 (167)\ttotal: 872ms\tremaining: 177ms\n",
      "187:\tlearn: 1.0000000\ttest: 0.1917808\tbest: 0.2162162 (167)\ttotal: 875ms\tremaining: 172ms\n",
      "188:\tlearn: 1.0000000\ttest: 0.1666667\tbest: 0.2162162 (167)\ttotal: 879ms\tremaining: 167ms\n",
      "189:\tlearn: 1.0000000\ttest: 0.1690141\tbest: 0.2162162 (167)\ttotal: 884ms\tremaining: 163ms\n",
      "190:\tlearn: 1.0000000\ttest: 0.1690141\tbest: 0.2162162 (167)\ttotal: 889ms\tremaining: 158ms\n",
      "191:\tlearn: 1.0000000\ttest: 0.1666667\tbest: 0.2162162 (167)\ttotal: 894ms\tremaining: 154ms\n",
      "192:\tlearn: 1.0000000\ttest: 0.1944444\tbest: 0.2162162 (167)\ttotal: 898ms\tremaining: 149ms\n",
      "193:\tlearn: 1.0000000\ttest: 0.1891892\tbest: 0.2162162 (167)\ttotal: 903ms\tremaining: 144ms\n",
      "194:\tlearn: 1.0000000\ttest: 0.1891892\tbest: 0.2162162 (167)\ttotal: 908ms\tremaining: 140ms\n",
      "195:\tlearn: 1.0000000\ttest: 0.1891892\tbest: 0.2162162 (167)\ttotal: 913ms\tremaining: 135ms\n",
      "196:\tlearn: 1.0000000\ttest: 0.1866667\tbest: 0.2162162 (167)\ttotal: 917ms\tremaining: 130ms\n",
      "197:\tlearn: 1.0000000\ttest: 0.1866667\tbest: 0.2162162 (167)\ttotal: 923ms\tremaining: 126ms\n",
      "198:\tlearn: 1.0000000\ttest: 0.1866667\tbest: 0.2162162 (167)\ttotal: 928ms\tremaining: 121ms\n",
      "199:\tlearn: 1.0000000\ttest: 0.1866667\tbest: 0.2162162 (167)\ttotal: 932ms\tremaining: 117ms\n",
      "200:\tlearn: 1.0000000\ttest: 0.1891892\tbest: 0.2162162 (167)\ttotal: 937ms\tremaining: 112ms\n",
      "201:\tlearn: 1.0000000\ttest: 0.1891892\tbest: 0.2162162 (167)\ttotal: 942ms\tremaining: 107ms\n",
      "202:\tlearn: 1.0000000\ttest: 0.1866667\tbest: 0.2162162 (167)\ttotal: 948ms\tremaining: 103ms\n",
      "203:\tlearn: 1.0000000\ttest: 0.1866667\tbest: 0.2162162 (167)\ttotal: 954ms\tremaining: 98.2ms\n",
      "204:\tlearn: 1.0000000\ttest: 0.1891892\tbest: 0.2162162 (167)\ttotal: 959ms\tremaining: 93.5ms\n",
      "205:\tlearn: 1.0000000\ttest: 0.1891892\tbest: 0.2162162 (167)\ttotal: 964ms\tremaining: 88.9ms\n",
      "206:\tlearn: 1.0000000\ttest: 0.1866667\tbest: 0.2162162 (167)\ttotal: 970ms\tremaining: 84.3ms\n",
      "207:\tlearn: 1.0000000\ttest: 0.1866667\tbest: 0.2162162 (167)\ttotal: 975ms\tremaining: 79.7ms\n",
      "208:\tlearn: 1.0000000\ttest: 0.1891892\tbest: 0.2162162 (167)\ttotal: 980ms\tremaining: 75ms\n",
      "209:\tlearn: 1.0000000\ttest: 0.1866667\tbest: 0.2162162 (167)\ttotal: 985ms\tremaining: 70.3ms\n",
      "210:\tlearn: 1.0000000\ttest: 0.1917808\tbest: 0.2162162 (167)\ttotal: 990ms\tremaining: 65.7ms\n",
      "211:\tlearn: 1.0000000\ttest: 0.1917808\tbest: 0.2162162 (167)\ttotal: 995ms\tremaining: 61ms\n",
      "212:\tlearn: 1.0000000\ttest: 0.1917808\tbest: 0.2162162 (167)\ttotal: 1s\tremaining: 56.4ms\n",
      "213:\tlearn: 1.0000000\ttest: 0.1917808\tbest: 0.2162162 (167)\ttotal: 1.01s\tremaining: 51.8ms\n",
      "214:\tlearn: 1.0000000\ttest: 0.1917808\tbest: 0.2162162 (167)\ttotal: 1.01s\tremaining: 47.1ms\n",
      "215:\tlearn: 1.0000000\ttest: 0.1917808\tbest: 0.2162162 (167)\ttotal: 1.02s\tremaining: 42.4ms\n",
      "216:\tlearn: 1.0000000\ttest: 0.1917808\tbest: 0.2162162 (167)\ttotal: 1.02s\tremaining: 37.7ms\n",
      "217:\tlearn: 1.0000000\ttest: 0.1917808\tbest: 0.2162162 (167)\ttotal: 1.03s\tremaining: 33ms\n",
      "218:\tlearn: 1.0000000\ttest: 0.1917808\tbest: 0.2162162 (167)\ttotal: 1.03s\tremaining: 28.3ms\n",
      "219:\tlearn: 1.0000000\ttest: 0.1917808\tbest: 0.2162162 (167)\ttotal: 1.04s\tremaining: 23.6ms\n",
      "220:\tlearn: 1.0000000\ttest: 0.1917808\tbest: 0.2162162 (167)\ttotal: 1.04s\tremaining: 18.8ms\n",
      "221:\tlearn: 1.0000000\ttest: 0.1917808\tbest: 0.2162162 (167)\ttotal: 1.05s\tremaining: 14.1ms\n",
      "222:\tlearn: 1.0000000\ttest: 0.2162162\tbest: 0.2162162 (167)\ttotal: 1.05s\tremaining: 9.42ms\n",
      "223:\tlearn: 1.0000000\ttest: 0.1891892\tbest: 0.2162162 (167)\ttotal: 1.05s\tremaining: 4.71ms\n",
      "224:\tlearn: 1.0000000\ttest: 0.2133333\tbest: 0.2162162 (167)\ttotal: 1.06s\tremaining: 0us\n",
      "\n",
      "bestTest = 0.2162162162\n",
      "bestIteration = 167\n",
      "\n"
     ]
    }
   ],
   "source": [
    "params[\"eval_metric\"] = \"F1\"\n",
    "params[\"loss_function\"] = \"Logloss\"\n",
    "\n",
    "model = CatBoostClassifier(\n",
    "    **params,\n",
    "    verbose=True\n",
    ")\n",
    "\n",
    "data = Pool(X_train, y_train)\n",
    "\n",
    "cv_results = cv(\n",
    "    params=params,\n",
    "    pool=data,\n",
    "    fold_count=5,\n",
    "    partition_random_seed=42,\n",
    "    shuffle=True,\n",
    ")\n",
    "\n",
    "cv_results.to_csv(outfolder / \"cv_results.csv\", index=False)"
   ]
  },
  {
   "cell_type": "code",
   "execution_count": null,
   "id": "8ef273c3",
   "metadata": {},
   "outputs": [
    {
     "data": {
      "application/vnd.plotly.v1+json": {
       "config": {
        "plotlyServerURL": "https://plot.ly"
       },
       "data": [
        {
         "line": {
          "color": "blue"
         },
         "mode": "lines",
         "name": "Mean F1 Score",
         "type": "scatter",
         "x": {
          "bdata": "AAABAAIAAwAEAAUABgAHAAgACQAKAAsADAANAA4ADwAQABEAEgATABQAFQAWABcAGAAZABoAGwAcAB0AHgAfACAAIQAiACMAJAAlACYAJwAoACkAKgArACwALQAuAC8AMAAxADIAMwA0ADUANgA3ADgAOQA6ADsAPAA9AD4APwBAAEEAQgBDAEQARQBGAEcASABJAEoASwBMAE0ATgBPAFAAUQBSAFMAVABVAFYAVwBYAFkAWgBbAFwAXQBeAF8AYABhAGIAYwBkAGUAZgBnAGgAaQBqAGsAbABtAG4AbwBwAHEAcgBzAHQAdQB2AHcAeAB5AHoAewB8AH0AfgB/AIAAgQCCAIMAhACFAIYAhwCIAIkAigCLAIwAjQCOAI8AkACRAJIAkwCUAJUAlgCXAJgAmQCaAJsAnACdAJ4AnwCgAKEAogCjAKQApQCmAKcAqACpAKoAqwCsAK0ArgCvALAAsQCyALMAtAC1ALYAtwC4ALkAugC7ALwAvQC+AL8AwADBAMIAwwDEAMUAxgDHAMgAyQDKAMsAzADNAM4AzwDQANEA0gDTANQA1QDWANcA2ADZANoA2wDcAN0A3gDfAOAA",
          "dtype": "i2"
         },
         "y": {
          "bdata": "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",
          "dtype": "f8"
         }
        },
        {
         "fill": "toself",
         "fillcolor": "rgba(0, 0, 255, 0.2)",
         "line": {
          "color": "rgba(255, 255, 255, 0)"
         },
         "showlegend": false,
         "type": "scatter",
         "x": {
          "bdata": "AAABAAIAAwAEAAUABgAHAAgACQAKAAsADAANAA4ADwAQABEAEgATABQAFQAWABcAGAAZABoAGwAcAB0AHgAfACAAIQAiACMAJAAlACYAJwAoACkAKgArACwALQAuAC8AMAAxADIAMwA0ADUANgA3ADgAOQA6ADsAPAA9AD4APwBAAEEAQgBDAEQARQBGAEcASABJAEoASwBMAE0ATgBPAFAAUQBSAFMAVABVAFYAVwBYAFkAWgBbAFwAXQBeAF8AYABhAGIAYwBkAGUAZgBnAGgAaQBqAGsAbABtAG4AbwBwAHEAcgBzAHQAdQB2AHcAeAB5AHoAewB8AH0AfgB/AIAAgQCCAIMAhACFAIYAhwCIAIkAigCLAIwAjQCOAI8AkACRAJIAkwCUAJUAlgCXAJgAmQCaAJsAnACdAJ4AnwCgAKEAogCjAKQApQCmAKcAqACpAKoAqwCsAK0ArgCvALAAsQCyALMAtAC1ALYAtwC4ALkAugC7ALwAvQC+AL8AwADBAMIAwwDEAMUAxgDHAMgAyQDKAMsAzADNAM4AzwDQANEA0gDTANQA1QDWANcA2ADZANoA2wDcAN0A3gDfAOAA4ADfAN4A3QDcANsA2gDZANgA1wDWANUA1ADTANIA0QDQAM8AzgDNAMwAywDKAMkAyADHAMYAxQDEAMMAwgDBAMAAvwC+AL0AvAC7ALoAuQC4ALcAtgC1ALQAswCyALEAsACvAK4ArQCsAKsAqgCpAKgApwCmAKUApACjAKIAoQCgAJ8AngCdAJwAmwCaAJkAmACXAJYAlQCUAJMAkgCRAJAAjwCOAI0AjACLAIoAiQCIAIcAhgCFAIQAgwCCAIEAgAB/AH4AfQB8AHsAegB5AHgAdwB2AHUAdABzAHIAcQBwAG8AbgBtAGwAawBqAGkAaABnAGYAZQBkAGMAYgBhAGAAXwBeAF0AXABbAFoAWQBYAFcAVgBVAFQAUwBSAFEAUABPAE4ATQBMAEsASgBJAEgARwBGAEUARABDAEIAQQBAAD8APgA9ADwAOwA6ADkAOAA3ADYANQA0ADMAMgAxADAALwAuAC0ALAArACoAKQAoACcAJgAlACQAIwAiACEAIAAfAB4AHQAcABsAGgAZABgAFwAWABUAFAATABIAEQAQAA8ADgANAAwACwAKAAkACAAHAAYABQAEAAMAAgABAAAA",
          "dtype": "i2"
         },
         "y": {
          "bdata": "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",
          "dtype": "f8"
         }
        }
       ],
       "layout": {
        "template": {
         "data": {
          "bar": [
           {
            "error_x": {
             "color": "#2a3f5f"
            },
            "error_y": {
             "color": "#2a3f5f"
            },
            "marker": {
             "line": {
              "color": "white",
              "width": 0.5
             },
             "pattern": {
              "fillmode": "overlay",
              "size": 10,
              "solidity": 0.2
             }
            },
            "type": "bar"
           }
          ],
          "barpolar": [
           {
            "marker": {
             "line": {
              "color": "white",
              "width": 0.5
             },
             "pattern": {
              "fillmode": "overlay",
              "size": 10,
              "solidity": 0.2
             }
            },
            "type": "barpolar"
           }
          ],
          "carpet": [
           {
            "aaxis": {
             "endlinecolor": "#2a3f5f",
             "gridcolor": "#C8D4E3",
             "linecolor": "#C8D4E3",
             "minorgridcolor": "#C8D4E3",
             "startlinecolor": "#2a3f5f"
            },
            "baxis": {
             "endlinecolor": "#2a3f5f",
             "gridcolor": "#C8D4E3",
             "linecolor": "#C8D4E3",
             "minorgridcolor": "#C8D4E3",
             "startlinecolor": "#2a3f5f"
            },
            "type": "carpet"
           }
          ],
          "choropleth": [
           {
            "colorbar": {
             "outlinewidth": 0,
             "ticks": ""
            },
            "type": "choropleth"
           }
          ],
          "contour": [
           {
            "colorbar": {
             "outlinewidth": 0,
             "ticks": ""
            },
            "colorscale": [
             [
              0,
              "#0d0887"
             ],
             [
              0.1111111111111111,
              "#46039f"
             ],
             [
              0.2222222222222222,
              "#7201a8"
             ],
             [
              0.3333333333333333,
              "#9c179e"
             ],
             [
              0.4444444444444444,
              "#bd3786"
             ],
             [
              0.5555555555555556,
              "#d8576b"
             ],
             [
              0.6666666666666666,
              "#ed7953"
             ],
             [
              0.7777777777777778,
              "#fb9f3a"
             ],
             [
              0.8888888888888888,
              "#fdca26"
             ],
             [
              1,
              "#f0f921"
             ]
            ],
            "type": "contour"
           }
          ],
          "contourcarpet": [
           {
            "colorbar": {
             "outlinewidth": 0,
             "ticks": ""
            },
            "type": "contourcarpet"
           }
          ],
          "heatmap": [
           {
            "colorbar": {
             "outlinewidth": 0,
             "ticks": ""
            },
            "colorscale": [
             [
              0,
              "#0d0887"
             ],
             [
              0.1111111111111111,
              "#46039f"
             ],
             [
              0.2222222222222222,
              "#7201a8"
             ],
             [
              0.3333333333333333,
              "#9c179e"
             ],
             [
              0.4444444444444444,
              "#bd3786"
             ],
             [
              0.5555555555555556,
              "#d8576b"
             ],
             [
              0.6666666666666666,
              "#ed7953"
             ],
             [
              0.7777777777777778,
              "#fb9f3a"
             ],
             [
              0.8888888888888888,
              "#fdca26"
             ],
             [
              1,
              "#f0f921"
             ]
            ],
            "type": "heatmap"
           }
          ],
          "histogram": [
           {
            "marker": {
             "pattern": {
              "fillmode": "overlay",
              "size": 10,
              "solidity": 0.2
             }
            },
            "type": "histogram"
           }
          ],
          "histogram2d": [
           {
            "colorbar": {
             "outlinewidth": 0,
             "ticks": ""
            },
            "colorscale": [
             [
              0,
              "#0d0887"
             ],
             [
              0.1111111111111111,
              "#46039f"
             ],
             [
              0.2222222222222222,
              "#7201a8"
             ],
             [
              0.3333333333333333,
              "#9c179e"
             ],
             [
              0.4444444444444444,
              "#bd3786"
             ],
             [
              0.5555555555555556,
              "#d8576b"
             ],
             [
              0.6666666666666666,
              "#ed7953"
             ],
             [
              0.7777777777777778,
              "#fb9f3a"
             ],
             [
              0.8888888888888888,
              "#fdca26"
             ],
             [
              1,
              "#f0f921"
             ]
            ],
            "type": "histogram2d"
           }
          ],
          "histogram2dcontour": [
           {
            "colorbar": {
             "outlinewidth": 0,
             "ticks": ""
            },
            "colorscale": [
             [
              0,
              "#0d0887"
             ],
             [
              0.1111111111111111,
              "#46039f"
             ],
             [
              0.2222222222222222,
              "#7201a8"
             ],
             [
              0.3333333333333333,
              "#9c179e"
             ],
             [
              0.4444444444444444,
              "#bd3786"
             ],
             [
              0.5555555555555556,
              "#d8576b"
             ],
             [
              0.6666666666666666,
              "#ed7953"
             ],
             [
              0.7777777777777778,
              "#fb9f3a"
             ],
             [
              0.8888888888888888,
              "#fdca26"
             ],
             [
              1,
              "#f0f921"
             ]
            ],
            "type": "histogram2dcontour"
           }
          ],
          "mesh3d": [
           {
            "colorbar": {
             "outlinewidth": 0,
             "ticks": ""
            },
            "type": "mesh3d"
           }
          ],
          "parcoords": [
           {
            "line": {
             "colorbar": {
              "outlinewidth": 0,
              "ticks": ""
             }
            },
            "type": "parcoords"
           }
          ],
          "pie": [
           {
            "automargin": true,
            "type": "pie"
           }
          ],
          "scatter": [
           {
            "fillpattern": {
             "fillmode": "overlay",
             "size": 10,
             "solidity": 0.2
            },
            "type": "scatter"
           }
          ],
          "scatter3d": [
           {
            "line": {
             "colorbar": {
              "outlinewidth": 0,
              "ticks": ""
             }
            },
            "marker": {
             "colorbar": {
              "outlinewidth": 0,
              "ticks": ""
             }
            },
            "type": "scatter3d"
           }
          ],
          "scattercarpet": [
           {
            "marker": {
             "colorbar": {
              "outlinewidth": 0,
              "ticks": ""
             }
            },
            "type": "scattercarpet"
           }
          ],
          "scattergeo": [
           {
            "marker": {
             "colorbar": {
              "outlinewidth": 0,
              "ticks": ""
             }
            },
            "type": "scattergeo"
           }
          ],
          "scattergl": [
           {
            "marker": {
             "colorbar": {
              "outlinewidth": 0,
              "ticks": ""
             }
            },
            "type": "scattergl"
           }
          ],
          "scattermap": [
           {
            "marker": {
             "colorbar": {
              "outlinewidth": 0,
              "ticks": ""
             }
            },
            "type": "scattermap"
           }
          ],
          "scattermapbox": [
           {
            "marker": {
             "colorbar": {
              "outlinewidth": 0,
              "ticks": ""
             }
            },
            "type": "scattermapbox"
           }
          ],
          "scatterpolar": [
           {
            "marker": {
             "colorbar": {
              "outlinewidth": 0,
              "ticks": ""
             }
            },
            "type": "scatterpolar"
           }
          ],
          "scatterpolargl": [
           {
            "marker": {
             "colorbar": {
              "outlinewidth": 0,
              "ticks": ""
             }
            },
            "type": "scatterpolargl"
           }
          ],
          "scatterternary": [
           {
            "marker": {
             "colorbar": {
              "outlinewidth": 0,
              "ticks": ""
             }
            },
            "type": "scatterternary"
           }
          ],
          "surface": [
           {
            "colorbar": {
             "outlinewidth": 0,
             "ticks": ""
            },
            "colorscale": [
             [
              0,
              "#0d0887"
             ],
             [
              0.1111111111111111,
              "#46039f"
             ],
             [
              0.2222222222222222,
              "#7201a8"
             ],
             [
              0.3333333333333333,
              "#9c179e"
             ],
             [
              0.4444444444444444,
              "#bd3786"
             ],
             [
              0.5555555555555556,
              "#d8576b"
             ],
             [
              0.6666666666666666,
              "#ed7953"
             ],
             [
              0.7777777777777778,
              "#fb9f3a"
             ],
             [
              0.8888888888888888,
              "#fdca26"
             ],
             [
              1,
              "#f0f921"
             ]
            ],
            "type": "surface"
           }
          ],
          "table": [
           {
            "cells": {
             "fill": {
              "color": "#EBF0F8"
             },
             "line": {
              "color": "white"
             }
            },
            "header": {
             "fill": {
              "color": "#C8D4E3"
             },
             "line": {
              "color": "white"
             }
            },
            "type": "table"
           }
          ]
         },
         "layout": {
          "annotationdefaults": {
           "arrowcolor": "#2a3f5f",
           "arrowhead": 0,
           "arrowwidth": 1
          },
          "autotypenumbers": "strict",
          "coloraxis": {
           "colorbar": {
            "outlinewidth": 0,
            "ticks": ""
           }
          },
          "colorscale": {
           "diverging": [
            [
             0,
             "#8e0152"
            ],
            [
             0.1,
             "#c51b7d"
            ],
            [
             0.2,
             "#de77ae"
            ],
            [
             0.3,
             "#f1b6da"
            ],
            [
             0.4,
             "#fde0ef"
            ],
            [
             0.5,
             "#f7f7f7"
            ],
            [
             0.6,
             "#e6f5d0"
            ],
            [
             0.7,
             "#b8e186"
            ],
            [
             0.8,
             "#7fbc41"
            ],
            [
             0.9,
             "#4d9221"
            ],
            [
             1,
             "#276419"
            ]
           ],
           "sequential": [
            [
             0,
             "#0d0887"
            ],
            [
             0.1111111111111111,
             "#46039f"
            ],
            [
             0.2222222222222222,
             "#7201a8"
            ],
            [
             0.3333333333333333,
             "#9c179e"
            ],
            [
             0.4444444444444444,
             "#bd3786"
            ],
            [
             0.5555555555555556,
             "#d8576b"
            ],
            [
             0.6666666666666666,
             "#ed7953"
            ],
            [
             0.7777777777777778,
             "#fb9f3a"
            ],
            [
             0.8888888888888888,
             "#fdca26"
            ],
            [
             1,
             "#f0f921"
            ]
           ],
           "sequentialminus": [
            [
             0,
             "#0d0887"
            ],
            [
             0.1111111111111111,
             "#46039f"
            ],
            [
             0.2222222222222222,
             "#7201a8"
            ],
            [
             0.3333333333333333,
             "#9c179e"
            ],
            [
             0.4444444444444444,
             "#bd3786"
            ],
            [
             0.5555555555555556,
             "#d8576b"
            ],
            [
             0.6666666666666666,
             "#ed7953"
            ],
            [
             0.7777777777777778,
             "#fb9f3a"
            ],
            [
             0.8888888888888888,
             "#fdca26"
            ],
            [
             1,
             "#f0f921"
            ]
           ]
          },
          "colorway": [
           "#636efa",
           "#EF553B",
           "#00cc96",
           "#ab63fa",
           "#FFA15A",
           "#19d3f3",
           "#FF6692",
           "#B6E880",
           "#FF97FF",
           "#FECB52"
          ],
          "font": {
           "color": "#2a3f5f"
          },
          "geo": {
           "bgcolor": "white",
           "lakecolor": "white",
           "landcolor": "white",
           "showlakes": true,
           "showland": true,
           "subunitcolor": "#C8D4E3"
          },
          "hoverlabel": {
           "align": "left"
          },
          "hovermode": "closest",
          "mapbox": {
           "style": "light"
          },
          "paper_bgcolor": "white",
          "plot_bgcolor": "white",
          "polar": {
           "angularaxis": {
            "gridcolor": "#EBF0F8",
            "linecolor": "#EBF0F8",
            "ticks": ""
           },
           "bgcolor": "white",
           "radialaxis": {
            "gridcolor": "#EBF0F8",
            "linecolor": "#EBF0F8",
            "ticks": ""
           }
          },
          "scene": {
           "xaxis": {
            "backgroundcolor": "white",
            "gridcolor": "#DFE8F3",
            "gridwidth": 2,
            "linecolor": "#EBF0F8",
            "showbackground": true,
            "ticks": "",
            "zerolinecolor": "#EBF0F8"
           },
           "yaxis": {
            "backgroundcolor": "white",
            "gridcolor": "#DFE8F3",
            "gridwidth": 2,
            "linecolor": "#EBF0F8",
            "showbackground": true,
            "ticks": "",
            "zerolinecolor": "#EBF0F8"
           },
           "zaxis": {
            "backgroundcolor": "white",
            "gridcolor": "#DFE8F3",
            "gridwidth": 2,
            "linecolor": "#EBF0F8",
            "showbackground": true,
            "ticks": "",
            "zerolinecolor": "#EBF0F8"
           }
          },
          "shapedefaults": {
           "line": {
            "color": "#2a3f5f"
           }
          },
          "ternary": {
           "aaxis": {
            "gridcolor": "#DFE8F3",
            "linecolor": "#A2B1C6",
            "ticks": ""
           },
           "baxis": {
            "gridcolor": "#DFE8F3",
            "linecolor": "#A2B1C6",
            "ticks": ""
           },
           "bgcolor": "white",
           "caxis": {
            "gridcolor": "#DFE8F3",
            "linecolor": "#A2B1C6",
            "ticks": ""
           }
          },
          "title": {
           "x": 0.05
          },
          "xaxis": {
           "automargin": true,
           "gridcolor": "#EBF0F8",
           "linecolor": "#EBF0F8",
           "ticks": "",
           "title": {
            "standoff": 15
           },
           "zerolinecolor": "#EBF0F8",
           "zerolinewidth": 2
          },
          "yaxis": {
           "automargin": true,
           "gridcolor": "#EBF0F8",
           "linecolor": "#EBF0F8",
           "ticks": "",
           "title": {
            "standoff": 15
           },
           "zerolinecolor": "#EBF0F8",
           "zerolinewidth": 2
          }
         }
        },
        "title": {
         "text": "Cross-Validation (N=5) Mean F1 score with Error Bands"
        },
        "xaxis": {
         "title": {
          "text": "Training Steps"
         }
        },
        "yaxis": {
         "range": [
          0.5,
          1
         ],
         "title": {
          "text": "Performance Score"
         }
        }
       }
      }
     },
     "metadata": {},
     "output_type": "display_data"
    }
   ],
   "source": [
    "import plotly.graph_objects as go\n",
    "\n",
    "# Create figure\n",
    "fig = go.Figure()\n",
    "\n",
    "# Add mean performance line\n",
    "fig.add_trace(\n",
    "    go.Scatter(\n",
    "        x=cv_results[\"iterations\"], y=cv_results[\"test-F1-mean\"], mode=\"lines\", name=\"Mean F1 Score\", line=dict(color=\"blue\")\n",
    "    )\n",
    ")\n",
    "\n",
    "# Add shaded error region\n",
    "fig.add_trace(\n",
    "    go.Scatter(\n",
    "        x=pd.concat([cv_results[\"iterations\"], cv_results[\"iterations\"][::-1]]),\n",
    "        y=pd.concat([cv_results[\"test-F1-mean\"]+cv_results[\"test-F1-std\"], \n",
    "                     cv_results[\"test-F1-mean\"]-cv_results[\"test-F1-std\"]]),\n",
    "        fill=\"toself\", \n",
    "        fillcolor=\"rgba(0, 0, 255, 0.2)\",\n",
    "        line=dict(color=\"rgba(255, 255, 255, 0)\"),\n",
    "        showlegend=False\n",
    "    )\n",
    ")\n",
    "\n",
    "# Customize layout\n",
    "fig.update_layout(\n",
    "    title=\"Cross-Validation (N=5) Mean F1 score with Error Bands\",\n",
    "    xaxis_title=\"Training Steps\",\n",
    "    yaxis_title=\"Performance Score\",\n",
    "    template=\"plotly_white\",\n",
    "    yaxis=dict(range=[0.5, 1])\n",
    ")\n",
    "\n",
    "fig.show()\n",
    "\n",
    "fig.write_image(outfolder / \"test_f1.png\")"
   ]
  },
  {
   "cell_type": "code",
   "execution_count": 15,
   "id": "f9638e88",
   "metadata": {},
   "outputs": [
    {
     "data": {
      "application/vnd.plotly.v1+json": {
       "config": {
        "plotlyServerURL": "https://plot.ly"
       },
       "data": [
        {
         "line": {
          "color": "blue"
         },
         "mode": "lines",
         "name": "Mean logloss",
         "type": "scatter",
         "x": {
          "bdata": "AAABAAIAAwAEAAUABgAHAAgACQAKAAsADAANAA4ADwAQABEAEgATABQAFQAWABcAGAAZABoAGwAcAB0AHgAfACAAIQAiACMAJAAlACYAJwAoACkAKgArACwALQAuAC8AMAAxADIAMwA0ADUANgA3ADgAOQA6ADsAPAA9AD4APwBAAEEAQgBDAEQARQBGAEcASABJAEoASwBMAE0ATgBPAFAAUQBSAFMAVABVAFYAVwBYAFkAWgBbAFwAXQBeAF8AYABhAGIAYwBkAGUAZgBnAGgAaQBqAGsAbABtAG4AbwBwAHEAcgBzAHQAdQB2AHcAeAB5AHoAewB8AH0AfgB/AIAAgQCCAIMAhACFAIYAhwCIAIkAigCLAIwAjQCOAI8AkACRAJIAkwCUAJUAlgCXAJgAmQCaAJsAnACdAJ4AnwCgAKEAogCjAKQApQCmAKcAqACpAKoAqwCsAK0ArgCvALAAsQCyALMAtAC1ALYAtwC4ALkAugC7ALwAvQC+AL8AwADBAMIAwwDEAMUAxgDHAMgAyQDKAMsAzADNAM4AzwDQANEA0gDTANQA1QDWANcA2ADZANoA2wDcAN0A3gDfAOAA",
          "dtype": "i2"
         },
         "y": {
          "bdata": "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",
          "dtype": "f8"
         }
        },
        {
         "fill": "toself",
         "fillcolor": "rgba(0, 0, 255, 0.2)",
         "line": {
          "color": "rgba(255, 255, 255, 0)"
         },
         "showlegend": false,
         "type": "scatter",
         "x": {
          "bdata": "AAABAAIAAwAEAAUABgAHAAgACQAKAAsADAANAA4ADwAQABEAEgATABQAFQAWABcAGAAZABoAGwAcAB0AHgAfACAAIQAiACMAJAAlACYAJwAoACkAKgArACwALQAuAC8AMAAxADIAMwA0ADUANgA3ADgAOQA6ADsAPAA9AD4APwBAAEEAQgBDAEQARQBGAEcASABJAEoASwBMAE0ATgBPAFAAUQBSAFMAVABVAFYAVwBYAFkAWgBbAFwAXQBeAF8AYABhAGIAYwBkAGUAZgBnAGgAaQBqAGsAbABtAG4AbwBwAHEAcgBzAHQAdQB2AHcAeAB5AHoAewB8AH0AfgB/AIAAgQCCAIMAhACFAIYAhwCIAIkAigCLAIwAjQCOAI8AkACRAJIAkwCUAJUAlgCXAJgAmQCaAJsAnACdAJ4AnwCgAKEAogCjAKQApQCmAKcAqACpAKoAqwCsAK0ArgCvALAAsQCyALMAtAC1ALYAtwC4ALkAugC7ALwAvQC+AL8AwADBAMIAwwDEAMUAxgDHAMgAyQDKAMsAzADNAM4AzwDQANEA0gDTANQA1QDWANcA2ADZANoA2wDcAN0A3gDfAOAA4ADfAN4A3QDcANsA2gDZANgA1wDWANUA1ADTANIA0QDQAM8AzgDNAMwAywDKAMkAyADHAMYAxQDEAMMAwgDBAMAAvwC+AL0AvAC7ALoAuQC4ALcAtgC1ALQAswCyALEAsACvAK4ArQCsAKsAqgCpAKgApwCmAKUApACjAKIAoQCgAJ8AngCdAJwAmwCaAJkAmACXAJYAlQCUAJMAkgCRAJAAjwCOAI0AjACLAIoAiQCIAIcAhgCFAIQAgwCCAIEAgAB/AH4AfQB8AHsAegB5AHgAdwB2AHUAdABzAHIAcQBwAG8AbgBtAGwAawBqAGkAaABnAGYAZQBkAGMAYgBhAGAAXwBeAF0AXABbAFoAWQBYAFcAVgBVAFQAUwBSAFEAUABPAE4ATQBMAEsASgBJAEgARwBGAEUARABDAEIAQQBAAD8APgA9ADwAOwA6ADkAOAA3ADYANQA0ADMAMgAxADAALwAuAC0ALAArACoAKQAoACcAJgAlACQAIwAiACEAIAAfAB4AHQAcABsAGgAZABgAFwAWABUAFAATABIAEQAQAA8ADgANAAwACwAKAAkACAAHAAYABQAEAAMAAgABAAAA",
          "dtype": "i2"
         },
         "y": {
          "bdata": "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",
          "dtype": "f8"
         }
        }
       ],
       "layout": {
        "template": {
         "data": {
          "bar": [
           {
            "error_x": {
             "color": "#2a3f5f"
            },
            "error_y": {
             "color": "#2a3f5f"
            },
            "marker": {
             "line": {
              "color": "white",
              "width": 0.5
             },
             "pattern": {
              "fillmode": "overlay",
              "size": 10,
              "solidity": 0.2
             }
            },
            "type": "bar"
           }
          ],
          "barpolar": [
           {
            "marker": {
             "line": {
              "color": "white",
              "width": 0.5
             },
             "pattern": {
              "fillmode": "overlay",
              "size": 10,
              "solidity": 0.2
             }
            },
            "type": "barpolar"
           }
          ],
          "carpet": [
           {
            "aaxis": {
             "endlinecolor": "#2a3f5f",
             "gridcolor": "#C8D4E3",
             "linecolor": "#C8D4E3",
             "minorgridcolor": "#C8D4E3",
             "startlinecolor": "#2a3f5f"
            },
            "baxis": {
             "endlinecolor": "#2a3f5f",
             "gridcolor": "#C8D4E3",
             "linecolor": "#C8D4E3",
             "minorgridcolor": "#C8D4E3",
             "startlinecolor": "#2a3f5f"
            },
            "type": "carpet"
           }
          ],
          "choropleth": [
           {
            "colorbar": {
             "outlinewidth": 0,
             "ticks": ""
            },
            "type": "choropleth"
           }
          ],
          "contour": [
           {
            "colorbar": {
             "outlinewidth": 0,
             "ticks": ""
            },
            "colorscale": [
             [
              0,
              "#0d0887"
             ],
             [
              0.1111111111111111,
              "#46039f"
             ],
             [
              0.2222222222222222,
              "#7201a8"
             ],
             [
              0.3333333333333333,
              "#9c179e"
             ],
             [
              0.4444444444444444,
              "#bd3786"
             ],
             [
              0.5555555555555556,
              "#d8576b"
             ],
             [
              0.6666666666666666,
              "#ed7953"
             ],
             [
              0.7777777777777778,
              "#fb9f3a"
             ],
             [
              0.8888888888888888,
              "#fdca26"
             ],
             [
              1,
              "#f0f921"
             ]
            ],
            "type": "contour"
           }
          ],
          "contourcarpet": [
           {
            "colorbar": {
             "outlinewidth": 0,
             "ticks": ""
            },
            "type": "contourcarpet"
           }
          ],
          "heatmap": [
           {
            "colorbar": {
             "outlinewidth": 0,
             "ticks": ""
            },
            "colorscale": [
             [
              0,
              "#0d0887"
             ],
             [
              0.1111111111111111,
              "#46039f"
             ],
             [
              0.2222222222222222,
              "#7201a8"
             ],
             [
              0.3333333333333333,
              "#9c179e"
             ],
             [
              0.4444444444444444,
              "#bd3786"
             ],
             [
              0.5555555555555556,
              "#d8576b"
             ],
             [
              0.6666666666666666,
              "#ed7953"
             ],
             [
              0.7777777777777778,
              "#fb9f3a"
             ],
             [
              0.8888888888888888,
              "#fdca26"
             ],
             [
              1,
              "#f0f921"
             ]
            ],
            "type": "heatmap"
           }
          ],
          "histogram": [
           {
            "marker": {
             "pattern": {
              "fillmode": "overlay",
              "size": 10,
              "solidity": 0.2
             }
            },
            "type": "histogram"
           }
          ],
          "histogram2d": [
           {
            "colorbar": {
             "outlinewidth": 0,
             "ticks": ""
            },
            "colorscale": [
             [
              0,
              "#0d0887"
             ],
             [
              0.1111111111111111,
              "#46039f"
             ],
             [
              0.2222222222222222,
              "#7201a8"
             ],
             [
              0.3333333333333333,
              "#9c179e"
             ],
             [
              0.4444444444444444,
              "#bd3786"
             ],
             [
              0.5555555555555556,
              "#d8576b"
             ],
             [
              0.6666666666666666,
              "#ed7953"
             ],
             [
              0.7777777777777778,
              "#fb9f3a"
             ],
             [
              0.8888888888888888,
              "#fdca26"
             ],
             [
              1,
              "#f0f921"
             ]
            ],
            "type": "histogram2d"
           }
          ],
          "histogram2dcontour": [
           {
            "colorbar": {
             "outlinewidth": 0,
             "ticks": ""
            },
            "colorscale": [
             [
              0,
              "#0d0887"
             ],
             [
              0.1111111111111111,
              "#46039f"
             ],
             [
              0.2222222222222222,
              "#7201a8"
             ],
             [
              0.3333333333333333,
              "#9c179e"
             ],
             [
              0.4444444444444444,
              "#bd3786"
             ],
             [
              0.5555555555555556,
              "#d8576b"
             ],
             [
              0.6666666666666666,
              "#ed7953"
             ],
             [
              0.7777777777777778,
              "#fb9f3a"
             ],
             [
              0.8888888888888888,
              "#fdca26"
             ],
             [
              1,
              "#f0f921"
             ]
            ],
            "type": "histogram2dcontour"
           }
          ],
          "mesh3d": [
           {
            "colorbar": {
             "outlinewidth": 0,
             "ticks": ""
            },
            "type": "mesh3d"
           }
          ],
          "parcoords": [
           {
            "line": {
             "colorbar": {
              "outlinewidth": 0,
              "ticks": ""
             }
            },
            "type": "parcoords"
           }
          ],
          "pie": [
           {
            "automargin": true,
            "type": "pie"
           }
          ],
          "scatter": [
           {
            "fillpattern": {
             "fillmode": "overlay",
             "size": 10,
             "solidity": 0.2
            },
            "type": "scatter"
           }
          ],
          "scatter3d": [
           {
            "line": {
             "colorbar": {
              "outlinewidth": 0,
              "ticks": ""
             }
            },
            "marker": {
             "colorbar": {
              "outlinewidth": 0,
              "ticks": ""
             }
            },
            "type": "scatter3d"
           }
          ],
          "scattercarpet": [
           {
            "marker": {
             "colorbar": {
              "outlinewidth": 0,
              "ticks": ""
             }
            },
            "type": "scattercarpet"
           }
          ],
          "scattergeo": [
           {
            "marker": {
             "colorbar": {
              "outlinewidth": 0,
              "ticks": ""
             }
            },
            "type": "scattergeo"
           }
          ],
          "scattergl": [
           {
            "marker": {
             "colorbar": {
              "outlinewidth": 0,
              "ticks": ""
             }
            },
            "type": "scattergl"
           }
          ],
          "scattermap": [
           {
            "marker": {
             "colorbar": {
              "outlinewidth": 0,
              "ticks": ""
             }
            },
            "type": "scattermap"
           }
          ],
          "scattermapbox": [
           {
            "marker": {
             "colorbar": {
              "outlinewidth": 0,
              "ticks": ""
             }
            },
            "type": "scattermapbox"
           }
          ],
          "scatterpolar": [
           {
            "marker": {
             "colorbar": {
              "outlinewidth": 0,
              "ticks": ""
             }
            },
            "type": "scatterpolar"
           }
          ],
          "scatterpolargl": [
           {
            "marker": {
             "colorbar": {
              "outlinewidth": 0,
              "ticks": ""
             }
            },
            "type": "scatterpolargl"
           }
          ],
          "scatterternary": [
           {
            "marker": {
             "colorbar": {
              "outlinewidth": 0,
              "ticks": ""
             }
            },
            "type": "scatterternary"
           }
          ],
          "surface": [
           {
            "colorbar": {
             "outlinewidth": 0,
             "ticks": ""
            },
            "colorscale": [
             [
              0,
              "#0d0887"
             ],
             [
              0.1111111111111111,
              "#46039f"
             ],
             [
              0.2222222222222222,
              "#7201a8"
             ],
             [
              0.3333333333333333,
              "#9c179e"
             ],
             [
              0.4444444444444444,
              "#bd3786"
             ],
             [
              0.5555555555555556,
              "#d8576b"
             ],
             [
              0.6666666666666666,
              "#ed7953"
             ],
             [
              0.7777777777777778,
              "#fb9f3a"
             ],
             [
              0.8888888888888888,
              "#fdca26"
             ],
             [
              1,
              "#f0f921"
             ]
            ],
            "type": "surface"
           }
          ],
          "table": [
           {
            "cells": {
             "fill": {
              "color": "#EBF0F8"
             },
             "line": {
              "color": "white"
             }
            },
            "header": {
             "fill": {
              "color": "#C8D4E3"
             },
             "line": {
              "color": "white"
             }
            },
            "type": "table"
           }
          ]
         },
         "layout": {
          "annotationdefaults": {
           "arrowcolor": "#2a3f5f",
           "arrowhead": 0,
           "arrowwidth": 1
          },
          "autotypenumbers": "strict",
          "coloraxis": {
           "colorbar": {
            "outlinewidth": 0,
            "ticks": ""
           }
          },
          "colorscale": {
           "diverging": [
            [
             0,
             "#8e0152"
            ],
            [
             0.1,
             "#c51b7d"
            ],
            [
             0.2,
             "#de77ae"
            ],
            [
             0.3,
             "#f1b6da"
            ],
            [
             0.4,
             "#fde0ef"
            ],
            [
             0.5,
             "#f7f7f7"
            ],
            [
             0.6,
             "#e6f5d0"
            ],
            [
             0.7,
             "#b8e186"
            ],
            [
             0.8,
             "#7fbc41"
            ],
            [
             0.9,
             "#4d9221"
            ],
            [
             1,
             "#276419"
            ]
           ],
           "sequential": [
            [
             0,
             "#0d0887"
            ],
            [
             0.1111111111111111,
             "#46039f"
            ],
            [
             0.2222222222222222,
             "#7201a8"
            ],
            [
             0.3333333333333333,
             "#9c179e"
            ],
            [
             0.4444444444444444,
             "#bd3786"
            ],
            [
             0.5555555555555556,
             "#d8576b"
            ],
            [
             0.6666666666666666,
             "#ed7953"
            ],
            [
             0.7777777777777778,
             "#fb9f3a"
            ],
            [
             0.8888888888888888,
             "#fdca26"
            ],
            [
             1,
             "#f0f921"
            ]
           ],
           "sequentialminus": [
            [
             0,
             "#0d0887"
            ],
            [
             0.1111111111111111,
             "#46039f"
            ],
            [
             0.2222222222222222,
             "#7201a8"
            ],
            [
             0.3333333333333333,
             "#9c179e"
            ],
            [
             0.4444444444444444,
             "#bd3786"
            ],
            [
             0.5555555555555556,
             "#d8576b"
            ],
            [
             0.6666666666666666,
             "#ed7953"
            ],
            [
             0.7777777777777778,
             "#fb9f3a"
            ],
            [
             0.8888888888888888,
             "#fdca26"
            ],
            [
             1,
             "#f0f921"
            ]
           ]
          },
          "colorway": [
           "#636efa",
           "#EF553B",
           "#00cc96",
           "#ab63fa",
           "#FFA15A",
           "#19d3f3",
           "#FF6692",
           "#B6E880",
           "#FF97FF",
           "#FECB52"
          ],
          "font": {
           "color": "#2a3f5f"
          },
          "geo": {
           "bgcolor": "white",
           "lakecolor": "white",
           "landcolor": "white",
           "showlakes": true,
           "showland": true,
           "subunitcolor": "#C8D4E3"
          },
          "hoverlabel": {
           "align": "left"
          },
          "hovermode": "closest",
          "mapbox": {
           "style": "light"
          },
          "paper_bgcolor": "white",
          "plot_bgcolor": "white",
          "polar": {
           "angularaxis": {
            "gridcolor": "#EBF0F8",
            "linecolor": "#EBF0F8",
            "ticks": ""
           },
           "bgcolor": "white",
           "radialaxis": {
            "gridcolor": "#EBF0F8",
            "linecolor": "#EBF0F8",
            "ticks": ""
           }
          },
          "scene": {
           "xaxis": {
            "backgroundcolor": "white",
            "gridcolor": "#DFE8F3",
            "gridwidth": 2,
            "linecolor": "#EBF0F8",
            "showbackground": true,
            "ticks": "",
            "zerolinecolor": "#EBF0F8"
           },
           "yaxis": {
            "backgroundcolor": "white",
            "gridcolor": "#DFE8F3",
            "gridwidth": 2,
            "linecolor": "#EBF0F8",
            "showbackground": true,
            "ticks": "",
            "zerolinecolor": "#EBF0F8"
           },
           "zaxis": {
            "backgroundcolor": "white",
            "gridcolor": "#DFE8F3",
            "gridwidth": 2,
            "linecolor": "#EBF0F8",
            "showbackground": true,
            "ticks": "",
            "zerolinecolor": "#EBF0F8"
           }
          },
          "shapedefaults": {
           "line": {
            "color": "#2a3f5f"
           }
          },
          "ternary": {
           "aaxis": {
            "gridcolor": "#DFE8F3",
            "linecolor": "#A2B1C6",
            "ticks": ""
           },
           "baxis": {
            "gridcolor": "#DFE8F3",
            "linecolor": "#A2B1C6",
            "ticks": ""
           },
           "bgcolor": "white",
           "caxis": {
            "gridcolor": "#DFE8F3",
            "linecolor": "#A2B1C6",
            "ticks": ""
           }
          },
          "title": {
           "x": 0.05
          },
          "xaxis": {
           "automargin": true,
           "gridcolor": "#EBF0F8",
           "linecolor": "#EBF0F8",
           "ticks": "",
           "title": {
            "standoff": 15
           },
           "zerolinecolor": "#EBF0F8",
           "zerolinewidth": 2
          },
          "yaxis": {
           "automargin": true,
           "gridcolor": "#EBF0F8",
           "linecolor": "#EBF0F8",
           "ticks": "",
           "title": {
            "standoff": 15
           },
           "zerolinecolor": "#EBF0F8",
           "zerolinewidth": 2
          }
         }
        },
        "title": {
         "text": "Cross-Validation (N=5) Mean Logloss with Error Bands"
        },
        "xaxis": {
         "title": {
          "text": "Training Steps"
         }
        },
        "yaxis": {
         "title": {
          "text": "Logloss"
         }
        }
       }
      }
     },
     "metadata": {},
     "output_type": "display_data"
    }
   ],
   "source": [
    "import plotly.graph_objects as go\n",
    "\n",
    "# Create figure\n",
    "fig = go.Figure()\n",
    "\n",
    "# Add mean performance line\n",
    "fig.add_trace(\n",
    "    go.Scatter(\n",
    "        x=cv_results[\"iterations\"], y=cv_results[\"test-Logloss-mean\"], mode=\"lines\", name=\"Mean logloss\", line=dict(color=\"blue\")\n",
    "    )\n",
    ")\n",
    "\n",
    "# Add shaded error region\n",
    "fig.add_trace(\n",
    "    go.Scatter(\n",
    "        x=pd.concat([cv_results[\"iterations\"], cv_results[\"iterations\"][::-1]]),\n",
    "        y=pd.concat([cv_results[\"test-Logloss-mean\"]+cv_results[\"test-Logloss-std\"], \n",
    "                     cv_results[\"test-Logloss-mean\"]-cv_results[\"test-Logloss-std\"]]),\n",
    "        fill=\"toself\", \n",
    "        fillcolor=\"rgba(0, 0, 255, 0.2)\",\n",
    "        line=dict(color=\"rgba(255, 255, 255, 0)\"),\n",
    "        showlegend=False\n",
    "    )\n",
    ")\n",
    "\n",
    "# Customize layout\n",
    "fig.update_layout(\n",
    "    title=\"Cross-Validation (N=5) Mean Logloss with Error Bands\",\n",
    "    xaxis_title=\"Training Steps\",\n",
    "    yaxis_title=\"Logloss\",\n",
    "    template=\"plotly_white\"\n",
    ")\n",
    "\n",
    "fig.show()\n",
    "\n",
    "fig.write_image(outfolder / \"test_logloss.png\")"
   ]
  },
  {
   "cell_type": "code",
   "execution_count": 41,
   "id": "55c3f566",
   "metadata": {},
   "outputs": [
    {
     "data": {
      "application/vnd.jupyter.widget-view+json": {
       "model_id": "71a63723559548898b9d017b7aaa880d",
       "version_major": 2,
       "version_minor": 0
      },
      "text/plain": [
       "MetricVisualizer(layout=Layout(align_self='stretch', height='500px'))"
      ]
     },
     "metadata": {},
     "output_type": "display_data"
    },
    {
     "name": "stdout",
     "output_type": "stream",
     "text": [
      "0:\tlearn: 0.4088398\ttotal: 5.38ms\tremaining: 1.2s\n",
      "50:\tlearn: 1.0000000\ttotal: 252ms\tremaining: 861ms\n",
      "100:\tlearn: 1.0000000\ttotal: 497ms\tremaining: 610ms\n",
      "150:\tlearn: 1.0000000\ttotal: 718ms\tremaining: 352ms\n",
      "200:\tlearn: 1.0000000\ttotal: 938ms\tremaining: 112ms\n",
      "224:\tlearn: 1.0000000\ttotal: 1.06s\tremaining: 0us\n"
     ]
    },
    {
     "data": {
      "text/plain": [
       "['results\\\\model_params.pkl']"
      ]
     },
     "execution_count": 41,
     "metadata": {},
     "output_type": "execute_result"
    }
   ],
   "source": [
    "model.fit(\n",
    "    X_train,\n",
    "    y_train,\n",
    "    verbose_eval=50,\n",
    "    early_stopping_rounds=50,\n",
    "    use_best_model=False,\n",
    "    plot=True\n",
    ")\n",
    "\n",
    "model.save_model(outfolder / 'catboost_model_heart_disease.cbm')#zmienic nazwe pod swoj dataset\n",
    "joblib.dump(params, outfolder / 'model_params.pkl')#zmienic nazwe na wlasna"
   ]
  },
  {
   "cell_type": "code",
   "execution_count": 42,
   "id": "c84542ff",
   "metadata": {},
   "outputs": [],
   "source": [
    "#df_test = pd.read_csv(download_folder / \"test.csv\")"
   ]
  },
  {
   "cell_type": "code",
   "execution_count": 43,
   "id": "8ee2596a",
   "metadata": {},
   "outputs": [
    {
     "data": {
      "text/plain": [
       "array(['No', 'No', 'No', 'Yes', 'No', 'No', 'No', 'No', 'No', 'No', 'No',\n",
       "       'No', 'No', 'No', 'No', 'No', 'No', 'No', 'No', 'No', 'No', 'No',\n",
       "       'No', 'Yes', 'No', 'No', 'No', 'No', 'No', 'No', 'No', 'Yes', 'No',\n",
       "       'Yes', 'No', 'No', 'No', 'Yes', 'No', 'Yes', 'No', 'Yes', 'No',\n",
       "       'No', 'Yes', 'No', 'No', 'No', 'No', 'Yes', 'No', 'No', 'No', 'No',\n",
       "       'No', 'No', 'No', 'No', 'No', 'No', 'Yes', 'Yes', 'No', 'No', 'No',\n",
       "       'No', 'No', 'No', 'No', 'No', 'No', 'No', 'No', 'No', 'No', 'No',\n",
       "       'Yes', 'No', 'No', 'No', 'Yes', 'No', 'No', 'Yes', 'No', 'No',\n",
       "       'No', 'Yes', 'No', 'No', 'No', 'No', 'No', 'No', 'No', 'No', 'No',\n",
       "       'No', 'No', 'No', 'Yes', 'No', 'No', 'No', 'No', 'No', 'No', 'No',\n",
       "       'No', 'No', 'Yes', 'Yes', 'Yes', 'No', 'No', 'No', 'Yes', 'No',\n",
       "       'No', 'No', 'No', 'No', 'Yes', 'No', 'No', 'No', 'No', 'No', 'No',\n",
       "       'No', 'No', 'No', 'No', 'Yes', 'No', 'No', 'No', 'No', 'No', 'No',\n",
       "       'No', 'Yes', 'No', 'No', 'No', 'No', 'No', 'No', 'No', 'No', 'No',\n",
       "       'No', 'No', 'No', 'No', 'No', 'No', 'No', 'No', 'Yes', 'No', 'No',\n",
       "       'No', 'No', 'No', 'Yes', 'Yes', 'No', 'No', 'No', 'No', 'Yes',\n",
       "       'No', 'No', 'No', 'No', 'No', 'Yes', 'Yes', 'No', 'No', 'Yes',\n",
       "       'No', 'No', 'No', 'No', 'No', 'No', 'No', 'No', 'No', 'No', 'Yes',\n",
       "       'No', 'No', 'No', 'Yes', 'No', 'No', 'Yes'], dtype=object)"
      ]
     },
     "execution_count": 43,
     "metadata": {},
     "output_type": "execute_result"
    }
   ],
   "source": [
    "model.predict(df_test)"
   ]
  },
  {
   "cell_type": "code",
   "execution_count": 44,
   "id": "92259ea1",
   "metadata": {},
   "outputs": [],
   "source": [
    "preds = model.predict(df_test[X_train.columns])"
   ]
  },
  {
   "cell_type": "code",
   "execution_count": 45,
   "id": "1ca84026",
   "metadata": {},
   "outputs": [
    {
     "data": {
      "image/png": "[encoded data removed]",
      "text/plain": [
       "<Figure size 800x470 with 2 Axes>"
      ]
     },
     "metadata": {},
     "output_type": "display_data"
    }
   ],
   "source": [
    "import shap\n",
    "import matplotlib.pyplot as plt\n",
    "explainer = shap.TreeExplainer(model)\n",
    "shap_values = explainer.shap_values(df_test)\n",
    "\n",
    "shap.summary_plot(shap_values, df_test, show=False)\n",
    "plt.savefig(outfolder / \"test_shap_overall.png\")"
   ]
  },
  {
   "cell_type": "code",
   "execution_count": 46,
   "id": "70d92d95",
   "metadata": {},
   "outputs": [],
   "source": [
    "df_test[\"target\"] = preds\n",
    "df_test.to_csv(outfolder / \"predictions.csv\", index=False)"
   ]
  }
 ],
 "metadata": {
  "kernelspec": {
   "display_name": "Python 3",
   "language": "python",
   "name": "python3"
  },
  "language_info": {
   "codemirror_mode": {
    "name": "ipython",
    "version": 3
   },
   "file_extension": ".py",
   "mimetype": "text/x-python",
   "name": "python",
   "nbconvert_exporter": "python",
   "pygments_lexer": "ipython3",
   "version": "3.11.0"
  }
 },
 "nbformat": 4,
 "nbformat_minor": 5
}
